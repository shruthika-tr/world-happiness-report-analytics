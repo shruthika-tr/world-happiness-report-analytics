{
 "cells": [
  {
   "cell_type": "raw",
   "id": "f0d02f90-902f-4d85-a4e6-94895228e7a8",
   "metadata": {},
   "source": [
    "pip install plotly pandas"
   ]
  },
  {
   "cell_type": "code",
   "execution_count": 17,
   "id": "4f0624eb-d48b-4edf-959c-5c423b9c223e",
   "metadata": {},
   "outputs": [],
   "source": [
    "import pandas as pd\n",
    "import zipfile\n",
    "import os\n",
    "import plotly.express as px  \n",
    "\n",
    "zip_file_path = r\"C:\\Users\\shrut\\Downloads\\world happiness report.zip\"\n",
    "with zipfile.ZipFile(zip_file_path, 'r') as zip_ref:\n",
    "    zip_ref.extractall(\"world_happiness_data\")"
   ]
  },
  {
   "cell_type": "code",
   "execution_count": 6,
   "id": "59b27e93-4b2f-48e2-89be-5f525e946a10",
   "metadata": {},
   "outputs": [
    {
     "name": "stdout",
     "output_type": "stream",
     "text": [
      "2015 DataFrame:\n",
      "         Country                           Region  Happiness Rank  \\\n",
      "0    Switzerland                   Western Europe               1   \n",
      "1        Iceland                   Western Europe               2   \n",
      "2        Denmark                   Western Europe               3   \n",
      "3         Norway                   Western Europe               4   \n",
      "4         Canada                    North America               5   \n",
      "..           ...                              ...             ...   \n",
      "153       Rwanda               Sub-Saharan Africa             154   \n",
      "154        Benin               Sub-Saharan Africa             155   \n",
      "155        Syria  Middle East and Northern Africa             156   \n",
      "156      Burundi               Sub-Saharan Africa             157   \n",
      "157         Togo               Sub-Saharan Africa             158   \n",
      "\n",
      "     Happiness Score  Standard Error  Economy (GDP per Capita)   Family  \\\n",
      "0              7.587         0.03411                   1.39651  1.34951   \n",
      "1              7.561         0.04884                   1.30232  1.40223   \n",
      "2              7.527         0.03328                   1.32548  1.36058   \n",
      "3              7.522         0.03880                   1.45900  1.33095   \n",
      "4              7.427         0.03553                   1.32629  1.32261   \n",
      "..               ...             ...                       ...      ...   \n",
      "153            3.465         0.03464                   0.22208  0.77370   \n",
      "154            3.340         0.03656                   0.28665  0.35386   \n",
      "155            3.006         0.05015                   0.66320  0.47489   \n",
      "156            2.905         0.08658                   0.01530  0.41587   \n",
      "157            2.839         0.06727                   0.20868  0.13995   \n",
      "\n",
      "     Health (Life Expectancy)  Freedom  Trust (Government Corruption)  \\\n",
      "0                     0.94143  0.66557                        0.41978   \n",
      "1                     0.94784  0.62877                        0.14145   \n",
      "2                     0.87464  0.64938                        0.48357   \n",
      "3                     0.88521  0.66973                        0.36503   \n",
      "4                     0.90563  0.63297                        0.32957   \n",
      "..                        ...      ...                            ...   \n",
      "153                   0.42864  0.59201                        0.55191   \n",
      "154                   0.31910  0.48450                        0.08010   \n",
      "155                   0.72193  0.15684                        0.18906   \n",
      "156                   0.22396  0.11850                        0.10062   \n",
      "157                   0.28443  0.36453                        0.10731   \n",
      "\n",
      "     Generosity  Dystopia Residual  \n",
      "0       0.29678            2.51738  \n",
      "1       0.43630            2.70201  \n",
      "2       0.34139            2.49204  \n",
      "3       0.34699            2.46531  \n",
      "4       0.45811            2.45176  \n",
      "..          ...                ...  \n",
      "153     0.22628            0.67042  \n",
      "154     0.18260            1.63328  \n",
      "155     0.47179            0.32858  \n",
      "156     0.19727            1.83302  \n",
      "157     0.16681            1.56726  \n",
      "\n",
      "[158 rows x 12 columns]\n"
     ]
    }
   ],
   "source": [
    "df_2015 = pd.read_csv(\"world_happiness_data/2015.csv\")\n",
    "print(\"2015 DataFrame:\")\n",
    "print(df_2015)\n"
   ]
  },
  {
   "cell_type": "code",
   "execution_count": 7,
   "id": "225651ef-04d1-4d04-92e3-229c166cb28e",
   "metadata": {},
   "outputs": [
    {
     "name": "stdout",
     "output_type": "stream",
     "text": [
      "\n",
      "2016 DataFrame:\n",
      "         Country                           Region  Happiness Rank  \\\n",
      "0        Denmark                   Western Europe               1   \n",
      "1    Switzerland                   Western Europe               2   \n",
      "2        Iceland                   Western Europe               3   \n",
      "3         Norway                   Western Europe               4   \n",
      "4        Finland                   Western Europe               5   \n",
      "..           ...                              ...             ...   \n",
      "152        Benin               Sub-Saharan Africa             153   \n",
      "153  Afghanistan                    Southern Asia             154   \n",
      "154         Togo               Sub-Saharan Africa             155   \n",
      "155        Syria  Middle East and Northern Africa             156   \n",
      "156      Burundi               Sub-Saharan Africa             157   \n",
      "\n",
      "     Happiness Score  Lower Confidence Interval  Upper Confidence Interval  \\\n",
      "0              7.526                      7.460                      7.592   \n",
      "1              7.509                      7.428                      7.590   \n",
      "2              7.501                      7.333                      7.669   \n",
      "3              7.498                      7.421                      7.575   \n",
      "4              7.413                      7.351                      7.475   \n",
      "..               ...                        ...                        ...   \n",
      "152            3.484                      3.404                      3.564   \n",
      "153            3.360                      3.288                      3.432   \n",
      "154            3.303                      3.192                      3.414   \n",
      "155            3.069                      2.936                      3.202   \n",
      "156            2.905                      2.732                      3.078   \n",
      "\n",
      "     Economy (GDP per Capita)   Family  Health (Life Expectancy)  Freedom  \\\n",
      "0                     1.44178  1.16374                   0.79504  0.57941   \n",
      "1                     1.52733  1.14524                   0.86303  0.58557   \n",
      "2                     1.42666  1.18326                   0.86733  0.56624   \n",
      "3                     1.57744  1.12690                   0.79579  0.59609   \n",
      "4                     1.40598  1.13464                   0.81091  0.57104   \n",
      "..                        ...      ...                       ...      ...   \n",
      "152                   0.39499  0.10419                   0.21028  0.39747   \n",
      "153                   0.38227  0.11037                   0.17344  0.16430   \n",
      "154                   0.28123  0.00000                   0.24811  0.34678   \n",
      "155                   0.74719  0.14866                   0.62994  0.06912   \n",
      "156                   0.06831  0.23442                   0.15747  0.04320   \n",
      "\n",
      "     Trust (Government Corruption)  Generosity  Dystopia Residual  \n",
      "0                          0.44453     0.36171            2.73939  \n",
      "1                          0.41203     0.28083            2.69463  \n",
      "2                          0.14975     0.47678            2.83137  \n",
      "3                          0.35776     0.37895            2.66465  \n",
      "4                          0.41004     0.25492            2.82596  \n",
      "..                             ...         ...                ...  \n",
      "152                        0.06681     0.20180            2.10812  \n",
      "153                        0.07112     0.31268            2.14558  \n",
      "154                        0.11587     0.17517            2.13540  \n",
      "155                        0.17233     0.48397            0.81789  \n",
      "156                        0.09419     0.20290            2.10404  \n",
      "\n",
      "[157 rows x 13 columns]\n"
     ]
    }
   ],
   "source": [
    "df_2016 = pd.read_csv(\"world_happiness_data/2016.csv\")\n",
    "print(\"\\n2016 DataFrame:\")\n",
    "print(df_2016)"
   ]
  },
  {
   "cell_type": "code",
   "execution_count": 8,
   "id": "316dcfc1-cfe9-448e-9589-2dd0cb7e7bf0",
   "metadata": {},
   "outputs": [
    {
     "name": "stdout",
     "output_type": "stream",
     "text": [
      "\n",
      "2017 DataFrame:\n",
      "                      Country  Happiness.Rank  Happiness.Score  Whisker.high  \\\n",
      "0                      Norway               1            7.537      7.594445   \n",
      "1                     Denmark               2            7.522      7.581728   \n",
      "2                     Iceland               3            7.504      7.622030   \n",
      "3                 Switzerland               4            7.494      7.561772   \n",
      "4                     Finland               5            7.469      7.527542   \n",
      "..                        ...             ...              ...           ...   \n",
      "150                    Rwanda             151            3.471      3.543030   \n",
      "151                     Syria             152            3.462      3.663669   \n",
      "152                  Tanzania             153            3.349      3.461430   \n",
      "153                   Burundi             154            2.905      3.074690   \n",
      "154  Central African Republic             155            2.693      2.864884   \n",
      "\n",
      "     Whisker.low  Economy..GDP.per.Capita.    Family  \\\n",
      "0       7.479556                  1.616463  1.533524   \n",
      "1       7.462272                  1.482383  1.551122   \n",
      "2       7.385970                  1.480633  1.610574   \n",
      "3       7.426227                  1.564980  1.516912   \n",
      "4       7.410458                  1.443572  1.540247   \n",
      "..           ...                       ...       ...   \n",
      "150     3.398970                  0.368746  0.945707   \n",
      "151     3.260331                  0.777153  0.396103   \n",
      "152     3.236570                  0.511136  1.041990   \n",
      "153     2.735310                  0.091623  0.629794   \n",
      "154     2.521116                  0.000000  0.000000   \n",
      "\n",
      "     Health..Life.Expectancy.   Freedom  Generosity  \\\n",
      "0                    0.796667  0.635423    0.362012   \n",
      "1                    0.792566  0.626007    0.355280   \n",
      "2                    0.833552  0.627163    0.475540   \n",
      "3                    0.858131  0.620071    0.290549   \n",
      "4                    0.809158  0.617951    0.245483   \n",
      "..                        ...       ...         ...   \n",
      "150                  0.326425  0.581844    0.252756   \n",
      "151                  0.500533  0.081539    0.493664   \n",
      "152                  0.364509  0.390018    0.354256   \n",
      "153                  0.151611  0.059901    0.204435   \n",
      "154                  0.018773  0.270842    0.280876   \n",
      "\n",
      "     Trust..Government.Corruption.  Dystopia.Residual  \n",
      "0                         0.315964           2.277027  \n",
      "1                         0.400770           2.313707  \n",
      "2                         0.153527           2.322715  \n",
      "3                         0.367007           2.276716  \n",
      "4                         0.382612           2.430182  \n",
      "..                             ...                ...  \n",
      "150                       0.455220           0.540061  \n",
      "151                       0.151347           1.061574  \n",
      "152                       0.066035           0.621130  \n",
      "153                       0.084148           1.683024  \n",
      "154                       0.056565           2.066005  \n",
      "\n",
      "[155 rows x 12 columns]\n"
     ]
    }
   ],
   "source": [
    "df_2017 = pd.read_csv(\"world_happiness_data/2017.csv\")\n",
    "print(\"\\n2017 DataFrame:\")\n",
    "print(df_2017)"
   ]
  },
  {
   "cell_type": "code",
   "execution_count": 9,
   "id": "d5590bdd-0e8d-4797-8145-c9cc63fbdeac",
   "metadata": {},
   "outputs": [
    {
     "name": "stdout",
     "output_type": "stream",
     "text": [
      "\n",
      "2018 DataFrame:\n",
      "     Overall rank         Country or region  Score  GDP per capita  \\\n",
      "0               1                   Finland  7.632           1.305   \n",
      "1               2                    Norway  7.594           1.456   \n",
      "2               3                   Denmark  7.555           1.351   \n",
      "3               4                   Iceland  7.495           1.343   \n",
      "4               5               Switzerland  7.487           1.420   \n",
      "..            ...                       ...    ...             ...   \n",
      "151           152                     Yemen  3.355           0.442   \n",
      "152           153                  Tanzania  3.303           0.455   \n",
      "153           154               South Sudan  3.254           0.337   \n",
      "154           155  Central African Republic  3.083           0.024   \n",
      "155           156                   Burundi  2.905           0.091   \n",
      "\n",
      "     Social support  Healthy life expectancy  Freedom to make life choices  \\\n",
      "0             1.592                    0.874                         0.681   \n",
      "1             1.582                    0.861                         0.686   \n",
      "2             1.590                    0.868                         0.683   \n",
      "3             1.644                    0.914                         0.677   \n",
      "4             1.549                    0.927                         0.660   \n",
      "..              ...                      ...                           ...   \n",
      "151           1.073                    0.343                         0.244   \n",
      "152           0.991                    0.381                         0.481   \n",
      "153           0.608                    0.177                         0.112   \n",
      "154           0.000                    0.010                         0.305   \n",
      "155           0.627                    0.145                         0.065   \n",
      "\n",
      "     Generosity  Perceptions of corruption  \n",
      "0         0.202                      0.393  \n",
      "1         0.286                      0.340  \n",
      "2         0.284                      0.408  \n",
      "3         0.353                      0.138  \n",
      "4         0.256                      0.357  \n",
      "..          ...                        ...  \n",
      "151       0.083                      0.064  \n",
      "152       0.270                      0.097  \n",
      "153       0.224                      0.106  \n",
      "154       0.218                      0.038  \n",
      "155       0.149                      0.076  \n",
      "\n",
      "[156 rows x 9 columns]\n"
     ]
    }
   ],
   "source": [
    "df_2018 = pd.read_csv(\"world_happiness_data/2018.csv\")\n",
    "print(\"\\n2018 DataFrame:\")\n",
    "print(df_2018)"
   ]
  },
  {
   "cell_type": "code",
   "execution_count": 12,
   "id": "988ad7b3-ae38-44ce-b1ca-3f2940664c7e",
   "metadata": {},
   "outputs": [
    {
     "name": "stdout",
     "output_type": "stream",
     "text": [
      "\n",
      "2019 DataFrame:\n",
      "     Overall rank         Country or region  Score  GDP per capita  \\\n",
      "0               1                   Finland  7.769           1.340   \n",
      "1               2                   Denmark  7.600           1.383   \n",
      "2               3                    Norway  7.554           1.488   \n",
      "3               4                   Iceland  7.494           1.380   \n",
      "4               5               Netherlands  7.488           1.396   \n",
      "..            ...                       ...    ...             ...   \n",
      "151           152                    Rwanda  3.334           0.359   \n",
      "152           153                  Tanzania  3.231           0.476   \n",
      "153           154               Afghanistan  3.203           0.350   \n",
      "154           155  Central African Republic  3.083           0.026   \n",
      "155           156               South Sudan  2.853           0.306   \n",
      "\n",
      "     Social support  Healthy life expectancy  Freedom to make life choices  \\\n",
      "0             1.587                    0.986                         0.596   \n",
      "1             1.573                    0.996                         0.592   \n",
      "2             1.582                    1.028                         0.603   \n",
      "3             1.624                    1.026                         0.591   \n",
      "4             1.522                    0.999                         0.557   \n",
      "..              ...                      ...                           ...   \n",
      "151           0.711                    0.614                         0.555   \n",
      "152           0.885                    0.499                         0.417   \n",
      "153           0.517                    0.361                         0.000   \n",
      "154           0.000                    0.105                         0.225   \n",
      "155           0.575                    0.295                         0.010   \n",
      "\n",
      "     Generosity  Perceptions of corruption  \n",
      "0         0.153                      0.393  \n",
      "1         0.252                      0.410  \n",
      "2         0.271                      0.341  \n",
      "3         0.354                      0.118  \n",
      "4         0.322                      0.298  \n",
      "..          ...                        ...  \n",
      "151       0.217                      0.411  \n",
      "152       0.276                      0.147  \n",
      "153       0.158                      0.025  \n",
      "154       0.235                      0.035  \n",
      "155       0.202                      0.091  \n",
      "\n",
      "[156 rows x 9 columns]\n"
     ]
    }
   ],
   "source": [
    "df_2019 = pd.read_csv(\"world_happiness_data/2019.csv\")\n",
    "print(\"\\n2019 DataFrame:\")\n",
    "print(df_2019)"
   ]
  },
  {
   "cell_type": "code",
   "execution_count": 13,
   "id": "b773e838-ed08-418c-a405-494cb8615692",
   "metadata": {},
   "outputs": [
    {
     "name": "stdout",
     "output_type": "stream",
     "text": [
      "2015 Columns: Index(['Country', 'Region', 'Happiness Rank', 'Happiness Score',\n",
      "       'Standard Error', 'Economy (GDP per Capita)', 'Family',\n",
      "       'Health (Life Expectancy)', 'Freedom', 'Trust (Government Corruption)',\n",
      "       'Generosity', 'Dystopia Residual'],\n",
      "      dtype='object')\n",
      "2016 Columns: Index(['Country', 'Region', 'Happiness Rank', 'Happiness Score',\n",
      "       'Lower Confidence Interval', 'Upper Confidence Interval',\n",
      "       'Economy (GDP per Capita)', 'Family', 'Health (Life Expectancy)',\n",
      "       'Freedom', 'Trust (Government Corruption)', 'Generosity',\n",
      "       'Dystopia Residual'],\n",
      "      dtype='object')\n",
      "2017 Columns: Index(['Country or region', 'Happiness.Rank', 'Happiness Score',\n",
      "       'Whisker.high', 'Whisker.low', 'Economy..GDP.per.Capita.', 'Family',\n",
      "       'Health..Life.Expectancy.', 'Freedom', 'Generosity',\n",
      "       'Trust..Government.Corruption.', 'Dystopia.Residual'],\n",
      "      dtype='object')\n",
      "2018 Columns: Index(['Overall rank', 'Country', 'Happiness Score', 'GDP per capita',\n",
      "       'Social support', 'Healthy life expectancy',\n",
      "       'Freedom to make life choices', 'Generosity',\n",
      "       'Perceptions of corruption'],\n",
      "      dtype='object')\n",
      "2019 Columns: Index(['Overall rank', 'Country or region', 'Score', 'GDP per capita',\n",
      "       'Social support', 'Healthy life expectancy',\n",
      "       'Freedom to make life choices', 'Generosity',\n",
      "       'Perceptions of corruption'],\n",
      "      dtype='object')\n"
     ]
    }
   ],
   "source": [
    "print(\"2015 Columns:\", df_2015.columns)\n",
    "print(\"2016 Columns:\", df_2016.columns)\n",
    "print(\"2017 Columns:\", df_2017.columns)\n",
    "print(\"2018 Columns:\", df_2018.columns)\n",
    "print(\"2019 Columns:\", df_2019.columns)\n"
   ]
  },
  {
   "cell_type": "code",
   "execution_count": 14,
   "id": "2168fc92-54b8-4540-a46a-8265f6005889",
   "metadata": {},
   "outputs": [
    {
     "name": "stdout",
     "output_type": "stream",
     "text": [
      "2015 Columns: Index(['Country', 'Region', 'Happiness Rank', 'Happiness Score',\n",
      "       'Standard Error', 'Economy (GDP per Capita)', 'Family',\n",
      "       'Health (Life Expectancy)', 'Freedom', 'Trust (Government Corruption)',\n",
      "       'Generosity', 'Dystopia Residual'],\n",
      "      dtype='object')\n",
      "2016 Columns: Index(['Country', 'Region', 'Happiness Rank', 'Happiness Score',\n",
      "       'Lower Confidence Interval', 'Upper Confidence Interval',\n",
      "       'Economy (GDP per Capita)', 'Family', 'Health (Life Expectancy)',\n",
      "       'Freedom', 'Trust (Government Corruption)', 'Generosity',\n",
      "       'Dystopia Residual'],\n",
      "      dtype='object')\n",
      "2017 Columns: Index(['Country or region', 'Happiness.Rank', 'Happiness Score',\n",
      "       'Whisker.high', 'Whisker.low', 'Economy..GDP.per.Capita.', 'Family',\n",
      "       'Health..Life.Expectancy.', 'Freedom', 'Generosity',\n",
      "       'Trust..Government.Corruption.', 'Dystopia.Residual'],\n",
      "      dtype='object')\n",
      "2018 Columns: Index(['Overall rank', 'Country', 'Happiness Score', 'GDP per capita',\n",
      "       'Social support', 'Healthy life expectancy',\n",
      "       'Freedom to make life choices', 'Generosity',\n",
      "       'Perceptions of corruption'],\n",
      "      dtype='object')\n",
      "2019 Columns: Index(['Overall rank', 'Country or region', 'Score', 'GDP per capita',\n",
      "       'Social support', 'Healthy life expectancy',\n",
      "       'Freedom to make life choices', 'Generosity',\n",
      "       'Perceptions of corruption'],\n",
      "      dtype='object')\n"
     ]
    }
   ],
   "source": [
    "print(\"2015 Columns:\", df_2015.columns)\n",
    "print(\"2016 Columns:\", df_2016.columns)\n",
    "print(\"2017 Columns:\", df_2017.columns)\n",
    "print(\"2018 Columns:\", df_2018.columns)\n",
    "print(\"2019 Columns:\", df_2019.columns)\n",
    "\n",
    "df_2015.rename(columns={\"Country\": \"Country\", \"Happiness Score\": \"Happiness Score\"}, inplace=True)\n",
    "df_2016.rename(columns={\"Country\": \"Country\", \"Happiness Score\": \"Happiness Score\"}, inplace=True)\n",
    "df_2017.rename(columns={\"Country or region\": \"Country\", \"Happiness.Score\": \"Happiness Score\"}, inplace=True)\n",
    "df_2018.rename(columns={\"Country or region\": \"Country\", \"Score\": \"Happiness Score\"}, inplace=True)\n",
    "df_2019.rename(columns={\"Country or region\": \"Country\", \"Score\": \"Happiness Score\"}, inplace=True)\n"
   ]
  },
  {
   "cell_type": "code",
   "execution_count": 18,
   "id": "ca50622c-d5a6-4f30-85fa-c6db94ddf4b1",
   "metadata": {},
   "outputs": [],
   "source": [
    "all_years = pd.concat([\n",
    "    df_2015[['Country', 'Happiness Score']],\n",
    "    df_2016[['Country', 'Happiness Score']],\n",
    "    df_2017[['Country', 'Happiness Score']],\n",
    "    df_2018[['Country', 'Happiness Score']],\n",
    "    df_2019[['Country', 'Happiness Score']]\n",
    "])\n"
   ]
  },
  {
   "cell_type": "code",
   "execution_count": 19,
   "id": "822d2b51-29c3-4fe5-9464-ed057ed465e7",
   "metadata": {},
   "outputs": [],
   "source": [
    "\n",
    "average_happiness = all_years.groupby('Country', as_index=False)['Happiness Score'].mean()\n"
   ]
  },
  {
   "cell_type": "code",
   "execution_count": 1,
   "id": "2de974a5-aee7-4f4e-806d-aa8c186b9130",
   "metadata": {},
   "outputs": [
    {
     "ename": "FileNotFoundError",
     "evalue": "[Errno 2] No such file or directory: 'world_happiness_data/2015.csv'",
     "output_type": "error",
     "traceback": [
      "\u001b[1;31m---------------------------------------------------------------------------\u001b[0m",
      "\u001b[1;31mFileNotFoundError\u001b[0m                         Traceback (most recent call last)",
      "Cell \u001b[1;32mIn[1], line 4\u001b[0m\n\u001b[0;32m      1\u001b[0m \u001b[38;5;28;01mimport\u001b[39;00m \u001b[38;5;21;01mpandas\u001b[39;00m \u001b[38;5;28;01mas\u001b[39;00m \u001b[38;5;21;01mpd\u001b[39;00m\n\u001b[0;32m      2\u001b[0m \u001b[38;5;28;01mimport\u001b[39;00m \u001b[38;5;21;01mplotly\u001b[39;00m\u001b[38;5;21;01m.\u001b[39;00m\u001b[38;5;21;01mexpress\u001b[39;00m \u001b[38;5;28;01mas\u001b[39;00m \u001b[38;5;21;01mpx\u001b[39;00m\n\u001b[1;32m----> 4\u001b[0m df_2015 \u001b[38;5;241m=\u001b[39m pd\u001b[38;5;241m.\u001b[39mread_csv(\u001b[38;5;124m\"\u001b[39m\u001b[38;5;124mworld_happiness_data/2015.csv\u001b[39m\u001b[38;5;124m\"\u001b[39m)\n\u001b[0;32m      5\u001b[0m df_2015\u001b[38;5;241m.\u001b[39mrename(columns\u001b[38;5;241m=\u001b[39m{\u001b[38;5;124m\"\u001b[39m\u001b[38;5;124mCountry\u001b[39m\u001b[38;5;124m\"\u001b[39m: \u001b[38;5;124m\"\u001b[39m\u001b[38;5;124mCountry\u001b[39m\u001b[38;5;124m\"\u001b[39m, \u001b[38;5;124m\"\u001b[39m\u001b[38;5;124mHappiness Score\u001b[39m\u001b[38;5;124m\"\u001b[39m: \u001b[38;5;124m\"\u001b[39m\u001b[38;5;124mHappiness Score\u001b[39m\u001b[38;5;124m\"\u001b[39m}, inplace\u001b[38;5;241m=\u001b[39m\u001b[38;5;28;01mTrue\u001b[39;00m)\n\u001b[0;32m      7\u001b[0m fig_2015 \u001b[38;5;241m=\u001b[39m px\u001b[38;5;241m.\u001b[39mchoropleth(\n\u001b[0;32m      8\u001b[0m     df_2015,\n\u001b[0;32m      9\u001b[0m     locations\u001b[38;5;241m=\u001b[39m\u001b[38;5;124m'\u001b[39m\u001b[38;5;124mCountry\u001b[39m\u001b[38;5;124m'\u001b[39m,\n\u001b[1;32m   (...)\u001b[0m\n\u001b[0;32m     14\u001b[0m     title\u001b[38;5;241m=\u001b[39m\u001b[38;5;124m'\u001b[39m\u001b[38;5;124mWorld Happiness Index for 2015\u001b[39m\u001b[38;5;124m'\u001b[39m\n\u001b[0;32m     15\u001b[0m )\n",
      "File \u001b[1;32mc:\\Users\\shrut\\Downloads\\anacprom\\Lib\\site-packages\\pandas\\io\\parsers\\readers.py:1026\u001b[0m, in \u001b[0;36mread_csv\u001b[1;34m(filepath_or_buffer, sep, delimiter, header, names, index_col, usecols, dtype, engine, converters, true_values, false_values, skipinitialspace, skiprows, skipfooter, nrows, na_values, keep_default_na, na_filter, verbose, skip_blank_lines, parse_dates, infer_datetime_format, keep_date_col, date_parser, date_format, dayfirst, cache_dates, iterator, chunksize, compression, thousands, decimal, lineterminator, quotechar, quoting, doublequote, escapechar, comment, encoding, encoding_errors, dialect, on_bad_lines, delim_whitespace, low_memory, memory_map, float_precision, storage_options, dtype_backend)\u001b[0m\n\u001b[0;32m   1013\u001b[0m kwds_defaults \u001b[38;5;241m=\u001b[39m _refine_defaults_read(\n\u001b[0;32m   1014\u001b[0m     dialect,\n\u001b[0;32m   1015\u001b[0m     delimiter,\n\u001b[1;32m   (...)\u001b[0m\n\u001b[0;32m   1022\u001b[0m     dtype_backend\u001b[38;5;241m=\u001b[39mdtype_backend,\n\u001b[0;32m   1023\u001b[0m )\n\u001b[0;32m   1024\u001b[0m kwds\u001b[38;5;241m.\u001b[39mupdate(kwds_defaults)\n\u001b[1;32m-> 1026\u001b[0m \u001b[38;5;28;01mreturn\u001b[39;00m _read(filepath_or_buffer, kwds)\n",
      "File \u001b[1;32mc:\\Users\\shrut\\Downloads\\anacprom\\Lib\\site-packages\\pandas\\io\\parsers\\readers.py:620\u001b[0m, in \u001b[0;36m_read\u001b[1;34m(filepath_or_buffer, kwds)\u001b[0m\n\u001b[0;32m    617\u001b[0m _validate_names(kwds\u001b[38;5;241m.\u001b[39mget(\u001b[38;5;124m\"\u001b[39m\u001b[38;5;124mnames\u001b[39m\u001b[38;5;124m\"\u001b[39m, \u001b[38;5;28;01mNone\u001b[39;00m))\n\u001b[0;32m    619\u001b[0m \u001b[38;5;66;03m# Create the parser.\u001b[39;00m\n\u001b[1;32m--> 620\u001b[0m parser \u001b[38;5;241m=\u001b[39m TextFileReader(filepath_or_buffer, \u001b[38;5;241m*\u001b[39m\u001b[38;5;241m*\u001b[39mkwds)\n\u001b[0;32m    622\u001b[0m \u001b[38;5;28;01mif\u001b[39;00m chunksize \u001b[38;5;129;01mor\u001b[39;00m iterator:\n\u001b[0;32m    623\u001b[0m     \u001b[38;5;28;01mreturn\u001b[39;00m parser\n",
      "File \u001b[1;32mc:\\Users\\shrut\\Downloads\\anacprom\\Lib\\site-packages\\pandas\\io\\parsers\\readers.py:1620\u001b[0m, in \u001b[0;36mTextFileReader.__init__\u001b[1;34m(self, f, engine, **kwds)\u001b[0m\n\u001b[0;32m   1617\u001b[0m     \u001b[38;5;28mself\u001b[39m\u001b[38;5;241m.\u001b[39moptions[\u001b[38;5;124m\"\u001b[39m\u001b[38;5;124mhas_index_names\u001b[39m\u001b[38;5;124m\"\u001b[39m] \u001b[38;5;241m=\u001b[39m kwds[\u001b[38;5;124m\"\u001b[39m\u001b[38;5;124mhas_index_names\u001b[39m\u001b[38;5;124m\"\u001b[39m]\n\u001b[0;32m   1619\u001b[0m \u001b[38;5;28mself\u001b[39m\u001b[38;5;241m.\u001b[39mhandles: IOHandles \u001b[38;5;241m|\u001b[39m \u001b[38;5;28;01mNone\u001b[39;00m \u001b[38;5;241m=\u001b[39m \u001b[38;5;28;01mNone\u001b[39;00m\n\u001b[1;32m-> 1620\u001b[0m \u001b[38;5;28mself\u001b[39m\u001b[38;5;241m.\u001b[39m_engine \u001b[38;5;241m=\u001b[39m \u001b[38;5;28mself\u001b[39m\u001b[38;5;241m.\u001b[39m_make_engine(f, \u001b[38;5;28mself\u001b[39m\u001b[38;5;241m.\u001b[39mengine)\n",
      "File \u001b[1;32mc:\\Users\\shrut\\Downloads\\anacprom\\Lib\\site-packages\\pandas\\io\\parsers\\readers.py:1880\u001b[0m, in \u001b[0;36mTextFileReader._make_engine\u001b[1;34m(self, f, engine)\u001b[0m\n\u001b[0;32m   1878\u001b[0m     \u001b[38;5;28;01mif\u001b[39;00m \u001b[38;5;124m\"\u001b[39m\u001b[38;5;124mb\u001b[39m\u001b[38;5;124m\"\u001b[39m \u001b[38;5;129;01mnot\u001b[39;00m \u001b[38;5;129;01min\u001b[39;00m mode:\n\u001b[0;32m   1879\u001b[0m         mode \u001b[38;5;241m+\u001b[39m\u001b[38;5;241m=\u001b[39m \u001b[38;5;124m\"\u001b[39m\u001b[38;5;124mb\u001b[39m\u001b[38;5;124m\"\u001b[39m\n\u001b[1;32m-> 1880\u001b[0m \u001b[38;5;28mself\u001b[39m\u001b[38;5;241m.\u001b[39mhandles \u001b[38;5;241m=\u001b[39m get_handle(\n\u001b[0;32m   1881\u001b[0m     f,\n\u001b[0;32m   1882\u001b[0m     mode,\n\u001b[0;32m   1883\u001b[0m     encoding\u001b[38;5;241m=\u001b[39m\u001b[38;5;28mself\u001b[39m\u001b[38;5;241m.\u001b[39moptions\u001b[38;5;241m.\u001b[39mget(\u001b[38;5;124m\"\u001b[39m\u001b[38;5;124mencoding\u001b[39m\u001b[38;5;124m\"\u001b[39m, \u001b[38;5;28;01mNone\u001b[39;00m),\n\u001b[0;32m   1884\u001b[0m     compression\u001b[38;5;241m=\u001b[39m\u001b[38;5;28mself\u001b[39m\u001b[38;5;241m.\u001b[39moptions\u001b[38;5;241m.\u001b[39mget(\u001b[38;5;124m\"\u001b[39m\u001b[38;5;124mcompression\u001b[39m\u001b[38;5;124m\"\u001b[39m, \u001b[38;5;28;01mNone\u001b[39;00m),\n\u001b[0;32m   1885\u001b[0m     memory_map\u001b[38;5;241m=\u001b[39m\u001b[38;5;28mself\u001b[39m\u001b[38;5;241m.\u001b[39moptions\u001b[38;5;241m.\u001b[39mget(\u001b[38;5;124m\"\u001b[39m\u001b[38;5;124mmemory_map\u001b[39m\u001b[38;5;124m\"\u001b[39m, \u001b[38;5;28;01mFalse\u001b[39;00m),\n\u001b[0;32m   1886\u001b[0m     is_text\u001b[38;5;241m=\u001b[39mis_text,\n\u001b[0;32m   1887\u001b[0m     errors\u001b[38;5;241m=\u001b[39m\u001b[38;5;28mself\u001b[39m\u001b[38;5;241m.\u001b[39moptions\u001b[38;5;241m.\u001b[39mget(\u001b[38;5;124m\"\u001b[39m\u001b[38;5;124mencoding_errors\u001b[39m\u001b[38;5;124m\"\u001b[39m, \u001b[38;5;124m\"\u001b[39m\u001b[38;5;124mstrict\u001b[39m\u001b[38;5;124m\"\u001b[39m),\n\u001b[0;32m   1888\u001b[0m     storage_options\u001b[38;5;241m=\u001b[39m\u001b[38;5;28mself\u001b[39m\u001b[38;5;241m.\u001b[39moptions\u001b[38;5;241m.\u001b[39mget(\u001b[38;5;124m\"\u001b[39m\u001b[38;5;124mstorage_options\u001b[39m\u001b[38;5;124m\"\u001b[39m, \u001b[38;5;28;01mNone\u001b[39;00m),\n\u001b[0;32m   1889\u001b[0m )\n\u001b[0;32m   1890\u001b[0m \u001b[38;5;28;01massert\u001b[39;00m \u001b[38;5;28mself\u001b[39m\u001b[38;5;241m.\u001b[39mhandles \u001b[38;5;129;01mis\u001b[39;00m \u001b[38;5;129;01mnot\u001b[39;00m \u001b[38;5;28;01mNone\u001b[39;00m\n\u001b[0;32m   1891\u001b[0m f \u001b[38;5;241m=\u001b[39m \u001b[38;5;28mself\u001b[39m\u001b[38;5;241m.\u001b[39mhandles\u001b[38;5;241m.\u001b[39mhandle\n",
      "File \u001b[1;32mc:\\Users\\shrut\\Downloads\\anacprom\\Lib\\site-packages\\pandas\\io\\common.py:873\u001b[0m, in \u001b[0;36mget_handle\u001b[1;34m(path_or_buf, mode, encoding, compression, memory_map, is_text, errors, storage_options)\u001b[0m\n\u001b[0;32m    868\u001b[0m \u001b[38;5;28;01melif\u001b[39;00m \u001b[38;5;28misinstance\u001b[39m(handle, \u001b[38;5;28mstr\u001b[39m):\n\u001b[0;32m    869\u001b[0m     \u001b[38;5;66;03m# Check whether the filename is to be opened in binary mode.\u001b[39;00m\n\u001b[0;32m    870\u001b[0m     \u001b[38;5;66;03m# Binary mode does not support 'encoding' and 'newline'.\u001b[39;00m\n\u001b[0;32m    871\u001b[0m     \u001b[38;5;28;01mif\u001b[39;00m ioargs\u001b[38;5;241m.\u001b[39mencoding \u001b[38;5;129;01mand\u001b[39;00m \u001b[38;5;124m\"\u001b[39m\u001b[38;5;124mb\u001b[39m\u001b[38;5;124m\"\u001b[39m \u001b[38;5;129;01mnot\u001b[39;00m \u001b[38;5;129;01min\u001b[39;00m ioargs\u001b[38;5;241m.\u001b[39mmode:\n\u001b[0;32m    872\u001b[0m         \u001b[38;5;66;03m# Encoding\u001b[39;00m\n\u001b[1;32m--> 873\u001b[0m         handle \u001b[38;5;241m=\u001b[39m \u001b[38;5;28mopen\u001b[39m(\n\u001b[0;32m    874\u001b[0m             handle,\n\u001b[0;32m    875\u001b[0m             ioargs\u001b[38;5;241m.\u001b[39mmode,\n\u001b[0;32m    876\u001b[0m             encoding\u001b[38;5;241m=\u001b[39mioargs\u001b[38;5;241m.\u001b[39mencoding,\n\u001b[0;32m    877\u001b[0m             errors\u001b[38;5;241m=\u001b[39merrors,\n\u001b[0;32m    878\u001b[0m             newline\u001b[38;5;241m=\u001b[39m\u001b[38;5;124m\"\u001b[39m\u001b[38;5;124m\"\u001b[39m,\n\u001b[0;32m    879\u001b[0m         )\n\u001b[0;32m    880\u001b[0m     \u001b[38;5;28;01melse\u001b[39;00m:\n\u001b[0;32m    881\u001b[0m         \u001b[38;5;66;03m# Binary mode\u001b[39;00m\n\u001b[0;32m    882\u001b[0m         handle \u001b[38;5;241m=\u001b[39m \u001b[38;5;28mopen\u001b[39m(handle, ioargs\u001b[38;5;241m.\u001b[39mmode)\n",
      "\u001b[1;31mFileNotFoundError\u001b[0m: [Errno 2] No such file or directory: 'world_happiness_data/2015.csv'"
     ]
    }
   ],
   "source": [
    "import pandas as pd\n",
    "import plotly.express as px\n",
    "\n",
    "df_2015 = pd.read_csv(\"world_happiness_data/2015.csv\")\n",
    "df_2015.rename(columns={\"Country\": \"Country\", \"Happiness Score\": \"Happiness Score\"}, inplace=True)\n",
    "\n",
    "fig_2015 = px.choropleth(\n",
    "    df_2015,\n",
    "    locations='Country',\n",
    "    locationmode='country names',\n",
    "    color='Happiness Score',\n",
    "    hover_name='Country',\n",
    "    color_continuous_scale=px.colors.sequential.Viridis,\n",
    "    title='World Happiness Index for 2015'\n",
    ")\n",
    "\n",
    "fig_2015.update_layout(\n",
    "    geo=dict(\n",
    "        showframe=False,\n",
    "        showcoastlines=False,\n",
    "        projection_type='equirectangular'\n",
    "    ),\n",
    "    coloraxis_colorbar=dict(\n",
    "        title=\"Happiness Score\",\n",
    "        tickvals=[df_2015['Happiness Score'].min(), df_2015['Happiness Score'].max()],\n",
    "        ticktext=[\"Lowest\", \"Highest\"]\n",
    "    )\n",
    ")\n",
    "\n",
    "fig_2015.show()\n"
   ]
  },
  {
   "cell_type": "code",
   "execution_count": 28,
   "id": "edf7a761-25db-4dfa-8799-8f72eb2b944a",
   "metadata": {},
   "outputs": [
    {
     "data": {
      "application/vnd.plotly.v1+json": {
       "config": {
        "plotlyServerURL": "https://plot.ly"
       },
       "data": [
        {
         "coloraxis": "coloraxis",
         "geo": "geo",
         "hovertemplate": "<b>%{hovertext}</b><br><br>Country=%{location}<br>Happiness Score=%{z}<extra></extra>",
         "hovertext": [
          "Denmark",
          "Switzerland",
          "Iceland",
          "Norway",
          "Finland",
          "Canada",
          "Netherlands",
          "New Zealand",
          "Australia",
          "Sweden",
          "Israel",
          "Austria",
          "United States",
          "Costa Rica",
          "Puerto Rico",
          "Germany",
          "Brazil",
          "Belgium",
          "Ireland",
          "Luxembourg",
          "Mexico",
          "Singapore",
          "United Kingdom",
          "Chile",
          "Panama",
          "Argentina",
          "Czech Republic",
          "United Arab Emirates",
          "Uruguay",
          "Malta",
          "Colombia",
          "France",
          "Thailand",
          "Saudi Arabia",
          "Taiwan",
          "Qatar",
          "Spain",
          "Algeria",
          "Guatemala",
          "Suriname",
          "Kuwait",
          "Bahrain",
          "Trinidad and Tobago",
          "Venezuela",
          "Slovakia",
          "El Salvador",
          "Malaysia",
          "Nicaragua",
          "Uzbekistan",
          "Italy",
          "Ecuador",
          "Belize",
          "Japan",
          "Kazakhstan",
          "Moldova",
          "Russia",
          "Poland",
          "South Korea",
          "Bolivia",
          "Lithuania",
          "Belarus",
          "North Cyprus",
          "Slovenia",
          "Peru",
          "Turkmenistan",
          "Mauritius",
          "Libya",
          "Latvia",
          "Cyprus",
          "Paraguay",
          "Romania",
          "Estonia",
          "Jamaica",
          "Croatia",
          "Hong Kong",
          "Somalia",
          "Kosovo",
          "Turkey",
          "Indonesia",
          "Jordan",
          "Azerbaijan",
          "Philippines",
          "China",
          "Bhutan",
          "Kyrgyzstan",
          "Serbia",
          "Bosnia and Herzegovina",
          "Montenegro",
          "Dominican Republic",
          "Morocco",
          "Hungary",
          "Pakistan",
          "Lebanon",
          "Portugal",
          "Macedonia",
          "Vietnam",
          "Somaliland Region",
          "Tunisia",
          "Greece",
          "Tajikistan",
          "Mongolia",
          "Laos",
          "Nigeria",
          "Honduras",
          "Iran",
          "Zambia",
          "Nepal",
          "Palestinian Territories",
          "Albania",
          "Bangladesh",
          "Sierra Leone",
          "Iraq",
          "Namibia",
          "Cameroon",
          "Ethiopia",
          "South Africa",
          "Sri Lanka",
          "India",
          "Myanmar",
          "Egypt",
          "Armenia",
          "Kenya",
          "Ukraine",
          "Ghana",
          "Congo (Kinshasa)",
          "Georgia",
          "Congo (Brazzaville)",
          "Senegal",
          "Bulgaria",
          "Mauritania",
          "Zimbabwe",
          "Malawi",
          "Sudan",
          "Gabon",
          "Mali",
          "Haiti",
          "Botswana",
          "Comoros",
          "Ivory Coast",
          "Cambodia",
          "Angola",
          "Niger",
          "South Sudan",
          "Chad",
          "Burkina Faso",
          "Uganda",
          "Yemen",
          "Madagascar",
          "Tanzania",
          "Liberia",
          "Guinea",
          "Rwanda",
          "Benin",
          "Afghanistan",
          "Togo",
          "Syria",
          "Burundi"
         ],
         "locationmode": "country names",
         "locations": [
          "Denmark",
          "Switzerland",
          "Iceland",
          "Norway",
          "Finland",
          "Canada",
          "Netherlands",
          "New Zealand",
          "Australia",
          "Sweden",
          "Israel",
          "Austria",
          "United States",
          "Costa Rica",
          "Puerto Rico",
          "Germany",
          "Brazil",
          "Belgium",
          "Ireland",
          "Luxembourg",
          "Mexico",
          "Singapore",
          "United Kingdom",
          "Chile",
          "Panama",
          "Argentina",
          "Czech Republic",
          "United Arab Emirates",
          "Uruguay",
          "Malta",
          "Colombia",
          "France",
          "Thailand",
          "Saudi Arabia",
          "Taiwan",
          "Qatar",
          "Spain",
          "Algeria",
          "Guatemala",
          "Suriname",
          "Kuwait",
          "Bahrain",
          "Trinidad and Tobago",
          "Venezuela",
          "Slovakia",
          "El Salvador",
          "Malaysia",
          "Nicaragua",
          "Uzbekistan",
          "Italy",
          "Ecuador",
          "Belize",
          "Japan",
          "Kazakhstan",
          "Moldova",
          "Russia",
          "Poland",
          "South Korea",
          "Bolivia",
          "Lithuania",
          "Belarus",
          "North Cyprus",
          "Slovenia",
          "Peru",
          "Turkmenistan",
          "Mauritius",
          "Libya",
          "Latvia",
          "Cyprus",
          "Paraguay",
          "Romania",
          "Estonia",
          "Jamaica",
          "Croatia",
          "Hong Kong",
          "Somalia",
          "Kosovo",
          "Turkey",
          "Indonesia",
          "Jordan",
          "Azerbaijan",
          "Philippines",
          "China",
          "Bhutan",
          "Kyrgyzstan",
          "Serbia",
          "Bosnia and Herzegovina",
          "Montenegro",
          "Dominican Republic",
          "Morocco",
          "Hungary",
          "Pakistan",
          "Lebanon",
          "Portugal",
          "Macedonia",
          "Vietnam",
          "Somaliland Region",
          "Tunisia",
          "Greece",
          "Tajikistan",
          "Mongolia",
          "Laos",
          "Nigeria",
          "Honduras",
          "Iran",
          "Zambia",
          "Nepal",
          "Palestinian Territories",
          "Albania",
          "Bangladesh",
          "Sierra Leone",
          "Iraq",
          "Namibia",
          "Cameroon",
          "Ethiopia",
          "South Africa",
          "Sri Lanka",
          "India",
          "Myanmar",
          "Egypt",
          "Armenia",
          "Kenya",
          "Ukraine",
          "Ghana",
          "Congo (Kinshasa)",
          "Georgia",
          "Congo (Brazzaville)",
          "Senegal",
          "Bulgaria",
          "Mauritania",
          "Zimbabwe",
          "Malawi",
          "Sudan",
          "Gabon",
          "Mali",
          "Haiti",
          "Botswana",
          "Comoros",
          "Ivory Coast",
          "Cambodia",
          "Angola",
          "Niger",
          "South Sudan",
          "Chad",
          "Burkina Faso",
          "Uganda",
          "Yemen",
          "Madagascar",
          "Tanzania",
          "Liberia",
          "Guinea",
          "Rwanda",
          "Benin",
          "Afghanistan",
          "Togo",
          "Syria",
          "Burundi"
         ],
         "name": "",
         "type": "choropleth",
         "z": [
          7.526,
          7.509,
          7.501,
          7.498,
          7.413,
          7.404,
          7.339,
          7.334,
          7.313,
          7.291,
          7.267,
          7.119,
          7.104,
          7.087,
          7.039,
          6.994,
          6.952,
          6.929,
          6.907,
          6.871,
          6.778,
          6.739,
          6.725,
          6.705,
          6.701,
          6.65,
          6.596,
          6.573,
          6.545,
          6.488,
          6.481,
          6.478,
          6.474,
          6.379,
          6.379,
          6.375,
          6.361,
          6.355,
          6.324,
          6.269,
          6.239,
          6.218,
          6.168,
          6.084,
          6.078,
          6.068,
          6.005,
          5.992,
          5.987,
          5.977,
          5.976,
          5.956,
          5.921,
          5.919,
          5.897,
          5.856,
          5.835,
          5.835,
          5.822,
          5.813,
          5.802,
          5.771,
          5.768,
          5.743,
          5.658,
          5.648,
          5.615,
          5.56,
          5.546,
          5.538,
          5.528,
          5.517,
          5.51,
          5.488,
          5.458,
          5.44,
          5.401,
          5.389,
          5.314,
          5.303,
          5.291,
          5.279,
          5.245,
          5.196,
          5.185,
          5.177,
          5.163,
          5.161,
          5.155,
          5.151,
          5.145,
          5.132,
          5.129,
          5.123,
          5.121,
          5.061,
          5.057,
          5.045,
          5.033,
          4.996,
          4.907,
          4.876,
          4.875,
          4.871,
          4.813,
          4.795,
          4.793,
          4.754,
          4.655,
          4.643,
          4.635,
          4.575,
          4.574,
          4.513,
          4.508,
          4.459,
          4.415,
          4.404,
          4.395,
          4.362,
          4.36,
          4.356,
          4.324,
          4.276,
          4.272,
          4.252,
          4.236,
          4.219,
          4.217,
          4.201,
          4.193,
          4.156,
          4.139,
          4.121,
          4.073,
          4.028,
          3.974,
          3.956,
          3.916,
          3.907,
          3.866,
          3.856,
          3.832,
          3.763,
          3.739,
          3.739,
          3.724,
          3.695,
          3.666,
          3.622,
          3.607,
          3.515,
          3.484,
          3.36,
          3.303,
          3.069,
          2.905
         ]
        }
       ],
       "layout": {
        "autosize": true,
        "coloraxis": {
         "colorbar": {
          "ticktext": [
           "Lowest",
           "Highest"
          ],
          "tickvals": [
           2.905,
           7.526
          ],
          "title": {
           "text": "Happiness Score"
          }
         },
         "colorscale": [
          [
           0,
           "#440154"
          ],
          [
           0.1111111111111111,
           "#482878"
          ],
          [
           0.2222222222222222,
           "#3e4989"
          ],
          [
           0.3333333333333333,
           "#31688e"
          ],
          [
           0.4444444444444444,
           "#26828e"
          ],
          [
           0.5555555555555556,
           "#1f9e89"
          ],
          [
           0.6666666666666666,
           "#35b779"
          ],
          [
           0.7777777777777778,
           "#6ece58"
          ],
          [
           0.8888888888888888,
           "#b5de2b"
          ],
          [
           1,
           "#fde725"
          ]
         ]
        },
        "geo": {
         "center": {
          "lat": 0,
          "lon": 0
         },
         "domain": {
          "x": [
           0,
           1
          ],
          "y": [
           0,
           1
          ]
         },
         "fitbounds": false,
         "projection": {
          "rotation": {
           "lon": 0
          },
          "scale": 1,
          "type": "equirectangular"
         },
         "showcoastlines": false,
         "showframe": false
        },
        "legend": {
         "tracegroupgap": 0
        },
        "template": {
         "data": {
          "bar": [
           {
            "error_x": {
             "color": "#2a3f5f"
            },
            "error_y": {
             "color": "#2a3f5f"
            },
            "marker": {
             "line": {
              "color": "#E5ECF6",
              "width": 0.5
             },
             "pattern": {
              "fillmode": "overlay",
              "size": 10,
              "solidity": 0.2
             }
            },
            "type": "bar"
           }
          ],
          "barpolar": [
           {
            "marker": {
             "line": {
              "color": "#E5ECF6",
              "width": 0.5
             },
             "pattern": {
              "fillmode": "overlay",
              "size": 10,
              "solidity": 0.2
             }
            },
            "type": "barpolar"
           }
          ],
          "carpet": [
           {
            "aaxis": {
             "endlinecolor": "#2a3f5f",
             "gridcolor": "white",
             "linecolor": "white",
             "minorgridcolor": "white",
             "startlinecolor": "#2a3f5f"
            },
            "baxis": {
             "endlinecolor": "#2a3f5f",
             "gridcolor": "white",
             "linecolor": "white",
             "minorgridcolor": "white",
             "startlinecolor": "#2a3f5f"
            },
            "type": "carpet"
           }
          ],
          "choropleth": [
           {
            "colorbar": {
             "outlinewidth": 0,
             "ticks": ""
            },
            "type": "choropleth"
           }
          ],
          "contour": [
           {
            "colorbar": {
             "outlinewidth": 0,
             "ticks": ""
            },
            "colorscale": [
             [
              0,
              "#0d0887"
             ],
             [
              0.1111111111111111,
              "#46039f"
             ],
             [
              0.2222222222222222,
              "#7201a8"
             ],
             [
              0.3333333333333333,
              "#9c179e"
             ],
             [
              0.4444444444444444,
              "#bd3786"
             ],
             [
              0.5555555555555556,
              "#d8576b"
             ],
             [
              0.6666666666666666,
              "#ed7953"
             ],
             [
              0.7777777777777778,
              "#fb9f3a"
             ],
             [
              0.8888888888888888,
              "#fdca26"
             ],
             [
              1,
              "#f0f921"
             ]
            ],
            "type": "contour"
           }
          ],
          "contourcarpet": [
           {
            "colorbar": {
             "outlinewidth": 0,
             "ticks": ""
            },
            "type": "contourcarpet"
           }
          ],
          "heatmap": [
           {
            "colorbar": {
             "outlinewidth": 0,
             "ticks": ""
            },
            "colorscale": [
             [
              0,
              "#0d0887"
             ],
             [
              0.1111111111111111,
              "#46039f"
             ],
             [
              0.2222222222222222,
              "#7201a8"
             ],
             [
              0.3333333333333333,
              "#9c179e"
             ],
             [
              0.4444444444444444,
              "#bd3786"
             ],
             [
              0.5555555555555556,
              "#d8576b"
             ],
             [
              0.6666666666666666,
              "#ed7953"
             ],
             [
              0.7777777777777778,
              "#fb9f3a"
             ],
             [
              0.8888888888888888,
              "#fdca26"
             ],
             [
              1,
              "#f0f921"
             ]
            ],
            "type": "heatmap"
           }
          ],
          "heatmapgl": [
           {
            "colorbar": {
             "outlinewidth": 0,
             "ticks": ""
            },
            "colorscale": [
             [
              0,
              "#0d0887"
             ],
             [
              0.1111111111111111,
              "#46039f"
             ],
             [
              0.2222222222222222,
              "#7201a8"
             ],
             [
              0.3333333333333333,
              "#9c179e"
             ],
             [
              0.4444444444444444,
              "#bd3786"
             ],
             [
              0.5555555555555556,
              "#d8576b"
             ],
             [
              0.6666666666666666,
              "#ed7953"
             ],
             [
              0.7777777777777778,
              "#fb9f3a"
             ],
             [
              0.8888888888888888,
              "#fdca26"
             ],
             [
              1,
              "#f0f921"
             ]
            ],
            "type": "heatmapgl"
           }
          ],
          "histogram": [
           {
            "marker": {
             "pattern": {
              "fillmode": "overlay",
              "size": 10,
              "solidity": 0.2
             }
            },
            "type": "histogram"
           }
          ],
          "histogram2d": [
           {
            "colorbar": {
             "outlinewidth": 0,
             "ticks": ""
            },
            "colorscale": [
             [
              0,
              "#0d0887"
             ],
             [
              0.1111111111111111,
              "#46039f"
             ],
             [
              0.2222222222222222,
              "#7201a8"
             ],
             [
              0.3333333333333333,
              "#9c179e"
             ],
             [
              0.4444444444444444,
              "#bd3786"
             ],
             [
              0.5555555555555556,
              "#d8576b"
             ],
             [
              0.6666666666666666,
              "#ed7953"
             ],
             [
              0.7777777777777778,
              "#fb9f3a"
             ],
             [
              0.8888888888888888,
              "#fdca26"
             ],
             [
              1,
              "#f0f921"
             ]
            ],
            "type": "histogram2d"
           }
          ],
          "histogram2dcontour": [
           {
            "colorbar": {
             "outlinewidth": 0,
             "ticks": ""
            },
            "colorscale": [
             [
              0,
              "#0d0887"
             ],
             [
              0.1111111111111111,
              "#46039f"
             ],
             [
              0.2222222222222222,
              "#7201a8"
             ],
             [
              0.3333333333333333,
              "#9c179e"
             ],
             [
              0.4444444444444444,
              "#bd3786"
             ],
             [
              0.5555555555555556,
              "#d8576b"
             ],
             [
              0.6666666666666666,
              "#ed7953"
             ],
             [
              0.7777777777777778,
              "#fb9f3a"
             ],
             [
              0.8888888888888888,
              "#fdca26"
             ],
             [
              1,
              "#f0f921"
             ]
            ],
            "type": "histogram2dcontour"
           }
          ],
          "mesh3d": [
           {
            "colorbar": {
             "outlinewidth": 0,
             "ticks": ""
            },
            "type": "mesh3d"
           }
          ],
          "parcoords": [
           {
            "line": {
             "colorbar": {
              "outlinewidth": 0,
              "ticks": ""
             }
            },
            "type": "parcoords"
           }
          ],
          "pie": [
           {
            "automargin": true,
            "type": "pie"
           }
          ],
          "scatter": [
           {
            "fillpattern": {
             "fillmode": "overlay",
             "size": 10,
             "solidity": 0.2
            },
            "type": "scatter"
           }
          ],
          "scatter3d": [
           {
            "line": {
             "colorbar": {
              "outlinewidth": 0,
              "ticks": ""
             }
            },
            "marker": {
             "colorbar": {
              "outlinewidth": 0,
              "ticks": ""
             }
            },
            "type": "scatter3d"
           }
          ],
          "scattercarpet": [
           {
            "marker": {
             "colorbar": {
              "outlinewidth": 0,
              "ticks": ""
             }
            },
            "type": "scattercarpet"
           }
          ],
          "scattergeo": [
           {
            "marker": {
             "colorbar": {
              "outlinewidth": 0,
              "ticks": ""
             }
            },
            "type": "scattergeo"
           }
          ],
          "scattergl": [
           {
            "marker": {
             "colorbar": {
              "outlinewidth": 0,
              "ticks": ""
             }
            },
            "type": "scattergl"
           }
          ],
          "scattermapbox": [
           {
            "marker": {
             "colorbar": {
              "outlinewidth": 0,
              "ticks": ""
             }
            },
            "type": "scattermapbox"
           }
          ],
          "scatterpolar": [
           {
            "marker": {
             "colorbar": {
              "outlinewidth": 0,
              "ticks": ""
             }
            },
            "type": "scatterpolar"
           }
          ],
          "scatterpolargl": [
           {
            "marker": {
             "colorbar": {
              "outlinewidth": 0,
              "ticks": ""
             }
            },
            "type": "scatterpolargl"
           }
          ],
          "scatterternary": [
           {
            "marker": {
             "colorbar": {
              "outlinewidth": 0,
              "ticks": ""
             }
            },
            "type": "scatterternary"
           }
          ],
          "surface": [
           {
            "colorbar": {
             "outlinewidth": 0,
             "ticks": ""
            },
            "colorscale": [
             [
              0,
              "#0d0887"
             ],
             [
              0.1111111111111111,
              "#46039f"
             ],
             [
              0.2222222222222222,
              "#7201a8"
             ],
             [
              0.3333333333333333,
              "#9c179e"
             ],
             [
              0.4444444444444444,
              "#bd3786"
             ],
             [
              0.5555555555555556,
              "#d8576b"
             ],
             [
              0.6666666666666666,
              "#ed7953"
             ],
             [
              0.7777777777777778,
              "#fb9f3a"
             ],
             [
              0.8888888888888888,
              "#fdca26"
             ],
             [
              1,
              "#f0f921"
             ]
            ],
            "type": "surface"
           }
          ],
          "table": [
           {
            "cells": {
             "fill": {
              "color": "#EBF0F8"
             },
             "line": {
              "color": "white"
             }
            },
            "header": {
             "fill": {
              "color": "#C8D4E3"
             },
             "line": {
              "color": "white"
             }
            },
            "type": "table"
           }
          ]
         },
         "layout": {
          "annotationdefaults": {
           "arrowcolor": "#2a3f5f",
           "arrowhead": 0,
           "arrowwidth": 1
          },
          "autotypenumbers": "strict",
          "coloraxis": {
           "colorbar": {
            "outlinewidth": 0,
            "ticks": ""
           }
          },
          "colorscale": {
           "diverging": [
            [
             0,
             "#8e0152"
            ],
            [
             0.1,
             "#c51b7d"
            ],
            [
             0.2,
             "#de77ae"
            ],
            [
             0.3,
             "#f1b6da"
            ],
            [
             0.4,
             "#fde0ef"
            ],
            [
             0.5,
             "#f7f7f7"
            ],
            [
             0.6,
             "#e6f5d0"
            ],
            [
             0.7,
             "#b8e186"
            ],
            [
             0.8,
             "#7fbc41"
            ],
            [
             0.9,
             "#4d9221"
            ],
            [
             1,
             "#276419"
            ]
           ],
           "sequential": [
            [
             0,
             "#0d0887"
            ],
            [
             0.1111111111111111,
             "#46039f"
            ],
            [
             0.2222222222222222,
             "#7201a8"
            ],
            [
             0.3333333333333333,
             "#9c179e"
            ],
            [
             0.4444444444444444,
             "#bd3786"
            ],
            [
             0.5555555555555556,
             "#d8576b"
            ],
            [
             0.6666666666666666,
             "#ed7953"
            ],
            [
             0.7777777777777778,
             "#fb9f3a"
            ],
            [
             0.8888888888888888,
             "#fdca26"
            ],
            [
             1,
             "#f0f921"
            ]
           ],
           "sequentialminus": [
            [
             0,
             "#0d0887"
            ],
            [
             0.1111111111111111,
             "#46039f"
            ],
            [
             0.2222222222222222,
             "#7201a8"
            ],
            [
             0.3333333333333333,
             "#9c179e"
            ],
            [
             0.4444444444444444,
             "#bd3786"
            ],
            [
             0.5555555555555556,
             "#d8576b"
            ],
            [
             0.6666666666666666,
             "#ed7953"
            ],
            [
             0.7777777777777778,
             "#fb9f3a"
            ],
            [
             0.8888888888888888,
             "#fdca26"
            ],
            [
             1,
             "#f0f921"
            ]
           ]
          },
          "colorway": [
           "#636efa",
           "#EF553B",
           "#00cc96",
           "#ab63fa",
           "#FFA15A",
           "#19d3f3",
           "#FF6692",
           "#B6E880",
           "#FF97FF",
           "#FECB52"
          ],
          "font": {
           "color": "#2a3f5f"
          },
          "geo": {
           "bgcolor": "white",
           "lakecolor": "white",
           "landcolor": "#E5ECF6",
           "showlakes": true,
           "showland": true,
           "subunitcolor": "white"
          },
          "hoverlabel": {
           "align": "left"
          },
          "hovermode": "closest",
          "mapbox": {
           "style": "light"
          },
          "paper_bgcolor": "white",
          "plot_bgcolor": "#E5ECF6",
          "polar": {
           "angularaxis": {
            "gridcolor": "white",
            "linecolor": "white",
            "ticks": ""
           },
           "bgcolor": "#E5ECF6",
           "radialaxis": {
            "gridcolor": "white",
            "linecolor": "white",
            "ticks": ""
           }
          },
          "scene": {
           "xaxis": {
            "backgroundcolor": "#E5ECF6",
            "gridcolor": "white",
            "gridwidth": 2,
            "linecolor": "white",
            "showbackground": true,
            "ticks": "",
            "zerolinecolor": "white"
           },
           "yaxis": {
            "backgroundcolor": "#E5ECF6",
            "gridcolor": "white",
            "gridwidth": 2,
            "linecolor": "white",
            "showbackground": true,
            "ticks": "",
            "zerolinecolor": "white"
           },
           "zaxis": {
            "backgroundcolor": "#E5ECF6",
            "gridcolor": "white",
            "gridwidth": 2,
            "linecolor": "white",
            "showbackground": true,
            "ticks": "",
            "zerolinecolor": "white"
           }
          },
          "shapedefaults": {
           "line": {
            "color": "#2a3f5f"
           }
          },
          "ternary": {
           "aaxis": {
            "gridcolor": "white",
            "linecolor": "white",
            "ticks": ""
           },
           "baxis": {
            "gridcolor": "white",
            "linecolor": "white",
            "ticks": ""
           },
           "bgcolor": "#E5ECF6",
           "caxis": {
            "gridcolor": "white",
            "linecolor": "white",
            "ticks": ""
           }
          },
          "title": {
           "x": 0.05
          },
          "xaxis": {
           "automargin": true,
           "gridcolor": "white",
           "linecolor": "white",
           "ticks": "",
           "title": {
            "standoff": 15
           },
           "zerolinecolor": "white",
           "zerolinewidth": 2
          },
          "yaxis": {
           "automargin": true,
           "gridcolor": "white",
           "linecolor": "white",
           "ticks": "",
           "title": {
            "standoff": 15
           },
           "zerolinecolor": "white",
           "zerolinewidth": 2
          }
         }
        },
        "title": {
         "text": "World Happiness Index for 2016"
        }
       }
      },
      "image/png": "[encoded data removed]",
      "text/html": [
       "<div>                            <div id=\"e5077a77-24bc-4a4a-b3d7-c0010fd2bcc7\" class=\"plotly-graph-div\" style=\"height:525px; width:100%;\"></div>            <script type=\"text/javascript\">                require([\"plotly\"], function(Plotly) {                    window.PLOTLYENV=window.PLOTLYENV || {};                                    if (document.getElementById(\"e5077a77-24bc-4a4a-b3d7-c0010fd2bcc7\")) {                    Plotly.newPlot(                        \"e5077a77-24bc-4a4a-b3d7-c0010fd2bcc7\",                        [{\"coloraxis\":\"coloraxis\",\"geo\":\"geo\",\"hovertemplate\":\"\\u003cb\\u003e%{hovertext}\\u003c\\u002fb\\u003e\\u003cbr\\u003e\\u003cbr\\u003eCountry=%{location}\\u003cbr\\u003eHappiness Score=%{z}\\u003cextra\\u003e\\u003c\\u002fextra\\u003e\",\"hovertext\":[\"Denmark\",\"Switzerland\",\"Iceland\",\"Norway\",\"Finland\",\"Canada\",\"Netherlands\",\"New Zealand\",\"Australia\",\"Sweden\",\"Israel\",\"Austria\",\"United States\",\"Costa Rica\",\"Puerto Rico\",\"Germany\",\"Brazil\",\"Belgium\",\"Ireland\",\"Luxembourg\",\"Mexico\",\"Singapore\",\"United Kingdom\",\"Chile\",\"Panama\",\"Argentina\",\"Czech Republic\",\"United Arab Emirates\",\"Uruguay\",\"Malta\",\"Colombia\",\"France\",\"Thailand\",\"Saudi Arabia\",\"Taiwan\",\"Qatar\",\"Spain\",\"Algeria\",\"Guatemala\",\"Suriname\",\"Kuwait\",\"Bahrain\",\"Trinidad and Tobago\",\"Venezuela\",\"Slovakia\",\"El Salvador\",\"Malaysia\",\"Nicaragua\",\"Uzbekistan\",\"Italy\",\"Ecuador\",\"Belize\",\"Japan\",\"Kazakhstan\",\"Moldova\",\"Russia\",\"Poland\",\"South Korea\",\"Bolivia\",\"Lithuania\",\"Belarus\",\"North Cyprus\",\"Slovenia\",\"Peru\",\"Turkmenistan\",\"Mauritius\",\"Libya\",\"Latvia\",\"Cyprus\",\"Paraguay\",\"Romania\",\"Estonia\",\"Jamaica\",\"Croatia\",\"Hong Kong\",\"Somalia\",\"Kosovo\",\"Turkey\",\"Indonesia\",\"Jordan\",\"Azerbaijan\",\"Philippines\",\"China\",\"Bhutan\",\"Kyrgyzstan\",\"Serbia\",\"Bosnia and Herzegovina\",\"Montenegro\",\"Dominican Republic\",\"Morocco\",\"Hungary\",\"Pakistan\",\"Lebanon\",\"Portugal\",\"Macedonia\",\"Vietnam\",\"Somaliland Region\",\"Tunisia\",\"Greece\",\"Tajikistan\",\"Mongolia\",\"Laos\",\"Nigeria\",\"Honduras\",\"Iran\",\"Zambia\",\"Nepal\",\"Palestinian Territories\",\"Albania\",\"Bangladesh\",\"Sierra Leone\",\"Iraq\",\"Namibia\",\"Cameroon\",\"Ethiopia\",\"South Africa\",\"Sri Lanka\",\"India\",\"Myanmar\",\"Egypt\",\"Armenia\",\"Kenya\",\"Ukraine\",\"Ghana\",\"Congo (Kinshasa)\",\"Georgia\",\"Congo (Brazzaville)\",\"Senegal\",\"Bulgaria\",\"Mauritania\",\"Zimbabwe\",\"Malawi\",\"Sudan\",\"Gabon\",\"Mali\",\"Haiti\",\"Botswana\",\"Comoros\",\"Ivory Coast\",\"Cambodia\",\"Angola\",\"Niger\",\"South Sudan\",\"Chad\",\"Burkina Faso\",\"Uganda\",\"Yemen\",\"Madagascar\",\"Tanzania\",\"Liberia\",\"Guinea\",\"Rwanda\",\"Benin\",\"Afghanistan\",\"Togo\",\"Syria\",\"Burundi\"],\"locationmode\":\"country names\",\"locations\":[\"Denmark\",\"Switzerland\",\"Iceland\",\"Norway\",\"Finland\",\"Canada\",\"Netherlands\",\"New Zealand\",\"Australia\",\"Sweden\",\"Israel\",\"Austria\",\"United States\",\"Costa Rica\",\"Puerto Rico\",\"Germany\",\"Brazil\",\"Belgium\",\"Ireland\",\"Luxembourg\",\"Mexico\",\"Singapore\",\"United Kingdom\",\"Chile\",\"Panama\",\"Argentina\",\"Czech Republic\",\"United Arab Emirates\",\"Uruguay\",\"Malta\",\"Colombia\",\"France\",\"Thailand\",\"Saudi Arabia\",\"Taiwan\",\"Qatar\",\"Spain\",\"Algeria\",\"Guatemala\",\"Suriname\",\"Kuwait\",\"Bahrain\",\"Trinidad and Tobago\",\"Venezuela\",\"Slovakia\",\"El Salvador\",\"Malaysia\",\"Nicaragua\",\"Uzbekistan\",\"Italy\",\"Ecuador\",\"Belize\",\"Japan\",\"Kazakhstan\",\"Moldova\",\"Russia\",\"Poland\",\"South Korea\",\"Bolivia\",\"Lithuania\",\"Belarus\",\"North Cyprus\",\"Slovenia\",\"Peru\",\"Turkmenistan\",\"Mauritius\",\"Libya\",\"Latvia\",\"Cyprus\",\"Paraguay\",\"Romania\",\"Estonia\",\"Jamaica\",\"Croatia\",\"Hong Kong\",\"Somalia\",\"Kosovo\",\"Turkey\",\"Indonesia\",\"Jordan\",\"Azerbaijan\",\"Philippines\",\"China\",\"Bhutan\",\"Kyrgyzstan\",\"Serbia\",\"Bosnia and Herzegovina\",\"Montenegro\",\"Dominican Republic\",\"Morocco\",\"Hungary\",\"Pakistan\",\"Lebanon\",\"Portugal\",\"Macedonia\",\"Vietnam\",\"Somaliland Region\",\"Tunisia\",\"Greece\",\"Tajikistan\",\"Mongolia\",\"Laos\",\"Nigeria\",\"Honduras\",\"Iran\",\"Zambia\",\"Nepal\",\"Palestinian Territories\",\"Albania\",\"Bangladesh\",\"Sierra Leone\",\"Iraq\",\"Namibia\",\"Cameroon\",\"Ethiopia\",\"South Africa\",\"Sri Lanka\",\"India\",\"Myanmar\",\"Egypt\",\"Armenia\",\"Kenya\",\"Ukraine\",\"Ghana\",\"Congo (Kinshasa)\",\"Georgia\",\"Congo (Brazzaville)\",\"Senegal\",\"Bulgaria\",\"Mauritania\",\"Zimbabwe\",\"Malawi\",\"Sudan\",\"Gabon\",\"Mali\",\"Haiti\",\"Botswana\",\"Comoros\",\"Ivory Coast\",\"Cambodia\",\"Angola\",\"Niger\",\"South Sudan\",\"Chad\",\"Burkina Faso\",\"Uganda\",\"Yemen\",\"Madagascar\",\"Tanzania\",\"Liberia\",\"Guinea\",\"Rwanda\",\"Benin\",\"Afghanistan\",\"Togo\",\"Syria\",\"Burundi\"],\"name\":\"\",\"z\":[7.526,7.509,7.501,7.498,7.413,7.404,7.339,7.334,7.313,7.291,7.267,7.119,7.104,7.087,7.039,6.994,6.952,6.929,6.907,6.871,6.778,6.739,6.725,6.705,6.701,6.65,6.596,6.573,6.545,6.488,6.481,6.478,6.474,6.379,6.379,6.375,6.361,6.355,6.324,6.269,6.239,6.218,6.168,6.084,6.078,6.068,6.005,5.992,5.987,5.977,5.976,5.956,5.921,5.919,5.897,5.856,5.835,5.835,5.822,5.813,5.802,5.771,5.768,5.743,5.658,5.648,5.615,5.56,5.546,5.538,5.528,5.517,5.51,5.488,5.458,5.44,5.401,5.389,5.314,5.303,5.291,5.279,5.245,5.196,5.185,5.177,5.163,5.161,5.155,5.151,5.145,5.132,5.129,5.123,5.121,5.061,5.057,5.045,5.033,4.996,4.907,4.876,4.875,4.871,4.813,4.795,4.793,4.754,4.655,4.643,4.635,4.575,4.574,4.513,4.508,4.459,4.415,4.404,4.395,4.362,4.36,4.356,4.324,4.276,4.272,4.252,4.236,4.219,4.217,4.201,4.193,4.156,4.139,4.121,4.073,4.028,3.974,3.956,3.916,3.907,3.866,3.856,3.832,3.763,3.739,3.739,3.724,3.695,3.666,3.622,3.607,3.515,3.484,3.36,3.303,3.069,2.905],\"type\":\"choropleth\"}],                        {\"template\":{\"data\":{\"histogram2dcontour\":[{\"type\":\"histogram2dcontour\",\"colorbar\":{\"outlinewidth\":0,\"ticks\":\"\"},\"colorscale\":[[0.0,\"#0d0887\"],[0.1111111111111111,\"#46039f\"],[0.2222222222222222,\"#7201a8\"],[0.3333333333333333,\"#9c179e\"],[0.4444444444444444,\"#bd3786\"],[0.5555555555555556,\"#d8576b\"],[0.6666666666666666,\"#ed7953\"],[0.7777777777777778,\"#fb9f3a\"],[0.8888888888888888,\"#fdca26\"],[1.0,\"#f0f921\"]]}],\"choropleth\":[{\"type\":\"choropleth\",\"colorbar\":{\"outlinewidth\":0,\"ticks\":\"\"}}],\"histogram2d\":[{\"type\":\"histogram2d\",\"colorbar\":{\"outlinewidth\":0,\"ticks\":\"\"},\"colorscale\":[[0.0,\"#0d0887\"],[0.1111111111111111,\"#46039f\"],[0.2222222222222222,\"#7201a8\"],[0.3333333333333333,\"#9c179e\"],[0.4444444444444444,\"#bd3786\"],[0.5555555555555556,\"#d8576b\"],[0.6666666666666666,\"#ed7953\"],[0.7777777777777778,\"#fb9f3a\"],[0.8888888888888888,\"#fdca26\"],[1.0,\"#f0f921\"]]}],\"heatmap\":[{\"type\":\"heatmap\",\"colorbar\":{\"outlinewidth\":0,\"ticks\":\"\"},\"colorscale\":[[0.0,\"#0d0887\"],[0.1111111111111111,\"#46039f\"],[0.2222222222222222,\"#7201a8\"],[0.3333333333333333,\"#9c179e\"],[0.4444444444444444,\"#bd3786\"],[0.5555555555555556,\"#d8576b\"],[0.6666666666666666,\"#ed7953\"],[0.7777777777777778,\"#fb9f3a\"],[0.8888888888888888,\"#fdca26\"],[1.0,\"#f0f921\"]]}],\"heatmapgl\":[{\"type\":\"heatmapgl\",\"colorbar\":{\"outlinewidth\":0,\"ticks\":\"\"},\"colorscale\":[[0.0,\"#0d0887\"],[0.1111111111111111,\"#46039f\"],[0.2222222222222222,\"#7201a8\"],[0.3333333333333333,\"#9c179e\"],[0.4444444444444444,\"#bd3786\"],[0.5555555555555556,\"#d8576b\"],[0.6666666666666666,\"#ed7953\"],[0.7777777777777778,\"#fb9f3a\"],[0.8888888888888888,\"#fdca26\"],[1.0,\"#f0f921\"]]}],\"contourcarpet\":[{\"type\":\"contourcarpet\",\"colorbar\":{\"outlinewidth\":0,\"ticks\":\"\"}}],\"contour\":[{\"type\":\"contour\",\"colorbar\":{\"outlinewidth\":0,\"ticks\":\"\"},\"colorscale\":[[0.0,\"#0d0887\"],[0.1111111111111111,\"#46039f\"],[0.2222222222222222,\"#7201a8\"],[0.3333333333333333,\"#9c179e\"],[0.4444444444444444,\"#bd3786\"],[0.5555555555555556,\"#d8576b\"],[0.6666666666666666,\"#ed7953\"],[0.7777777777777778,\"#fb9f3a\"],[0.8888888888888888,\"#fdca26\"],[1.0,\"#f0f921\"]]}],\"surface\":[{\"type\":\"surface\",\"colorbar\":{\"outlinewidth\":0,\"ticks\":\"\"},\"colorscale\":[[0.0,\"#0d0887\"],[0.1111111111111111,\"#46039f\"],[0.2222222222222222,\"#7201a8\"],[0.3333333333333333,\"#9c179e\"],[0.4444444444444444,\"#bd3786\"],[0.5555555555555556,\"#d8576b\"],[0.6666666666666666,\"#ed7953\"],[0.7777777777777778,\"#fb9f3a\"],[0.8888888888888888,\"#fdca26\"],[1.0,\"#f0f921\"]]}],\"mesh3d\":[{\"type\":\"mesh3d\",\"colorbar\":{\"outlinewidth\":0,\"ticks\":\"\"}}],\"scatter\":[{\"fillpattern\":{\"fillmode\":\"overlay\",\"size\":10,\"solidity\":0.2},\"type\":\"scatter\"}],\"parcoords\":[{\"type\":\"parcoords\",\"line\":{\"colorbar\":{\"outlinewidth\":0,\"ticks\":\"\"}}}],\"scatterpolargl\":[{\"type\":\"scatterpolargl\",\"marker\":{\"colorbar\":{\"outlinewidth\":0,\"ticks\":\"\"}}}],\"bar\":[{\"error_x\":{\"color\":\"#2a3f5f\"},\"error_y\":{\"color\":\"#2a3f5f\"},\"marker\":{\"line\":{\"color\":\"#E5ECF6\",\"width\":0.5},\"pattern\":{\"fillmode\":\"overlay\",\"size\":10,\"solidity\":0.2}},\"type\":\"bar\"}],\"scattergeo\":[{\"type\":\"scattergeo\",\"marker\":{\"colorbar\":{\"outlinewidth\":0,\"ticks\":\"\"}}}],\"scatterpolar\":[{\"type\":\"scatterpolar\",\"marker\":{\"colorbar\":{\"outlinewidth\":0,\"ticks\":\"\"}}}],\"histogram\":[{\"marker\":{\"pattern\":{\"fillmode\":\"overlay\",\"size\":10,\"solidity\":0.2}},\"type\":\"histogram\"}],\"scattergl\":[{\"type\":\"scattergl\",\"marker\":{\"colorbar\":{\"outlinewidth\":0,\"ticks\":\"\"}}}],\"scatter3d\":[{\"type\":\"scatter3d\",\"line\":{\"colorbar\":{\"outlinewidth\":0,\"ticks\":\"\"}},\"marker\":{\"colorbar\":{\"outlinewidth\":0,\"ticks\":\"\"}}}],\"scattermapbox\":[{\"type\":\"scattermapbox\",\"marker\":{\"colorbar\":{\"outlinewidth\":0,\"ticks\":\"\"}}}],\"scatterternary\":[{\"type\":\"scatterternary\",\"marker\":{\"colorbar\":{\"outlinewidth\":0,\"ticks\":\"\"}}}],\"scattercarpet\":[{\"type\":\"scattercarpet\",\"marker\":{\"colorbar\":{\"outlinewidth\":0,\"ticks\":\"\"}}}],\"carpet\":[{\"aaxis\":{\"endlinecolor\":\"#2a3f5f\",\"gridcolor\":\"white\",\"linecolor\":\"white\",\"minorgridcolor\":\"white\",\"startlinecolor\":\"#2a3f5f\"},\"baxis\":{\"endlinecolor\":\"#2a3f5f\",\"gridcolor\":\"white\",\"linecolor\":\"white\",\"minorgridcolor\":\"white\",\"startlinecolor\":\"#2a3f5f\"},\"type\":\"carpet\"}],\"table\":[{\"cells\":{\"fill\":{\"color\":\"#EBF0F8\"},\"line\":{\"color\":\"white\"}},\"header\":{\"fill\":{\"color\":\"#C8D4E3\"},\"line\":{\"color\":\"white\"}},\"type\":\"table\"}],\"barpolar\":[{\"marker\":{\"line\":{\"color\":\"#E5ECF6\",\"width\":0.5},\"pattern\":{\"fillmode\":\"overlay\",\"size\":10,\"solidity\":0.2}},\"type\":\"barpolar\"}],\"pie\":[{\"automargin\":true,\"type\":\"pie\"}]},\"layout\":{\"autotypenumbers\":\"strict\",\"colorway\":[\"#636efa\",\"#EF553B\",\"#00cc96\",\"#ab63fa\",\"#FFA15A\",\"#19d3f3\",\"#FF6692\",\"#B6E880\",\"#FF97FF\",\"#FECB52\"],\"font\":{\"color\":\"#2a3f5f\"},\"hovermode\":\"closest\",\"hoverlabel\":{\"align\":\"left\"},\"paper_bgcolor\":\"white\",\"plot_bgcolor\":\"#E5ECF6\",\"polar\":{\"bgcolor\":\"#E5ECF6\",\"angularaxis\":{\"gridcolor\":\"white\",\"linecolor\":\"white\",\"ticks\":\"\"},\"radialaxis\":{\"gridcolor\":\"white\",\"linecolor\":\"white\",\"ticks\":\"\"}},\"ternary\":{\"bgcolor\":\"#E5ECF6\",\"aaxis\":{\"gridcolor\":\"white\",\"linecolor\":\"white\",\"ticks\":\"\"},\"baxis\":{\"gridcolor\":\"white\",\"linecolor\":\"white\",\"ticks\":\"\"},\"caxis\":{\"gridcolor\":\"white\",\"linecolor\":\"white\",\"ticks\":\"\"}},\"coloraxis\":{\"colorbar\":{\"outlinewidth\":0,\"ticks\":\"\"}},\"colorscale\":{\"sequential\":[[0.0,\"#0d0887\"],[0.1111111111111111,\"#46039f\"],[0.2222222222222222,\"#7201a8\"],[0.3333333333333333,\"#9c179e\"],[0.4444444444444444,\"#bd3786\"],[0.5555555555555556,\"#d8576b\"],[0.6666666666666666,\"#ed7953\"],[0.7777777777777778,\"#fb9f3a\"],[0.8888888888888888,\"#fdca26\"],[1.0,\"#f0f921\"]],\"sequentialminus\":[[0.0,\"#0d0887\"],[0.1111111111111111,\"#46039f\"],[0.2222222222222222,\"#7201a8\"],[0.3333333333333333,\"#9c179e\"],[0.4444444444444444,\"#bd3786\"],[0.5555555555555556,\"#d8576b\"],[0.6666666666666666,\"#ed7953\"],[0.7777777777777778,\"#fb9f3a\"],[0.8888888888888888,\"#fdca26\"],[1.0,\"#f0f921\"]],\"diverging\":[[0,\"#8e0152\"],[0.1,\"#c51b7d\"],[0.2,\"#de77ae\"],[0.3,\"#f1b6da\"],[0.4,\"#fde0ef\"],[0.5,\"#f7f7f7\"],[0.6,\"#e6f5d0\"],[0.7,\"#b8e186\"],[0.8,\"#7fbc41\"],[0.9,\"#4d9221\"],[1,\"#276419\"]]},\"xaxis\":{\"gridcolor\":\"white\",\"linecolor\":\"white\",\"ticks\":\"\",\"title\":{\"standoff\":15},\"zerolinecolor\":\"white\",\"automargin\":true,\"zerolinewidth\":2},\"yaxis\":{\"gridcolor\":\"white\",\"linecolor\":\"white\",\"ticks\":\"\",\"title\":{\"standoff\":15},\"zerolinecolor\":\"white\",\"automargin\":true,\"zerolinewidth\":2},\"scene\":{\"xaxis\":{\"backgroundcolor\":\"#E5ECF6\",\"gridcolor\":\"white\",\"linecolor\":\"white\",\"showbackground\":true,\"ticks\":\"\",\"zerolinecolor\":\"white\",\"gridwidth\":2},\"yaxis\":{\"backgroundcolor\":\"#E5ECF6\",\"gridcolor\":\"white\",\"linecolor\":\"white\",\"showbackground\":true,\"ticks\":\"\",\"zerolinecolor\":\"white\",\"gridwidth\":2},\"zaxis\":{\"backgroundcolor\":\"#E5ECF6\",\"gridcolor\":\"white\",\"linecolor\":\"white\",\"showbackground\":true,\"ticks\":\"\",\"zerolinecolor\":\"white\",\"gridwidth\":2}},\"shapedefaults\":{\"line\":{\"color\":\"#2a3f5f\"}},\"annotationdefaults\":{\"arrowcolor\":\"#2a3f5f\",\"arrowhead\":0,\"arrowwidth\":1},\"geo\":{\"bgcolor\":\"white\",\"landcolor\":\"#E5ECF6\",\"subunitcolor\":\"white\",\"showland\":true,\"showlakes\":true,\"lakecolor\":\"white\"},\"title\":{\"x\":0.05},\"mapbox\":{\"style\":\"light\"}}},\"geo\":{\"domain\":{\"x\":[0.0,1.0],\"y\":[0.0,1.0]},\"center\":{},\"projection\":{\"type\":\"equirectangular\"},\"showframe\":false,\"showcoastlines\":false},\"coloraxis\":{\"colorbar\":{\"title\":{\"text\":\"Happiness Score\"},\"tickvals\":[2.905,7.526],\"ticktext\":[\"Lowest\",\"Highest\"]},\"colorscale\":[[0.0,\"#440154\"],[0.1111111111111111,\"#482878\"],[0.2222222222222222,\"#3e4989\"],[0.3333333333333333,\"#31688e\"],[0.4444444444444444,\"#26828e\"],[0.5555555555555556,\"#1f9e89\"],[0.6666666666666666,\"#35b779\"],[0.7777777777777778,\"#6ece58\"],[0.8888888888888888,\"#b5de2b\"],[1.0,\"#fde725\"]]},\"legend\":{\"tracegroupgap\":0},\"title\":{\"text\":\"World Happiness Index for 2016\"}},                        {\"responsive\": true}                    ).then(function(){\n",
       "                            \n",
       "var gd = document.getElementById('e5077a77-24bc-4a4a-b3d7-c0010fd2bcc7');\n",
       "var x = new MutationObserver(function (mutations, observer) {{\n",
       "        var display = window.getComputedStyle(gd).display;\n",
       "        if (!display || display === 'none') {{\n",
       "            console.log([gd, 'removed!']);\n",
       "            Plotly.purge(gd);\n",
       "            observer.disconnect();\n",
       "        }}\n",
       "}});\n",
       "\n",
       "// Listen for the removal of the full notebook cells\n",
       "var notebookContainer = gd.closest('#notebook-container');\n",
       "if (notebookContainer) {{\n",
       "    x.observe(notebookContainer, {childList: true});\n",
       "}}\n",
       "\n",
       "// Listen for the clearing of the current output cell\n",
       "var outputEl = gd.closest('.output');\n",
       "if (outputEl) {{\n",
       "    x.observe(outputEl, {childList: true});\n",
       "}}\n",
       "\n",
       "                        })                };                });            </script>        </div>"
      ]
     },
     "metadata": {},
     "output_type": "display_data"
    }
   ],
   "source": [
    "import pandas as pd\n",
    "import plotly.express as px\n",
    "\n",
    "df_2016 = pd.read_csv(\"world_happiness_data/2016.csv\")\n",
    "df_2016.rename(columns={\"Country\": \"Country\", \"Happiness Score\": \"Happiness Score\"}, inplace=True)\n",
    "\n",
    "fig_2016 = px.choropleth(\n",
    "    df_2016,\n",
    "    locations='Country',\n",
    "    locationmode='country names',\n",
    "    color='Happiness Score',\n",
    "    hover_name='Country',\n",
    "    color_continuous_scale=px.colors.sequential.Viridis,\n",
    "    title='World Happiness Index for 2016'\n",
    ")\n",
    "\n",
    "fig_2016.update_layout(\n",
    "    geo=dict(\n",
    "        showframe=False,\n",
    "        showcoastlines=False,\n",
    "        projection_type='equirectangular'\n",
    "    ),\n",
    "    coloraxis_colorbar=dict(\n",
    "        title=\"Happiness Score\",\n",
    "        tickvals=[df_2016['Happiness Score'].min(), df_2016['Happiness Score'].max()],\n",
    "        ticktext=[\"Lowest\", \"Highest\"]\n",
    "    )\n",
    ")\n",
    "\n",
    "fig_2016.show()\n"
   ]
  },
  {
   "cell_type": "code",
   "execution_count": null,
   "id": "dbefd901-645f-48b5-b651-cc140d96f959",
   "metadata": {},
   "outputs": [
    {
     "data": {
      "application/vnd.plotly.v1+json": {
       "config": {
        "plotlyServerURL": "https://plot.ly"
       },
       "data": [
        {
         "coloraxis": "coloraxis",
         "geo": "geo",
         "hovertemplate": "<b>%{hovertext}</b><br><br>Country=%{location}<br>Happiness Score=%{z}<extra></extra>",
         "hovertext": [
          "Norway",
          "Denmark",
          "Iceland",
          "Switzerland",
          "Finland",
          "Netherlands",
          "Canada",
          "New Zealand",
          "Sweden",
          "Australia",
          "Israel",
          "Costa Rica",
          "Austria",
          "United States",
          "Ireland",
          "Germany",
          "Belgium",
          "Luxembourg",
          "United Kingdom",
          "Chile",
          "United Arab Emirates",
          "Brazil",
          "Czech Republic",
          "Argentina",
          "Mexico",
          "Singapore",
          "Malta",
          "Uruguay",
          "Guatemala",
          "Panama",
          "France",
          "Thailand",
          "Taiwan Province of China",
          "Spain",
          "Qatar",
          "Colombia",
          "Saudi Arabia",
          "Trinidad and Tobago",
          "Kuwait",
          "Slovakia",
          "Bahrain",
          "Malaysia",
          "Nicaragua",
          "Ecuador",
          "El Salvador",
          "Poland",
          "Uzbekistan",
          "Italy",
          "Russia",
          "Belize",
          "Japan",
          "Lithuania",
          "Algeria",
          "Latvia",
          "South Korea",
          "Moldova",
          "Romania",
          "Bolivia",
          "Turkmenistan",
          "Kazakhstan",
          "North Cyprus",
          "Slovenia",
          "Peru",
          "Mauritius",
          "Cyprus",
          "Estonia",
          "Belarus",
          "Libya",
          "Turkey",
          "Paraguay",
          "Hong Kong S.A.R., China",
          "Philippines",
          "Serbia",
          "Jordan",
          "Hungary",
          "Jamaica",
          "Croatia",
          "Kosovo",
          "China",
          "Pakistan",
          "Indonesia",
          "Venezuela",
          "Montenegro",
          "Morocco",
          "Azerbaijan",
          "Dominican Republic",
          "Greece",
          "Lebanon",
          "Portugal",
          "Bosnia and Herzegovina",
          "Honduras",
          "Macedonia",
          "Somalia",
          "Vietnam",
          "Nigeria",
          "Tajikistan",
          "Bhutan",
          "Kyrgyzstan",
          "Nepal",
          "Mongolia",
          "South Africa",
          "Tunisia",
          "Palestinian Territories",
          "Egypt",
          "Bulgaria",
          "Sierra Leone",
          "Cameroon",
          "Iran",
          "Albania",
          "Bangladesh",
          "Namibia",
          "Kenya",
          "Mozambique",
          "Myanmar",
          "Senegal",
          "Zambia",
          "Iraq",
          "Gabon",
          "Ethiopia",
          "Sri Lanka",
          "Armenia",
          "India",
          "Mauritania",
          "Congo (Brazzaville)",
          "Georgia",
          "Congo (Kinshasa)",
          "Mali",
          "Ivory Coast",
          "Cambodia",
          "Sudan",
          "Ghana",
          "Ukraine",
          "Uganda",
          "Burkina Faso",
          "Niger",
          "Malawi",
          "Chad",
          "Zimbabwe",
          "Lesotho",
          "Angola",
          "Afghanistan",
          "Botswana",
          "Benin",
          "Madagascar",
          "Haiti",
          "Yemen",
          "South Sudan",
          "Liberia",
          "Guinea",
          "Togo",
          "Rwanda",
          "Syria",
          "Tanzania",
          "Burundi",
          "Central African Republic"
         ],
         "locationmode": "country names",
         "locations": [
          "Norway",
          "Denmark",
          "Iceland",
          "Switzerland",
          "Finland",
          "Netherlands",
          "Canada",
          "New Zealand",
          "Sweden",
          "Australia",
          "Israel",
          "Costa Rica",
          "Austria",
          "United States",
          "Ireland",
          "Germany",
          "Belgium",
          "Luxembourg",
          "United Kingdom",
          "Chile",
          "United Arab Emirates",
          "Brazil",
          "Czech Republic",
          "Argentina",
          "Mexico",
          "Singapore",
          "Malta",
          "Uruguay",
          "Guatemala",
          "Panama",
          "France",
          "Thailand",
          "Taiwan Province of China",
          "Spain",
          "Qatar",
          "Colombia",
          "Saudi Arabia",
          "Trinidad and Tobago",
          "Kuwait",
          "Slovakia",
          "Bahrain",
          "Malaysia",
          "Nicaragua",
          "Ecuador",
          "El Salvador",
          "Poland",
          "Uzbekistan",
          "Italy",
          "Russia",
          "Belize",
          "Japan",
          "Lithuania",
          "Algeria",
          "Latvia",
          "South Korea",
          "Moldova",
          "Romania",
          "Bolivia",
          "Turkmenistan",
          "Kazakhstan",
          "North Cyprus",
          "Slovenia",
          "Peru",
          "Mauritius",
          "Cyprus",
          "Estonia",
          "Belarus",
          "Libya",
          "Turkey",
          "Paraguay",
          "Hong Kong S.A.R., China",
          "Philippines",
          "Serbia",
          "Jordan",
          "Hungary",
          "Jamaica",
          "Croatia",
          "Kosovo",
          "China",
          "Pakistan",
          "Indonesia",
          "Venezuela",
          "Montenegro",
          "Morocco",
          "Azerbaijan",
          "Dominican Republic",
          "Greece",
          "Lebanon",
          "Portugal",
          "Bosnia and Herzegovina",
          "Honduras",
          "Macedonia",
          "Somalia",
          "Vietnam",
          "Nigeria",
          "Tajikistan",
          "Bhutan",
          "Kyrgyzstan",
          "Nepal",
          "Mongolia",
          "South Africa",
          "Tunisia",
          "Palestinian Territories",
          "Egypt",
          "Bulgaria",
          "Sierra Leone",
          "Cameroon",
          "Iran",
          "Albania",
          "Bangladesh",
          "Namibia",
          "Kenya",
          "Mozambique",
          "Myanmar",
          "Senegal",
          "Zambia",
          "Iraq",
          "Gabon",
          "Ethiopia",
          "Sri Lanka",
          "Armenia",
          "India",
          "Mauritania",
          "Congo (Brazzaville)",
          "Georgia",
          "Congo (Kinshasa)",
          "Mali",
          "Ivory Coast",
          "Cambodia",
          "Sudan",
          "Ghana",
          "Ukraine",
          "Uganda",
          "Burkina Faso",
          "Niger",
          "Malawi",
          "Chad",
          "Zimbabwe",
          "Lesotho",
          "Angola",
          "Afghanistan",
          "Botswana",
          "Benin",
          "Madagascar",
          "Haiti",
          "Yemen",
          "South Sudan",
          "Liberia",
          "Guinea",
          "Togo",
          "Rwanda",
          "Syria",
          "Tanzania",
          "Burundi",
          "Central African Republic"
         ],
         "name": "",
         "type": "choropleth",
         "z": [
          7.53700017929077,
          7.52199983596802,
          7.50400018692017,
          7.49399995803833,
          7.4689998626709,
          7.3769998550415,
          7.31599998474121,
          7.31400012969971,
          7.28399991989136,
          7.28399991989136,
          7.21299982070923,
          7.0789999961853,
          7.00600004196167,
          6.99300003051758,
          6.97700023651123,
          6.95100021362305,
          6.89099979400635,
          6.86299991607666,
          6.71400022506714,
          6.65199995040894,
          6.64799976348877,
          6.63500022888184,
          6.60900020599365,
          6.59899997711182,
          6.57800006866455,
          6.57200002670288,
          6.52699995040894,
          6.4539999961853,
          6.4539999961853,
          6.4520001411438,
          6.44199991226196,
          6.42399978637695,
          6.42199993133545,
          6.40299987792969,
          6.375,
          6.35699987411499,
          6.3439998626709,
          6.16800022125244,
          6.10500001907349,
          6.09800004959106,
          6.08699989318848,
          6.08400011062622,
          6.07100009918213,
          6.00799989700317,
          6.00299978256226,
          5.97300004959106,
          5.97100019454956,
          5.96400022506714,
          5.96299982070923,
          5.95599985122681,
          5.92000007629395,
          5.90199995040894,
          5.87200021743774,
          5.84999990463257,
          5.83799982070923,
          5.83799982070923,
          5.82499980926514,
          5.82299995422363,
          5.82200002670288,
          5.81899976730347,
          5.80999994277954,
          5.75799989700317,
          5.71500015258789,
          5.62900018692017,
          5.62099981307983,
          5.61100006103516,
          5.56899976730347,
          5.52500009536743,
          5.5,
          5.49300003051758,
          5.47200012207031,
          5.42999982833862,
          5.39499998092651,
          5.33599996566772,
          5.32399988174438,
          5.31099987030029,
          5.29300022125244,
          5.27899980545044,
          5.27299976348877,
          5.26900005340576,
          5.26200008392334,
          5.25,
          5.23699998855591,
          5.2350001335144,
          5.23400020599365,
          5.23000001907349,
          5.22700023651123,
          5.22499990463257,
          5.19500017166138,
          5.18200016021729,
          5.18100023269653,
          5.17500019073486,
          5.15100002288818,
          5.07399988174438,
          5.07399988174438,
          5.04099988937378,
          5.01100015640259,
          5.00400018692017,
          4.96199989318848,
          4.95499992370605,
          4.8289999961853,
          4.80499982833862,
          4.77500009536743,
          4.7350001335144,
          4.71400022506714,
          4.70900011062622,
          4.69500017166138,
          4.69199991226196,
          4.64400005340576,
          4.60799980163574,
          4.57399988174438,
          4.55299997329712,
          4.55000019073486,
          4.54500007629395,
          4.53499984741211,
          4.51399993896484,
          4.49700021743774,
          4.46500015258789,
          4.46000003814697,
          4.44000005722046,
          4.37599992752075,
          4.31500005722046,
          4.29199981689453,
          4.29099988937378,
          4.28599977493286,
          4.28000020980835,
          4.19000005722046,
          4.17999982833862,
          4.16800022125244,
          4.13899993896484,
          4.11999988555908,
          4.09600019454956,
          4.08099985122681,
          4.03200006484985,
          4.02799987792969,
          3.97000002861023,
          3.93600010871887,
          3.875,
          3.80800008773804,
          3.79500007629395,
          3.79399991035461,
          3.76600003242493,
          3.65700006484985,
          3.64400005340576,
          3.6029999256134,
          3.59299993515015,
          3.59100008010864,
          3.53299999237061,
          3.50699996948242,
          3.49499988555908,
          3.47099995613098,
          3.46199989318848,
          3.34899997711182,
          2.90499997138977,
          2.69300007820129
         ]
        }
       ],
       "layout": {
        "autosize": true,
        "coloraxis": {
         "colorbar": {
          "ticktext": [
           "Lowest",
           "Highest"
          ],
          "tickvals": [
           2.69300007820129,
           7.53700017929077
          ],
          "title": {
           "text": "Happiness Score"
          }
         },
         "colorscale": [
          [
           0,
           "#440154"
          ],
          [
           0.1111111111111111,
           "#482878"
          ],
          [
           0.2222222222222222,
           "#3e4989"
          ],
          [
           0.3333333333333333,
           "#31688e"
          ],
          [
           0.4444444444444444,
           "#26828e"
          ],
          [
           0.5555555555555556,
           "#1f9e89"
          ],
          [
           0.6666666666666666,
           "#35b779"
          ],
          [
           0.7777777777777778,
           "#6ece58"
          ],
          [
           0.8888888888888888,
           "#b5de2b"
          ],
          [
           1,
           "#fde725"
          ]
         ]
        },
        "geo": {
         "center": {
          "lat": 1.2563960252607163,
          "lon": 28.34302569625358
         },
         "domain": {
          "x": [
           0,
           1
          ],
          "y": [
           0,
           1
          ]
         },
         "projection": {
          "rotation": {
           "lon": 28.34302569625358
          },
          "scale": 1.2017209498720032,
          "type": "equirectangular"
         },
         "showcoastlines": false,
         "showframe": false
        },
        "legend": {
         "tracegroupgap": 0
        },
        "template": {
         "data": {
          "bar": [
           {
            "error_x": {
             "color": "#2a3f5f"
            },
            "error_y": {
             "color": "#2a3f5f"
            },
            "marker": {
             "line": {
              "color": "#E5ECF6",
              "width": 0.5
             },
             "pattern": {
              "fillmode": "overlay",
              "size": 10,
              "solidity": 0.2
             }
            },
            "type": "bar"
           }
          ],
          "barpolar": [
           {
            "marker": {
             "line": {
              "color": "#E5ECF6",
              "width": 0.5
             },
             "pattern": {
              "fillmode": "overlay",
              "size": 10,
              "solidity": 0.2
             }
            },
            "type": "barpolar"
           }
          ],
          "carpet": [
           {
            "aaxis": {
             "endlinecolor": "#2a3f5f",
             "gridcolor": "white",
             "linecolor": "white",
             "minorgridcolor": "white",
             "startlinecolor": "#2a3f5f"
            },
            "baxis": {
             "endlinecolor": "#2a3f5f",
             "gridcolor": "white",
             "linecolor": "white",
             "minorgridcolor": "white",
             "startlinecolor": "#2a3f5f"
            },
            "type": "carpet"
           }
          ],
          "choropleth": [
           {
            "colorbar": {
             "outlinewidth": 0,
             "ticks": ""
            },
            "type": "choropleth"
           }
          ],
          "contour": [
           {
            "colorbar": {
             "outlinewidth": 0,
             "ticks": ""
            },
            "colorscale": [
             [
              0,
              "#0d0887"
             ],
             [
              0.1111111111111111,
              "#46039f"
             ],
             [
              0.2222222222222222,
              "#7201a8"
             ],
             [
              0.3333333333333333,
              "#9c179e"
             ],
             [
              0.4444444444444444,
              "#bd3786"
             ],
             [
              0.5555555555555556,
              "#d8576b"
             ],
             [
              0.6666666666666666,
              "#ed7953"
             ],
             [
              0.7777777777777778,
              "#fb9f3a"
             ],
             [
              0.8888888888888888,
              "#fdca26"
             ],
             [
              1,
              "#f0f921"
             ]
            ],
            "type": "contour"
           }
          ],
          "contourcarpet": [
           {
            "colorbar": {
             "outlinewidth": 0,
             "ticks": ""
            },
            "type": "contourcarpet"
           }
          ],
          "heatmap": [
           {
            "colorbar": {
             "outlinewidth": 0,
             "ticks": ""
            },
            "colorscale": [
             [
              0,
              "#0d0887"
             ],
             [
              0.1111111111111111,
              "#46039f"
             ],
             [
              0.2222222222222222,
              "#7201a8"
             ],
             [
              0.3333333333333333,
              "#9c179e"
             ],
             [
              0.4444444444444444,
              "#bd3786"
             ],
             [
              0.5555555555555556,
              "#d8576b"
             ],
             [
              0.6666666666666666,
              "#ed7953"
             ],
             [
              0.7777777777777778,
              "#fb9f3a"
             ],
             [
              0.8888888888888888,
              "#fdca26"
             ],
             [
              1,
              "#f0f921"
             ]
            ],
            "type": "heatmap"
           }
          ],
          "heatmapgl": [
           {
            "colorbar": {
             "outlinewidth": 0,
             "ticks": ""
            },
            "colorscale": [
             [
              0,
              "#0d0887"
             ],
             [
              0.1111111111111111,
              "#46039f"
             ],
             [
              0.2222222222222222,
              "#7201a8"
             ],
             [
              0.3333333333333333,
              "#9c179e"
             ],
             [
              0.4444444444444444,
              "#bd3786"
             ],
             [
              0.5555555555555556,
              "#d8576b"
             ],
             [
              0.6666666666666666,
              "#ed7953"
             ],
             [
              0.7777777777777778,
              "#fb9f3a"
             ],
             [
              0.8888888888888888,
              "#fdca26"
             ],
             [
              1,
              "#f0f921"
             ]
            ],
            "type": "heatmapgl"
           }
          ],
          "histogram": [
           {
            "marker": {
             "pattern": {
              "fillmode": "overlay",
              "size": 10,
              "solidity": 0.2
             }
            },
            "type": "histogram"
           }
          ],
          "histogram2d": [
           {
            "colorbar": {
             "outlinewidth": 0,
             "ticks": ""
            },
            "colorscale": [
             [
              0,
              "#0d0887"
             ],
             [
              0.1111111111111111,
              "#46039f"
             ],
             [
              0.2222222222222222,
              "#7201a8"
             ],
             [
              0.3333333333333333,
              "#9c179e"
             ],
             [
              0.4444444444444444,
              "#bd3786"
             ],
             [
              0.5555555555555556,
              "#d8576b"
             ],
             [
              0.6666666666666666,
              "#ed7953"
             ],
             [
              0.7777777777777778,
              "#fb9f3a"
             ],
             [
              0.8888888888888888,
              "#fdca26"
             ],
             [
              1,
              "#f0f921"
             ]
            ],
            "type": "histogram2d"
           }
          ],
          "histogram2dcontour": [
           {
            "colorbar": {
             "outlinewidth": 0,
             "ticks": ""
            },
            "colorscale": [
             [
              0,
              "#0d0887"
             ],
             [
              0.1111111111111111,
              "#46039f"
             ],
             [
              0.2222222222222222,
              "#7201a8"
             ],
             [
              0.3333333333333333,
              "#9c179e"
             ],
             [
              0.4444444444444444,
              "#bd3786"
             ],
             [
              0.5555555555555556,
              "#d8576b"
             ],
             [
              0.6666666666666666,
              "#ed7953"
             ],
             [
              0.7777777777777778,
              "#fb9f3a"
             ],
             [
              0.8888888888888888,
              "#fdca26"
             ],
             [
              1,
              "#f0f921"
             ]
            ],
            "type": "histogram2dcontour"
           }
          ],
          "mesh3d": [
           {
            "colorbar": {
             "outlinewidth": 0,
             "ticks": ""
            },
            "type": "mesh3d"
           }
          ],
          "parcoords": [
           {
            "line": {
             "colorbar": {
              "outlinewidth": 0,
              "ticks": ""
             }
            },
            "type": "parcoords"
           }
          ],
          "pie": [
           {
            "automargin": true,
            "type": "pie"
           }
          ],
          "scatter": [
           {
            "fillpattern": {
             "fillmode": "overlay",
             "size": 10,
             "solidity": 0.2
            },
            "type": "scatter"
           }
          ],
          "scatter3d": [
           {
            "line": {
             "colorbar": {
              "outlinewidth": 0,
              "ticks": ""
             }
            },
            "marker": {
             "colorbar": {
              "outlinewidth": 0,
              "ticks": ""
             }
            },
            "type": "scatter3d"
           }
          ],
          "scattercarpet": [
           {
            "marker": {
             "colorbar": {
              "outlinewidth": 0,
              "ticks": ""
             }
            },
            "type": "scattercarpet"
           }
          ],
          "scattergeo": [
           {
            "marker": {
             "colorbar": {
              "outlinewidth": 0,
              "ticks": ""
             }
            },
            "type": "scattergeo"
           }
          ],
          "scattergl": [
           {
            "marker": {
             "colorbar": {
              "outlinewidth": 0,
              "ticks": ""
             }
            },
            "type": "scattergl"
           }
          ],
          "scattermapbox": [
           {
            "marker": {
             "colorbar": {
              "outlinewidth": 0,
              "ticks": ""
             }
            },
            "type": "scattermapbox"
           }
          ],
          "scatterpolar": [
           {
            "marker": {
             "colorbar": {
              "outlinewidth": 0,
              "ticks": ""
             }
            },
            "type": "scatterpolar"
           }
          ],
          "scatterpolargl": [
           {
            "marker": {
             "colorbar": {
              "outlinewidth": 0,
              "ticks": ""
             }
            },
            "type": "scatterpolargl"
           }
          ],
          "scatterternary": [
           {
            "marker": {
             "colorbar": {
              "outlinewidth": 0,
              "ticks": ""
             }
            },
            "type": "scatterternary"
           }
          ],
          "surface": [
           {
            "colorbar": {
             "outlinewidth": 0,
             "ticks": ""
            },
            "colorscale": [
             [
              0,
              "#0d0887"
             ],
             [
              0.1111111111111111,
              "#46039f"
             ],
             [
              0.2222222222222222,
              "#7201a8"
             ],
             [
              0.3333333333333333,
              "#9c179e"
             ],
             [
              0.4444444444444444,
              "#bd3786"
             ],
             [
              0.5555555555555556,
              "#d8576b"
             ],
             [
              0.6666666666666666,
              "#ed7953"
             ],
             [
              0.7777777777777778,
              "#fb9f3a"
             ],
             [
              0.8888888888888888,
              "#fdca26"
             ],
             [
              1,
              "#f0f921"
             ]
            ],
            "type": "surface"
           }
          ],
          "table": [
           {
            "cells": {
             "fill": {
              "color": "#EBF0F8"
             },
             "line": {
              "color": "white"
             }
            },
            "header": {
             "fill": {
              "color": "#C8D4E3"
             },
             "line": {
              "color": "white"
             }
            },
            "type": "table"
           }
          ]
         },
         "layout": {
          "annotationdefaults": {
           "arrowcolor": "#2a3f5f",
           "arrowhead": 0,
           "arrowwidth": 1
          },
          "autotypenumbers": "strict",
          "coloraxis": {
           "colorbar": {
            "outlinewidth": 0,
            "ticks": ""
           }
          },
          "colorscale": {
           "diverging": [
            [
             0,
             "#8e0152"
            ],
            [
             0.1,
             "#c51b7d"
            ],
            [
             0.2,
             "#de77ae"
            ],
            [
             0.3,
             "#f1b6da"
            ],
            [
             0.4,
             "#fde0ef"
            ],
            [
             0.5,
             "#f7f7f7"
            ],
            [
             0.6,
             "#e6f5d0"
            ],
            [
             0.7,
             "#b8e186"
            ],
            [
             0.8,
             "#7fbc41"
            ],
            [
             0.9,
             "#4d9221"
            ],
            [
             1,
             "#276419"
            ]
           ],
           "sequential": [
            [
             0,
             "#0d0887"
            ],
            [
             0.1111111111111111,
             "#46039f"
            ],
            [
             0.2222222222222222,
             "#7201a8"
            ],
            [
             0.3333333333333333,
             "#9c179e"
            ],
            [
             0.4444444444444444,
             "#bd3786"
            ],
            [
             0.5555555555555556,
             "#d8576b"
            ],
            [
             0.6666666666666666,
             "#ed7953"
            ],
            [
             0.7777777777777778,
             "#fb9f3a"
            ],
            [
             0.8888888888888888,
             "#fdca26"
            ],
            [
             1,
             "#f0f921"
            ]
           ],
           "sequentialminus": [
            [
             0,
             "#0d0887"
            ],
            [
             0.1111111111111111,
             "#46039f"
            ],
            [
             0.2222222222222222,
             "#7201a8"
            ],
            [
             0.3333333333333333,
             "#9c179e"
            ],
            [
             0.4444444444444444,
             "#bd3786"
            ],
            [
             0.5555555555555556,
             "#d8576b"
            ],
            [
             0.6666666666666666,
             "#ed7953"
            ],
            [
             0.7777777777777778,
             "#fb9f3a"
            ],
            [
             0.8888888888888888,
             "#fdca26"
            ],
            [
             1,
             "#f0f921"
            ]
           ]
          },
          "colorway": [
           "#636efa",
           "#EF553B",
           "#00cc96",
           "#ab63fa",
           "#FFA15A",
           "#19d3f3",
           "#FF6692",
           "#B6E880",
           "#FF97FF",
           "#FECB52"
          ],
          "font": {
           "color": "#2a3f5f"
          },
          "geo": {
           "bgcolor": "white",
           "lakecolor": "white",
           "landcolor": "#E5ECF6",
           "showlakes": true,
           "showland": true,
           "subunitcolor": "white"
          },
          "hoverlabel": {
           "align": "left"
          },
          "hovermode": "closest",
          "mapbox": {
           "style": "light"
          },
          "paper_bgcolor": "white",
          "plot_bgcolor": "#E5ECF6",
          "polar": {
           "angularaxis": {
            "gridcolor": "white",
            "linecolor": "white",
            "ticks": ""
           },
           "bgcolor": "#E5ECF6",
           "radialaxis": {
            "gridcolor": "white",
            "linecolor": "white",
            "ticks": ""
           }
          },
          "scene": {
           "xaxis": {
            "backgroundcolor": "#E5ECF6",
            "gridcolor": "white",
            "gridwidth": 2,
            "linecolor": "white",
            "showbackground": true,
            "ticks": "",
            "zerolinecolor": "white"
           },
           "yaxis": {
            "backgroundcolor": "#E5ECF6",
            "gridcolor": "white",
            "gridwidth": 2,
            "linecolor": "white",
            "showbackground": true,
            "ticks": "",
            "zerolinecolor": "white"
           },
           "zaxis": {
            "backgroundcolor": "#E5ECF6",
            "gridcolor": "white",
            "gridwidth": 2,
            "linecolor": "white",
            "showbackground": true,
            "ticks": "",
            "zerolinecolor": "white"
           }
          },
          "shapedefaults": {
           "line": {
            "color": "#2a3f5f"
           }
          },
          "ternary": {
           "aaxis": {
            "gridcolor": "white",
            "linecolor": "white",
            "ticks": ""
           },
           "baxis": {
            "gridcolor": "white",
            "linecolor": "white",
            "ticks": ""
           },
           "bgcolor": "#E5ECF6",
           "caxis": {
            "gridcolor": "white",
            "linecolor": "white",
            "ticks": ""
           }
          },
          "title": {
           "x": 0.05
          },
          "xaxis": {
           "automargin": true,
           "gridcolor": "white",
           "linecolor": "white",
           "ticks": "",
           "title": {
            "standoff": 15
           },
           "zerolinecolor": "white",
           "zerolinewidth": 2
          },
          "yaxis": {
           "automargin": true,
           "gridcolor": "white",
           "linecolor": "white",
           "ticks": "",
           "title": {
            "standoff": 15
           },
           "zerolinecolor": "white",
           "zerolinewidth": 2
          }
         }
        },
        "title": {
         "text": "World Happiness Index for 2017"
        }
       }
      },
      "image/png": "[encoded data removed]",
      "text/html": [
       "<div>                            <div id=\"efb8aac8-320b-4832-acab-1195a5c32ffb\" class=\"plotly-graph-div\" style=\"height:525px; width:100%;\"></div>            <script type=\"text/javascript\">                require([\"plotly\"], function(Plotly) {                    window.PLOTLYENV=window.PLOTLYENV || {};                                    if (document.getElementById(\"efb8aac8-320b-4832-acab-1195a5c32ffb\")) {                    Plotly.newPlot(                        \"efb8aac8-320b-4832-acab-1195a5c32ffb\",                        [{\"coloraxis\":\"coloraxis\",\"geo\":\"geo\",\"hovertemplate\":\"\\u003cb\\u003e%{hovertext}\\u003c\\u002fb\\u003e\\u003cbr\\u003e\\u003cbr\\u003eCountry=%{location}\\u003cbr\\u003eHappiness Score=%{z}\\u003cextra\\u003e\\u003c\\u002fextra\\u003e\",\"hovertext\":[\"Norway\",\"Denmark\",\"Iceland\",\"Switzerland\",\"Finland\",\"Netherlands\",\"Canada\",\"New Zealand\",\"Sweden\",\"Australia\",\"Israel\",\"Costa Rica\",\"Austria\",\"United States\",\"Ireland\",\"Germany\",\"Belgium\",\"Luxembourg\",\"United Kingdom\",\"Chile\",\"United Arab Emirates\",\"Brazil\",\"Czech Republic\",\"Argentina\",\"Mexico\",\"Singapore\",\"Malta\",\"Uruguay\",\"Guatemala\",\"Panama\",\"France\",\"Thailand\",\"Taiwan Province of China\",\"Spain\",\"Qatar\",\"Colombia\",\"Saudi Arabia\",\"Trinidad and Tobago\",\"Kuwait\",\"Slovakia\",\"Bahrain\",\"Malaysia\",\"Nicaragua\",\"Ecuador\",\"El Salvador\",\"Poland\",\"Uzbekistan\",\"Italy\",\"Russia\",\"Belize\",\"Japan\",\"Lithuania\",\"Algeria\",\"Latvia\",\"South Korea\",\"Moldova\",\"Romania\",\"Bolivia\",\"Turkmenistan\",\"Kazakhstan\",\"North Cyprus\",\"Slovenia\",\"Peru\",\"Mauritius\",\"Cyprus\",\"Estonia\",\"Belarus\",\"Libya\",\"Turkey\",\"Paraguay\",\"Hong Kong S.A.R., China\",\"Philippines\",\"Serbia\",\"Jordan\",\"Hungary\",\"Jamaica\",\"Croatia\",\"Kosovo\",\"China\",\"Pakistan\",\"Indonesia\",\"Venezuela\",\"Montenegro\",\"Morocco\",\"Azerbaijan\",\"Dominican Republic\",\"Greece\",\"Lebanon\",\"Portugal\",\"Bosnia and Herzegovina\",\"Honduras\",\"Macedonia\",\"Somalia\",\"Vietnam\",\"Nigeria\",\"Tajikistan\",\"Bhutan\",\"Kyrgyzstan\",\"Nepal\",\"Mongolia\",\"South Africa\",\"Tunisia\",\"Palestinian Territories\",\"Egypt\",\"Bulgaria\",\"Sierra Leone\",\"Cameroon\",\"Iran\",\"Albania\",\"Bangladesh\",\"Namibia\",\"Kenya\",\"Mozambique\",\"Myanmar\",\"Senegal\",\"Zambia\",\"Iraq\",\"Gabon\",\"Ethiopia\",\"Sri Lanka\",\"Armenia\",\"India\",\"Mauritania\",\"Congo (Brazzaville)\",\"Georgia\",\"Congo (Kinshasa)\",\"Mali\",\"Ivory Coast\",\"Cambodia\",\"Sudan\",\"Ghana\",\"Ukraine\",\"Uganda\",\"Burkina Faso\",\"Niger\",\"Malawi\",\"Chad\",\"Zimbabwe\",\"Lesotho\",\"Angola\",\"Afghanistan\",\"Botswana\",\"Benin\",\"Madagascar\",\"Haiti\",\"Yemen\",\"South Sudan\",\"Liberia\",\"Guinea\",\"Togo\",\"Rwanda\",\"Syria\",\"Tanzania\",\"Burundi\",\"Central African Republic\"],\"locationmode\":\"country names\",\"locations\":[\"Norway\",\"Denmark\",\"Iceland\",\"Switzerland\",\"Finland\",\"Netherlands\",\"Canada\",\"New Zealand\",\"Sweden\",\"Australia\",\"Israel\",\"Costa Rica\",\"Austria\",\"United States\",\"Ireland\",\"Germany\",\"Belgium\",\"Luxembourg\",\"United Kingdom\",\"Chile\",\"United Arab Emirates\",\"Brazil\",\"Czech Republic\",\"Argentina\",\"Mexico\",\"Singapore\",\"Malta\",\"Uruguay\",\"Guatemala\",\"Panama\",\"France\",\"Thailand\",\"Taiwan Province of China\",\"Spain\",\"Qatar\",\"Colombia\",\"Saudi Arabia\",\"Trinidad and Tobago\",\"Kuwait\",\"Slovakia\",\"Bahrain\",\"Malaysia\",\"Nicaragua\",\"Ecuador\",\"El Salvador\",\"Poland\",\"Uzbekistan\",\"Italy\",\"Russia\",\"Belize\",\"Japan\",\"Lithuania\",\"Algeria\",\"Latvia\",\"South Korea\",\"Moldova\",\"Romania\",\"Bolivia\",\"Turkmenistan\",\"Kazakhstan\",\"North Cyprus\",\"Slovenia\",\"Peru\",\"Mauritius\",\"Cyprus\",\"Estonia\",\"Belarus\",\"Libya\",\"Turkey\",\"Paraguay\",\"Hong Kong S.A.R., China\",\"Philippines\",\"Serbia\",\"Jordan\",\"Hungary\",\"Jamaica\",\"Croatia\",\"Kosovo\",\"China\",\"Pakistan\",\"Indonesia\",\"Venezuela\",\"Montenegro\",\"Morocco\",\"Azerbaijan\",\"Dominican Republic\",\"Greece\",\"Lebanon\",\"Portugal\",\"Bosnia and Herzegovina\",\"Honduras\",\"Macedonia\",\"Somalia\",\"Vietnam\",\"Nigeria\",\"Tajikistan\",\"Bhutan\",\"Kyrgyzstan\",\"Nepal\",\"Mongolia\",\"South Africa\",\"Tunisia\",\"Palestinian Territories\",\"Egypt\",\"Bulgaria\",\"Sierra Leone\",\"Cameroon\",\"Iran\",\"Albania\",\"Bangladesh\",\"Namibia\",\"Kenya\",\"Mozambique\",\"Myanmar\",\"Senegal\",\"Zambia\",\"Iraq\",\"Gabon\",\"Ethiopia\",\"Sri Lanka\",\"Armenia\",\"India\",\"Mauritania\",\"Congo (Brazzaville)\",\"Georgia\",\"Congo (Kinshasa)\",\"Mali\",\"Ivory Coast\",\"Cambodia\",\"Sudan\",\"Ghana\",\"Ukraine\",\"Uganda\",\"Burkina Faso\",\"Niger\",\"Malawi\",\"Chad\",\"Zimbabwe\",\"Lesotho\",\"Angola\",\"Afghanistan\",\"Botswana\",\"Benin\",\"Madagascar\",\"Haiti\",\"Yemen\",\"South Sudan\",\"Liberia\",\"Guinea\",\"Togo\",\"Rwanda\",\"Syria\",\"Tanzania\",\"Burundi\",\"Central African Republic\"],\"name\":\"\",\"z\":[7.53700017929077,7.52199983596802,7.50400018692017,7.49399995803833,7.4689998626709,7.3769998550415,7.31599998474121,7.31400012969971,7.28399991989136,7.28399991989136,7.21299982070923,7.0789999961853,7.00600004196167,6.99300003051758,6.97700023651123,6.95100021362305,6.89099979400635,6.86299991607666,6.71400022506714,6.65199995040894,6.64799976348877,6.63500022888184,6.60900020599365,6.59899997711182,6.57800006866455,6.57200002670288,6.52699995040894,6.4539999961853,6.4539999961853,6.4520001411438,6.44199991226196,6.42399978637695,6.42199993133545,6.40299987792969,6.375,6.35699987411499,6.3439998626709,6.16800022125244,6.10500001907349,6.09800004959106,6.08699989318848,6.08400011062622,6.07100009918213,6.00799989700317,6.00299978256226,5.97300004959106,5.97100019454956,5.96400022506714,5.96299982070923,5.95599985122681,5.92000007629395,5.90199995040894,5.87200021743774,5.84999990463257,5.83799982070923,5.83799982070923,5.82499980926514,5.82299995422363,5.82200002670288,5.81899976730347,5.80999994277954,5.75799989700317,5.71500015258789,5.62900018692017,5.62099981307983,5.61100006103516,5.56899976730347,5.52500009536743,5.5,5.49300003051758,5.47200012207031,5.42999982833862,5.39499998092651,5.33599996566772,5.32399988174438,5.31099987030029,5.29300022125244,5.27899980545044,5.27299976348877,5.26900005340576,5.26200008392334,5.25,5.23699998855591,5.2350001335144,5.23400020599365,5.23000001907349,5.22700023651123,5.22499990463257,5.19500017166138,5.18200016021729,5.18100023269653,5.17500019073486,5.15100002288818,5.07399988174438,5.07399988174438,5.04099988937378,5.01100015640259,5.00400018692017,4.96199989318848,4.95499992370605,4.8289999961853,4.80499982833862,4.77500009536743,4.7350001335144,4.71400022506714,4.70900011062622,4.69500017166138,4.69199991226196,4.64400005340576,4.60799980163574,4.57399988174438,4.55299997329712,4.55000019073486,4.54500007629395,4.53499984741211,4.51399993896484,4.49700021743774,4.46500015258789,4.46000003814697,4.44000005722046,4.37599992752075,4.31500005722046,4.29199981689453,4.29099988937378,4.28599977493286,4.28000020980835,4.19000005722046,4.17999982833862,4.16800022125244,4.13899993896484,4.11999988555908,4.09600019454956,4.08099985122681,4.03200006484985,4.02799987792969,3.97000002861023,3.93600010871887,3.875,3.80800008773804,3.79500007629395,3.79399991035461,3.76600003242493,3.65700006484985,3.64400005340576,3.6029999256134,3.59299993515015,3.59100008010864,3.53299999237061,3.50699996948242,3.49499988555908,3.47099995613098,3.46199989318848,3.34899997711182,2.90499997138977,2.69300007820129],\"type\":\"choropleth\"}],                        {\"template\":{\"data\":{\"histogram2dcontour\":[{\"type\":\"histogram2dcontour\",\"colorbar\":{\"outlinewidth\":0,\"ticks\":\"\"},\"colorscale\":[[0.0,\"#0d0887\"],[0.1111111111111111,\"#46039f\"],[0.2222222222222222,\"#7201a8\"],[0.3333333333333333,\"#9c179e\"],[0.4444444444444444,\"#bd3786\"],[0.5555555555555556,\"#d8576b\"],[0.6666666666666666,\"#ed7953\"],[0.7777777777777778,\"#fb9f3a\"],[0.8888888888888888,\"#fdca26\"],[1.0,\"#f0f921\"]]}],\"choropleth\":[{\"type\":\"choropleth\",\"colorbar\":{\"outlinewidth\":0,\"ticks\":\"\"}}],\"histogram2d\":[{\"type\":\"histogram2d\",\"colorbar\":{\"outlinewidth\":0,\"ticks\":\"\"},\"colorscale\":[[0.0,\"#0d0887\"],[0.1111111111111111,\"#46039f\"],[0.2222222222222222,\"#7201a8\"],[0.3333333333333333,\"#9c179e\"],[0.4444444444444444,\"#bd3786\"],[0.5555555555555556,\"#d8576b\"],[0.6666666666666666,\"#ed7953\"],[0.7777777777777778,\"#fb9f3a\"],[0.8888888888888888,\"#fdca26\"],[1.0,\"#f0f921\"]]}],\"heatmap\":[{\"type\":\"heatmap\",\"colorbar\":{\"outlinewidth\":0,\"ticks\":\"\"},\"colorscale\":[[0.0,\"#0d0887\"],[0.1111111111111111,\"#46039f\"],[0.2222222222222222,\"#7201a8\"],[0.3333333333333333,\"#9c179e\"],[0.4444444444444444,\"#bd3786\"],[0.5555555555555556,\"#d8576b\"],[0.6666666666666666,\"#ed7953\"],[0.7777777777777778,\"#fb9f3a\"],[0.8888888888888888,\"#fdca26\"],[1.0,\"#f0f921\"]]}],\"heatmapgl\":[{\"type\":\"heatmapgl\",\"colorbar\":{\"outlinewidth\":0,\"ticks\":\"\"},\"colorscale\":[[0.0,\"#0d0887\"],[0.1111111111111111,\"#46039f\"],[0.2222222222222222,\"#7201a8\"],[0.3333333333333333,\"#9c179e\"],[0.4444444444444444,\"#bd3786\"],[0.5555555555555556,\"#d8576b\"],[0.6666666666666666,\"#ed7953\"],[0.7777777777777778,\"#fb9f3a\"],[0.8888888888888888,\"#fdca26\"],[1.0,\"#f0f921\"]]}],\"contourcarpet\":[{\"type\":\"contourcarpet\",\"colorbar\":{\"outlinewidth\":0,\"ticks\":\"\"}}],\"contour\":[{\"type\":\"contour\",\"colorbar\":{\"outlinewidth\":0,\"ticks\":\"\"},\"colorscale\":[[0.0,\"#0d0887\"],[0.1111111111111111,\"#46039f\"],[0.2222222222222222,\"#7201a8\"],[0.3333333333333333,\"#9c179e\"],[0.4444444444444444,\"#bd3786\"],[0.5555555555555556,\"#d8576b\"],[0.6666666666666666,\"#ed7953\"],[0.7777777777777778,\"#fb9f3a\"],[0.8888888888888888,\"#fdca26\"],[1.0,\"#f0f921\"]]}],\"surface\":[{\"type\":\"surface\",\"colorbar\":{\"outlinewidth\":0,\"ticks\":\"\"},\"colorscale\":[[0.0,\"#0d0887\"],[0.1111111111111111,\"#46039f\"],[0.2222222222222222,\"#7201a8\"],[0.3333333333333333,\"#9c179e\"],[0.4444444444444444,\"#bd3786\"],[0.5555555555555556,\"#d8576b\"],[0.6666666666666666,\"#ed7953\"],[0.7777777777777778,\"#fb9f3a\"],[0.8888888888888888,\"#fdca26\"],[1.0,\"#f0f921\"]]}],\"mesh3d\":[{\"type\":\"mesh3d\",\"colorbar\":{\"outlinewidth\":0,\"ticks\":\"\"}}],\"scatter\":[{\"fillpattern\":{\"fillmode\":\"overlay\",\"size\":10,\"solidity\":0.2},\"type\":\"scatter\"}],\"parcoords\":[{\"type\":\"parcoords\",\"line\":{\"colorbar\":{\"outlinewidth\":0,\"ticks\":\"\"}}}],\"scatterpolargl\":[{\"type\":\"scatterpolargl\",\"marker\":{\"colorbar\":{\"outlinewidth\":0,\"ticks\":\"\"}}}],\"bar\":[{\"error_x\":{\"color\":\"#2a3f5f\"},\"error_y\":{\"color\":\"#2a3f5f\"},\"marker\":{\"line\":{\"color\":\"#E5ECF6\",\"width\":0.5},\"pattern\":{\"fillmode\":\"overlay\",\"size\":10,\"solidity\":0.2}},\"type\":\"bar\"}],\"scattergeo\":[{\"type\":\"scattergeo\",\"marker\":{\"colorbar\":{\"outlinewidth\":0,\"ticks\":\"\"}}}],\"scatterpolar\":[{\"type\":\"scatterpolar\",\"marker\":{\"colorbar\":{\"outlinewidth\":0,\"ticks\":\"\"}}}],\"histogram\":[{\"marker\":{\"pattern\":{\"fillmode\":\"overlay\",\"size\":10,\"solidity\":0.2}},\"type\":\"histogram\"}],\"scattergl\":[{\"type\":\"scattergl\",\"marker\":{\"colorbar\":{\"outlinewidth\":0,\"ticks\":\"\"}}}],\"scatter3d\":[{\"type\":\"scatter3d\",\"line\":{\"colorbar\":{\"outlinewidth\":0,\"ticks\":\"\"}},\"marker\":{\"colorbar\":{\"outlinewidth\":0,\"ticks\":\"\"}}}],\"scattermapbox\":[{\"type\":\"scattermapbox\",\"marker\":{\"colorbar\":{\"outlinewidth\":0,\"ticks\":\"\"}}}],\"scatterternary\":[{\"type\":\"scatterternary\",\"marker\":{\"colorbar\":{\"outlinewidth\":0,\"ticks\":\"\"}}}],\"scattercarpet\":[{\"type\":\"scattercarpet\",\"marker\":{\"colorbar\":{\"outlinewidth\":0,\"ticks\":\"\"}}}],\"carpet\":[{\"aaxis\":{\"endlinecolor\":\"#2a3f5f\",\"gridcolor\":\"white\",\"linecolor\":\"white\",\"minorgridcolor\":\"white\",\"startlinecolor\":\"#2a3f5f\"},\"baxis\":{\"endlinecolor\":\"#2a3f5f\",\"gridcolor\":\"white\",\"linecolor\":\"white\",\"minorgridcolor\":\"white\",\"startlinecolor\":\"#2a3f5f\"},\"type\":\"carpet\"}],\"table\":[{\"cells\":{\"fill\":{\"color\":\"#EBF0F8\"},\"line\":{\"color\":\"white\"}},\"header\":{\"fill\":{\"color\":\"#C8D4E3\"},\"line\":{\"color\":\"white\"}},\"type\":\"table\"}],\"barpolar\":[{\"marker\":{\"line\":{\"color\":\"#E5ECF6\",\"width\":0.5},\"pattern\":{\"fillmode\":\"overlay\",\"size\":10,\"solidity\":0.2}},\"type\":\"barpolar\"}],\"pie\":[{\"automargin\":true,\"type\":\"pie\"}]},\"layout\":{\"autotypenumbers\":\"strict\",\"colorway\":[\"#636efa\",\"#EF553B\",\"#00cc96\",\"#ab63fa\",\"#FFA15A\",\"#19d3f3\",\"#FF6692\",\"#B6E880\",\"#FF97FF\",\"#FECB52\"],\"font\":{\"color\":\"#2a3f5f\"},\"hovermode\":\"closest\",\"hoverlabel\":{\"align\":\"left\"},\"paper_bgcolor\":\"white\",\"plot_bgcolor\":\"#E5ECF6\",\"polar\":{\"bgcolor\":\"#E5ECF6\",\"angularaxis\":{\"gridcolor\":\"white\",\"linecolor\":\"white\",\"ticks\":\"\"},\"radialaxis\":{\"gridcolor\":\"white\",\"linecolor\":\"white\",\"ticks\":\"\"}},\"ternary\":{\"bgcolor\":\"#E5ECF6\",\"aaxis\":{\"gridcolor\":\"white\",\"linecolor\":\"white\",\"ticks\":\"\"},\"baxis\":{\"gridcolor\":\"white\",\"linecolor\":\"white\",\"ticks\":\"\"},\"caxis\":{\"gridcolor\":\"white\",\"linecolor\":\"white\",\"ticks\":\"\"}},\"coloraxis\":{\"colorbar\":{\"outlinewidth\":0,\"ticks\":\"\"}},\"colorscale\":{\"sequential\":[[0.0,\"#0d0887\"],[0.1111111111111111,\"#46039f\"],[0.2222222222222222,\"#7201a8\"],[0.3333333333333333,\"#9c179e\"],[0.4444444444444444,\"#bd3786\"],[0.5555555555555556,\"#d8576b\"],[0.6666666666666666,\"#ed7953\"],[0.7777777777777778,\"#fb9f3a\"],[0.8888888888888888,\"#fdca26\"],[1.0,\"#f0f921\"]],\"sequentialminus\":[[0.0,\"#0d0887\"],[0.1111111111111111,\"#46039f\"],[0.2222222222222222,\"#7201a8\"],[0.3333333333333333,\"#9c179e\"],[0.4444444444444444,\"#bd3786\"],[0.5555555555555556,\"#d8576b\"],[0.6666666666666666,\"#ed7953\"],[0.7777777777777778,\"#fb9f3a\"],[0.8888888888888888,\"#fdca26\"],[1.0,\"#f0f921\"]],\"diverging\":[[0,\"#8e0152\"],[0.1,\"#c51b7d\"],[0.2,\"#de77ae\"],[0.3,\"#f1b6da\"],[0.4,\"#fde0ef\"],[0.5,\"#f7f7f7\"],[0.6,\"#e6f5d0\"],[0.7,\"#b8e186\"],[0.8,\"#7fbc41\"],[0.9,\"#4d9221\"],[1,\"#276419\"]]},\"xaxis\":{\"gridcolor\":\"white\",\"linecolor\":\"white\",\"ticks\":\"\",\"title\":{\"standoff\":15},\"zerolinecolor\":\"white\",\"automargin\":true,\"zerolinewidth\":2},\"yaxis\":{\"gridcolor\":\"white\",\"linecolor\":\"white\",\"ticks\":\"\",\"title\":{\"standoff\":15},\"zerolinecolor\":\"white\",\"automargin\":true,\"zerolinewidth\":2},\"scene\":{\"xaxis\":{\"backgroundcolor\":\"#E5ECF6\",\"gridcolor\":\"white\",\"linecolor\":\"white\",\"showbackground\":true,\"ticks\":\"\",\"zerolinecolor\":\"white\",\"gridwidth\":2},\"yaxis\":{\"backgroundcolor\":\"#E5ECF6\",\"gridcolor\":\"white\",\"linecolor\":\"white\",\"showbackground\":true,\"ticks\":\"\",\"zerolinecolor\":\"white\",\"gridwidth\":2},\"zaxis\":{\"backgroundcolor\":\"#E5ECF6\",\"gridcolor\":\"white\",\"linecolor\":\"white\",\"showbackground\":true,\"ticks\":\"\",\"zerolinecolor\":\"white\",\"gridwidth\":2}},\"shapedefaults\":{\"line\":{\"color\":\"#2a3f5f\"}},\"annotationdefaults\":{\"arrowcolor\":\"#2a3f5f\",\"arrowhead\":0,\"arrowwidth\":1},\"geo\":{\"bgcolor\":\"white\",\"landcolor\":\"#E5ECF6\",\"subunitcolor\":\"white\",\"showland\":true,\"showlakes\":true,\"lakecolor\":\"white\"},\"title\":{\"x\":0.05},\"mapbox\":{\"style\":\"light\"}}},\"geo\":{\"domain\":{\"x\":[0.0,1.0],\"y\":[0.0,1.0]},\"center\":{},\"projection\":{\"type\":\"equirectangular\"},\"showframe\":false,\"showcoastlines\":false},\"coloraxis\":{\"colorbar\":{\"title\":{\"text\":\"Happiness Score\"},\"tickvals\":[2.69300007820129,7.53700017929077],\"ticktext\":[\"Lowest\",\"Highest\"]},\"colorscale\":[[0.0,\"#440154\"],[0.1111111111111111,\"#482878\"],[0.2222222222222222,\"#3e4989\"],[0.3333333333333333,\"#31688e\"],[0.4444444444444444,\"#26828e\"],[0.5555555555555556,\"#1f9e89\"],[0.6666666666666666,\"#35b779\"],[0.7777777777777778,\"#6ece58\"],[0.8888888888888888,\"#b5de2b\"],[1.0,\"#fde725\"]]},\"legend\":{\"tracegroupgap\":0},\"title\":{\"text\":\"World Happiness Index for 2017\"}},                        {\"responsive\": true}                    ).then(function(){\n",
       "                            \n",
       "var gd = document.getElementById('efb8aac8-320b-4832-acab-1195a5c32ffb');\n",
       "var x = new MutationObserver(function (mutations, observer) {{\n",
       "        var display = window.getComputedStyle(gd).display;\n",
       "        if (!display || display === 'none') {{\n",
       "            console.log([gd, 'removed!']);\n",
       "            Plotly.purge(gd);\n",
       "            observer.disconnect();\n",
       "        }}\n",
       "}});\n",
       "\n",
       "// Listen for the removal of the full notebook cells\n",
       "var notebookContainer = gd.closest('#notebook-container');\n",
       "if (notebookContainer) {{\n",
       "    x.observe(notebookContainer, {childList: true});\n",
       "}}\n",
       "\n",
       "// Listen for the clearing of the current output cell\n",
       "var outputEl = gd.closest('.output');\n",
       "if (outputEl) {{\n",
       "    x.observe(outputEl, {childList: true});\n",
       "}}\n",
       "\n",
       "                        })                };                });            </script>        </div>"
      ]
     },
     "metadata": {},
     "output_type": "display_data"
    }
   ],
   "source": [
    "import pandas as pd\n",
    "import plotly.express as px\n",
    "\n",
    "df_2017 = pd.read_csv(\"world_happiness_data/2017.csv\")\n",
    "df_2017.rename(columns={\"Country or region\": \"Country\", \"Happiness.Score\": \"Happiness Score\"}, inplace=True)\n",
    "\n",
    "fig_2017 = px.choropleth(\n",
    "    df_2017,\n",
    "    locations='Country',\n",
    "    locationmode='country names',\n",
    "    color='Happiness Score',\n",
    "    hover_name='Country',\n",
    "    color_continuous_scale=px.colors.sequential.Viridis,\n",
    "    title='World Happiness Index for 2017'\n",
    ")\n",
    "\n",
    "fig_2017.update_layout(\n",
    "    geo=dict(\n",
    "        showframe=False,\n",
    "        showcoastlines=False,\n",
    "        projection_type='equirectangular'\n",
    "    ),\n",
    "    coloraxis_colorbar=dict(\n",
    "        title=\"Happiness Score\",\n",
    "        tickvals=[df_2017['Happiness Score'].min(), df_2017['Happiness Score'].max()],\n",
    "        ticktext=[\"Lowest\", \"Highest\"]\n",
    "    )\n",
    ")\n",
    "\n",
    "fig_2017.show()\n"
   ]
  },
  {
   "cell_type": "code",
   "execution_count": 30,
   "id": "dc9a496f-ee11-417d-b29c-6d374a8256da",
   "metadata": {},
   "outputs": [
    {
     "data": {
      "application/vnd.plotly.v1+json": {
       "config": {
        "plotlyServerURL": "https://plot.ly"
       },
       "data": [
        {
         "coloraxis": "coloraxis",
         "geo": "geo",
         "hovertemplate": "<b>%{hovertext}</b><br><br>Country=%{location}<br>Happiness Score=%{z}<extra></extra>",
         "hovertext": [
          "Finland",
          "Norway",
          "Denmark",
          "Iceland",
          "Switzerland",
          "Netherlands",
          "Canada",
          "New Zealand",
          "Sweden",
          "Australia",
          "United Kingdom",
          "Austria",
          "Costa Rica",
          "Ireland",
          "Germany",
          "Belgium",
          "Luxembourg",
          "United States",
          "Israel",
          "United Arab Emirates",
          "Czech Republic",
          "Malta",
          "France",
          "Mexico",
          "Chile",
          "Taiwan",
          "Panama",
          "Brazil",
          "Argentina",
          "Guatemala",
          "Uruguay",
          "Qatar",
          "Saudi Arabia",
          "Singapore",
          "Malaysia",
          "Spain",
          "Colombia",
          "Trinidad & Tobago",
          "Slovakia",
          "El Salvador",
          "Nicaragua",
          "Poland",
          "Bahrain",
          "Uzbekistan",
          "Kuwait",
          "Thailand",
          "Italy",
          "Ecuador",
          "Belize",
          "Lithuania",
          "Slovenia",
          "Romania",
          "Latvia",
          "Japan",
          "Mauritius",
          "Jamaica",
          "South Korea",
          "Northern Cyprus",
          "Russia",
          "Kazakhstan",
          "Cyprus",
          "Bolivia",
          "Estonia",
          "Paraguay",
          "Peru",
          "Kosovo",
          "Moldova",
          "Turkmenistan",
          "Hungary",
          "Libya",
          "Philippines",
          "Honduras",
          "Belarus",
          "Turkey",
          "Pakistan",
          "Hong Kong",
          "Portugal",
          "Serbia",
          "Greece",
          "Lebanon",
          "Montenegro",
          "Croatia",
          "Dominican Republic",
          "Algeria",
          "Morocco",
          "China",
          "Azerbaijan",
          "Tajikistan",
          "Macedonia",
          "Jordan",
          "Nigeria",
          "Kyrgyzstan",
          "Bosnia and Herzegovina",
          "Mongolia",
          "Vietnam",
          "Indonesia",
          "Bhutan",
          "Somalia",
          "Cameroon",
          "Bulgaria",
          "Nepal",
          "Venezuela",
          "Gabon",
          "Palestinian Territories",
          "South Africa",
          "Iran",
          "Ivory Coast",
          "Ghana",
          "Senegal",
          "Laos",
          "Tunisia",
          "Albania",
          "Sierra Leone",
          "Congo (Brazzaville)",
          "Bangladesh",
          "Sri Lanka",
          "Iraq",
          "Mali",
          "Namibia",
          "Cambodia",
          "Burkina Faso",
          "Egypt",
          "Mozambique",
          "Kenya",
          "Zambia",
          "Mauritania",
          "Ethiopia",
          "Georgia",
          "Armenia",
          "Myanmar",
          "Chad",
          "Congo (Kinshasa)",
          "India",
          "Niger",
          "Uganda",
          "Benin",
          "Sudan",
          "Ukraine",
          "Togo",
          "Guinea",
          "Lesotho",
          "Angola",
          "Madagascar",
          "Zimbabwe",
          "Afghanistan",
          "Botswana",
          "Malawi",
          "Haiti",
          "Liberia",
          "Syria",
          "Rwanda",
          "Yemen",
          "Tanzania",
          "South Sudan",
          "Central African Republic",
          "Burundi"
         ],
         "locationmode": "country names",
         "locations": [
          "Finland",
          "Norway",
          "Denmark",
          "Iceland",
          "Switzerland",
          "Netherlands",
          "Canada",
          "New Zealand",
          "Sweden",
          "Australia",
          "United Kingdom",
          "Austria",
          "Costa Rica",
          "Ireland",
          "Germany",
          "Belgium",
          "Luxembourg",
          "United States",
          "Israel",
          "United Arab Emirates",
          "Czech Republic",
          "Malta",
          "France",
          "Mexico",
          "Chile",
          "Taiwan",
          "Panama",
          "Brazil",
          "Argentina",
          "Guatemala",
          "Uruguay",
          "Qatar",
          "Saudi Arabia",
          "Singapore",
          "Malaysia",
          "Spain",
          "Colombia",
          "Trinidad & Tobago",
          "Slovakia",
          "El Salvador",
          "Nicaragua",
          "Poland",
          "Bahrain",
          "Uzbekistan",
          "Kuwait",
          "Thailand",
          "Italy",
          "Ecuador",
          "Belize",
          "Lithuania",
          "Slovenia",
          "Romania",
          "Latvia",
          "Japan",
          "Mauritius",
          "Jamaica",
          "South Korea",
          "Northern Cyprus",
          "Russia",
          "Kazakhstan",
          "Cyprus",
          "Bolivia",
          "Estonia",
          "Paraguay",
          "Peru",
          "Kosovo",
          "Moldova",
          "Turkmenistan",
          "Hungary",
          "Libya",
          "Philippines",
          "Honduras",
          "Belarus",
          "Turkey",
          "Pakistan",
          "Hong Kong",
          "Portugal",
          "Serbia",
          "Greece",
          "Lebanon",
          "Montenegro",
          "Croatia",
          "Dominican Republic",
          "Algeria",
          "Morocco",
          "China",
          "Azerbaijan",
          "Tajikistan",
          "Macedonia",
          "Jordan",
          "Nigeria",
          "Kyrgyzstan",
          "Bosnia and Herzegovina",
          "Mongolia",
          "Vietnam",
          "Indonesia",
          "Bhutan",
          "Somalia",
          "Cameroon",
          "Bulgaria",
          "Nepal",
          "Venezuela",
          "Gabon",
          "Palestinian Territories",
          "South Africa",
          "Iran",
          "Ivory Coast",
          "Ghana",
          "Senegal",
          "Laos",
          "Tunisia",
          "Albania",
          "Sierra Leone",
          "Congo (Brazzaville)",
          "Bangladesh",
          "Sri Lanka",
          "Iraq",
          "Mali",
          "Namibia",
          "Cambodia",
          "Burkina Faso",
          "Egypt",
          "Mozambique",
          "Kenya",
          "Zambia",
          "Mauritania",
          "Ethiopia",
          "Georgia",
          "Armenia",
          "Myanmar",
          "Chad",
          "Congo (Kinshasa)",
          "India",
          "Niger",
          "Uganda",
          "Benin",
          "Sudan",
          "Ukraine",
          "Togo",
          "Guinea",
          "Lesotho",
          "Angola",
          "Madagascar",
          "Zimbabwe",
          "Afghanistan",
          "Botswana",
          "Malawi",
          "Haiti",
          "Liberia",
          "Syria",
          "Rwanda",
          "Yemen",
          "Tanzania",
          "South Sudan",
          "Central African Republic",
          "Burundi"
         ],
         "name": "",
         "type": "choropleth",
         "z": [
          7.632,
          7.594,
          7.555,
          7.495,
          7.487,
          7.441,
          7.328,
          7.324,
          7.314,
          7.272,
          7.19,
          7.139,
          7.072,
          6.977,
          6.965,
          6.927,
          6.91,
          6.886,
          6.814,
          6.774,
          6.711,
          6.627,
          6.489,
          6.488,
          6.476,
          6.441,
          6.43,
          6.419,
          6.388,
          6.382,
          6.379,
          6.374,
          6.371,
          6.343,
          6.322,
          6.31,
          6.26,
          6.192,
          6.173,
          6.167,
          6.141,
          6.123,
          6.105,
          6.096,
          6.083,
          6.072,
          6,
          5.973,
          5.956,
          5.952,
          5.948,
          5.945,
          5.933,
          5.915,
          5.891,
          5.89,
          5.875,
          5.835,
          5.81,
          5.79,
          5.762,
          5.752,
          5.739,
          5.681,
          5.663,
          5.662,
          5.64,
          5.636,
          5.62,
          5.566,
          5.524,
          5.504,
          5.483,
          5.483,
          5.472,
          5.43,
          5.41,
          5.398,
          5.358,
          5.358,
          5.347,
          5.321,
          5.302,
          5.295,
          5.254,
          5.246,
          5.201,
          5.199,
          5.185,
          5.161,
          5.155,
          5.131,
          5.129,
          5.125,
          5.103,
          5.093,
          5.082,
          4.982,
          4.975,
          4.933,
          4.88,
          4.806,
          4.758,
          4.743,
          4.724,
          4.707,
          4.671,
          4.657,
          4.631,
          4.623,
          4.592,
          4.586,
          4.571,
          4.559,
          4.5,
          4.471,
          4.456,
          4.447,
          4.441,
          4.433,
          4.424,
          4.419,
          4.417,
          4.41,
          4.377,
          4.356,
          4.35,
          4.34,
          4.321,
          4.308,
          4.301,
          4.245,
          4.19,
          4.166,
          4.161,
          4.141,
          4.139,
          4.103,
          3.999,
          3.964,
          3.808,
          3.795,
          3.774,
          3.692,
          3.632,
          3.59,
          3.587,
          3.582,
          3.495,
          3.462,
          3.408,
          3.355,
          3.303,
          3.254,
          3.083,
          2.905
         ]
        }
       ],
       "layout": {
        "autosize": true,
        "coloraxis": {
         "colorbar": {
          "ticktext": [
           "Lowest",
           "Highest"
          ],
          "tickvals": [
           2.905,
           7.632
          ],
          "title": {
           "text": "Happiness Score"
          }
         },
         "colorscale": [
          [
           0,
           "#440154"
          ],
          [
           0.1111111111111111,
           "#482878"
          ],
          [
           0.2222222222222222,
           "#3e4989"
          ],
          [
           0.3333333333333333,
           "#31688e"
          ],
          [
           0.4444444444444444,
           "#26828e"
          ],
          [
           0.5555555555555556,
           "#1f9e89"
          ],
          [
           0.6666666666666666,
           "#35b779"
          ],
          [
           0.7777777777777778,
           "#6ece58"
          ],
          [
           0.8888888888888888,
           "#b5de2b"
          ],
          [
           1,
           "#fde725"
          ]
         ]
        },
        "geo": {
         "center": {
          "lat": -20.37881473605537,
          "lon": -1.5454476368348793
         },
         "domain": {
          "x": [
           0,
           1
          ],
          "y": [
           0,
           1
          ]
         },
         "fitbounds": false,
         "projection": {
          "rotation": {
           "lon": -1.5454476368348793
          },
          "scale": 0.9700714661081504,
          "type": "equirectangular"
         },
         "showcoastlines": false,
         "showframe": false
        },
        "legend": {
         "tracegroupgap": 0
        },
        "template": {
         "data": {
          "bar": [
           {
            "error_x": {
             "color": "#2a3f5f"
            },
            "error_y": {
             "color": "#2a3f5f"
            },
            "marker": {
             "line": {
              "color": "#E5ECF6",
              "width": 0.5
             },
             "pattern": {
              "fillmode": "overlay",
              "size": 10,
              "solidity": 0.2
             }
            },
            "type": "bar"
           }
          ],
          "barpolar": [
           {
            "marker": {
             "line": {
              "color": "#E5ECF6",
              "width": 0.5
             },
             "pattern": {
              "fillmode": "overlay",
              "size": 10,
              "solidity": 0.2
             }
            },
            "type": "barpolar"
           }
          ],
          "carpet": [
           {
            "aaxis": {
             "endlinecolor": "#2a3f5f",
             "gridcolor": "white",
             "linecolor": "white",
             "minorgridcolor": "white",
             "startlinecolor": "#2a3f5f"
            },
            "baxis": {
             "endlinecolor": "#2a3f5f",
             "gridcolor": "white",
             "linecolor": "white",
             "minorgridcolor": "white",
             "startlinecolor": "#2a3f5f"
            },
            "type": "carpet"
           }
          ],
          "choropleth": [
           {
            "colorbar": {
             "outlinewidth": 0,
             "ticks": ""
            },
            "type": "choropleth"
           }
          ],
          "contour": [
           {
            "colorbar": {
             "outlinewidth": 0,
             "ticks": ""
            },
            "colorscale": [
             [
              0,
              "#0d0887"
             ],
             [
              0.1111111111111111,
              "#46039f"
             ],
             [
              0.2222222222222222,
              "#7201a8"
             ],
             [
              0.3333333333333333,
              "#9c179e"
             ],
             [
              0.4444444444444444,
              "#bd3786"
             ],
             [
              0.5555555555555556,
              "#d8576b"
             ],
             [
              0.6666666666666666,
              "#ed7953"
             ],
             [
              0.7777777777777778,
              "#fb9f3a"
             ],
             [
              0.8888888888888888,
              "#fdca26"
             ],
             [
              1,
              "#f0f921"
             ]
            ],
            "type": "contour"
           }
          ],
          "contourcarpet": [
           {
            "colorbar": {
             "outlinewidth": 0,
             "ticks": ""
            },
            "type": "contourcarpet"
           }
          ],
          "heatmap": [
           {
            "colorbar": {
             "outlinewidth": 0,
             "ticks": ""
            },
            "colorscale": [
             [
              0,
              "#0d0887"
             ],
             [
              0.1111111111111111,
              "#46039f"
             ],
             [
              0.2222222222222222,
              "#7201a8"
             ],
             [
              0.3333333333333333,
              "#9c179e"
             ],
             [
              0.4444444444444444,
              "#bd3786"
             ],
             [
              0.5555555555555556,
              "#d8576b"
             ],
             [
              0.6666666666666666,
              "#ed7953"
             ],
             [
              0.7777777777777778,
              "#fb9f3a"
             ],
             [
              0.8888888888888888,
              "#fdca26"
             ],
             [
              1,
              "#f0f921"
             ]
            ],
            "type": "heatmap"
           }
          ],
          "heatmapgl": [
           {
            "colorbar": {
             "outlinewidth": 0,
             "ticks": ""
            },
            "colorscale": [
             [
              0,
              "#0d0887"
             ],
             [
              0.1111111111111111,
              "#46039f"
             ],
             [
              0.2222222222222222,
              "#7201a8"
             ],
             [
              0.3333333333333333,
              "#9c179e"
             ],
             [
              0.4444444444444444,
              "#bd3786"
             ],
             [
              0.5555555555555556,
              "#d8576b"
             ],
             [
              0.6666666666666666,
              "#ed7953"
             ],
             [
              0.7777777777777778,
              "#fb9f3a"
             ],
             [
              0.8888888888888888,
              "#fdca26"
             ],
             [
              1,
              "#f0f921"
             ]
            ],
            "type": "heatmapgl"
           }
          ],
          "histogram": [
           {
            "marker": {
             "pattern": {
              "fillmode": "overlay",
              "size": 10,
              "solidity": 0.2
             }
            },
            "type": "histogram"
           }
          ],
          "histogram2d": [
           {
            "colorbar": {
             "outlinewidth": 0,
             "ticks": ""
            },
            "colorscale": [
             [
              0,
              "#0d0887"
             ],
             [
              0.1111111111111111,
              "#46039f"
             ],
             [
              0.2222222222222222,
              "#7201a8"
             ],
             [
              0.3333333333333333,
              "#9c179e"
             ],
             [
              0.4444444444444444,
              "#bd3786"
             ],
             [
              0.5555555555555556,
              "#d8576b"
             ],
             [
              0.6666666666666666,
              "#ed7953"
             ],
             [
              0.7777777777777778,
              "#fb9f3a"
             ],
             [
              0.8888888888888888,
              "#fdca26"
             ],
             [
              1,
              "#f0f921"
             ]
            ],
            "type": "histogram2d"
           }
          ],
          "histogram2dcontour": [
           {
            "colorbar": {
             "outlinewidth": 0,
             "ticks": ""
            },
            "colorscale": [
             [
              0,
              "#0d0887"
             ],
             [
              0.1111111111111111,
              "#46039f"
             ],
             [
              0.2222222222222222,
              "#7201a8"
             ],
             [
              0.3333333333333333,
              "#9c179e"
             ],
             [
              0.4444444444444444,
              "#bd3786"
             ],
             [
              0.5555555555555556,
              "#d8576b"
             ],
             [
              0.6666666666666666,
              "#ed7953"
             ],
             [
              0.7777777777777778,
              "#fb9f3a"
             ],
             [
              0.8888888888888888,
              "#fdca26"
             ],
             [
              1,
              "#f0f921"
             ]
            ],
            "type": "histogram2dcontour"
           }
          ],
          "mesh3d": [
           {
            "colorbar": {
             "outlinewidth": 0,
             "ticks": ""
            },
            "type": "mesh3d"
           }
          ],
          "parcoords": [
           {
            "line": {
             "colorbar": {
              "outlinewidth": 0,
              "ticks": ""
             }
            },
            "type": "parcoords"
           }
          ],
          "pie": [
           {
            "automargin": true,
            "type": "pie"
           }
          ],
          "scatter": [
           {
            "fillpattern": {
             "fillmode": "overlay",
             "size": 10,
             "solidity": 0.2
            },
            "type": "scatter"
           }
          ],
          "scatter3d": [
           {
            "line": {
             "colorbar": {
              "outlinewidth": 0,
              "ticks": ""
             }
            },
            "marker": {
             "colorbar": {
              "outlinewidth": 0,
              "ticks": ""
             }
            },
            "type": "scatter3d"
           }
          ],
          "scattercarpet": [
           {
            "marker": {
             "colorbar": {
              "outlinewidth": 0,
              "ticks": ""
             }
            },
            "type": "scattercarpet"
           }
          ],
          "scattergeo": [
           {
            "marker": {
             "colorbar": {
              "outlinewidth": 0,
              "ticks": ""
             }
            },
            "type": "scattergeo"
           }
          ],
          "scattergl": [
           {
            "marker": {
             "colorbar": {
              "outlinewidth": 0,
              "ticks": ""
             }
            },
            "type": "scattergl"
           }
          ],
          "scattermapbox": [
           {
            "marker": {
             "colorbar": {
              "outlinewidth": 0,
              "ticks": ""
             }
            },
            "type": "scattermapbox"
           }
          ],
          "scatterpolar": [
           {
            "marker": {
             "colorbar": {
              "outlinewidth": 0,
              "ticks": ""
             }
            },
            "type": "scatterpolar"
           }
          ],
          "scatterpolargl": [
           {
            "marker": {
             "colorbar": {
              "outlinewidth": 0,
              "ticks": ""
             }
            },
            "type": "scatterpolargl"
           }
          ],
          "scatterternary": [
           {
            "marker": {
             "colorbar": {
              "outlinewidth": 0,
              "ticks": ""
             }
            },
            "type": "scatterternary"
           }
          ],
          "surface": [
           {
            "colorbar": {
             "outlinewidth": 0,
             "ticks": ""
            },
            "colorscale": [
             [
              0,
              "#0d0887"
             ],
             [
              0.1111111111111111,
              "#46039f"
             ],
             [
              0.2222222222222222,
              "#7201a8"
             ],
             [
              0.3333333333333333,
              "#9c179e"
             ],
             [
              0.4444444444444444,
              "#bd3786"
             ],
             [
              0.5555555555555556,
              "#d8576b"
             ],
             [
              0.6666666666666666,
              "#ed7953"
             ],
             [
              0.7777777777777778,
              "#fb9f3a"
             ],
             [
              0.8888888888888888,
              "#fdca26"
             ],
             [
              1,
              "#f0f921"
             ]
            ],
            "type": "surface"
           }
          ],
          "table": [
           {
            "cells": {
             "fill": {
              "color": "#EBF0F8"
             },
             "line": {
              "color": "white"
             }
            },
            "header": {
             "fill": {
              "color": "#C8D4E3"
             },
             "line": {
              "color": "white"
             }
            },
            "type": "table"
           }
          ]
         },
         "layout": {
          "annotationdefaults": {
           "arrowcolor": "#2a3f5f",
           "arrowhead": 0,
           "arrowwidth": 1
          },
          "autotypenumbers": "strict",
          "coloraxis": {
           "colorbar": {
            "outlinewidth": 0,
            "ticks": ""
           }
          },
          "colorscale": {
           "diverging": [
            [
             0,
             "#8e0152"
            ],
            [
             0.1,
             "#c51b7d"
            ],
            [
             0.2,
             "#de77ae"
            ],
            [
             0.3,
             "#f1b6da"
            ],
            [
             0.4,
             "#fde0ef"
            ],
            [
             0.5,
             "#f7f7f7"
            ],
            [
             0.6,
             "#e6f5d0"
            ],
            [
             0.7,
             "#b8e186"
            ],
            [
             0.8,
             "#7fbc41"
            ],
            [
             0.9,
             "#4d9221"
            ],
            [
             1,
             "#276419"
            ]
           ],
           "sequential": [
            [
             0,
             "#0d0887"
            ],
            [
             0.1111111111111111,
             "#46039f"
            ],
            [
             0.2222222222222222,
             "#7201a8"
            ],
            [
             0.3333333333333333,
             "#9c179e"
            ],
            [
             0.4444444444444444,
             "#bd3786"
            ],
            [
             0.5555555555555556,
             "#d8576b"
            ],
            [
             0.6666666666666666,
             "#ed7953"
            ],
            [
             0.7777777777777778,
             "#fb9f3a"
            ],
            [
             0.8888888888888888,
             "#fdca26"
            ],
            [
             1,
             "#f0f921"
            ]
           ],
           "sequentialminus": [
            [
             0,
             "#0d0887"
            ],
            [
             0.1111111111111111,
             "#46039f"
            ],
            [
             0.2222222222222222,
             "#7201a8"
            ],
            [
             0.3333333333333333,
             "#9c179e"
            ],
            [
             0.4444444444444444,
             "#bd3786"
            ],
            [
             0.5555555555555556,
             "#d8576b"
            ],
            [
             0.6666666666666666,
             "#ed7953"
            ],
            [
             0.7777777777777778,
             "#fb9f3a"
            ],
            [
             0.8888888888888888,
             "#fdca26"
            ],
            [
             1,
             "#f0f921"
            ]
           ]
          },
          "colorway": [
           "#636efa",
           "#EF553B",
           "#00cc96",
           "#ab63fa",
           "#FFA15A",
           "#19d3f3",
           "#FF6692",
           "#B6E880",
           "#FF97FF",
           "#FECB52"
          ],
          "font": {
           "color": "#2a3f5f"
          },
          "geo": {
           "bgcolor": "white",
           "lakecolor": "white",
           "landcolor": "#E5ECF6",
           "showlakes": true,
           "showland": true,
           "subunitcolor": "white"
          },
          "hoverlabel": {
           "align": "left"
          },
          "hovermode": "closest",
          "mapbox": {
           "style": "light"
          },
          "paper_bgcolor": "white",
          "plot_bgcolor": "#E5ECF6",
          "polar": {
           "angularaxis": {
            "gridcolor": "white",
            "linecolor": "white",
            "ticks": ""
           },
           "bgcolor": "#E5ECF6",
           "radialaxis": {
            "gridcolor": "white",
            "linecolor": "white",
            "ticks": ""
           }
          },
          "scene": {
           "xaxis": {
            "backgroundcolor": "#E5ECF6",
            "gridcolor": "white",
            "gridwidth": 2,
            "linecolor": "white",
            "showbackground": true,
            "ticks": "",
            "zerolinecolor": "white"
           },
           "yaxis": {
            "backgroundcolor": "#E5ECF6",
            "gridcolor": "white",
            "gridwidth": 2,
            "linecolor": "white",
            "showbackground": true,
            "ticks": "",
            "zerolinecolor": "white"
           },
           "zaxis": {
            "backgroundcolor": "#E5ECF6",
            "gridcolor": "white",
            "gridwidth": 2,
            "linecolor": "white",
            "showbackground": true,
            "ticks": "",
            "zerolinecolor": "white"
           }
          },
          "shapedefaults": {
           "line": {
            "color": "#2a3f5f"
           }
          },
          "ternary": {
           "aaxis": {
            "gridcolor": "white",
            "linecolor": "white",
            "ticks": ""
           },
           "baxis": {
            "gridcolor": "white",
            "linecolor": "white",
            "ticks": ""
           },
           "bgcolor": "#E5ECF6",
           "caxis": {
            "gridcolor": "white",
            "linecolor": "white",
            "ticks": ""
           }
          },
          "title": {
           "x": 0.05
          },
          "xaxis": {
           "automargin": true,
           "gridcolor": "white",
           "linecolor": "white",
           "ticks": "",
           "title": {
            "standoff": 15
           },
           "zerolinecolor": "white",
           "zerolinewidth": 2
          },
          "yaxis": {
           "automargin": true,
           "gridcolor": "white",
           "linecolor": "white",
           "ticks": "",
           "title": {
            "standoff": 15
           },
           "zerolinecolor": "white",
           "zerolinewidth": 2
          }
         }
        },
        "title": {
         "text": "World Happiness Index for 2018"
        }
       }
      },
      "image/png": "[encoded data removed]",
      "text/html": [
       "<div>                            <div id=\"61ac8c17-fc50-4f2e-8d95-2f06b50c4cb7\" class=\"plotly-graph-div\" style=\"height:525px; width:100%;\"></div>            <script type=\"text/javascript\">                require([\"plotly\"], function(Plotly) {                    window.PLOTLYENV=window.PLOTLYENV || {};                                    if (document.getElementById(\"61ac8c17-fc50-4f2e-8d95-2f06b50c4cb7\")) {                    Plotly.newPlot(                        \"61ac8c17-fc50-4f2e-8d95-2f06b50c4cb7\",                        [{\"coloraxis\":\"coloraxis\",\"geo\":\"geo\",\"hovertemplate\":\"\\u003cb\\u003e%{hovertext}\\u003c\\u002fb\\u003e\\u003cbr\\u003e\\u003cbr\\u003eCountry=%{location}\\u003cbr\\u003eHappiness Score=%{z}\\u003cextra\\u003e\\u003c\\u002fextra\\u003e\",\"hovertext\":[\"Finland\",\"Norway\",\"Denmark\",\"Iceland\",\"Switzerland\",\"Netherlands\",\"Canada\",\"New Zealand\",\"Sweden\",\"Australia\",\"United Kingdom\",\"Austria\",\"Costa Rica\",\"Ireland\",\"Germany\",\"Belgium\",\"Luxembourg\",\"United States\",\"Israel\",\"United Arab Emirates\",\"Czech Republic\",\"Malta\",\"France\",\"Mexico\",\"Chile\",\"Taiwan\",\"Panama\",\"Brazil\",\"Argentina\",\"Guatemala\",\"Uruguay\",\"Qatar\",\"Saudi Arabia\",\"Singapore\",\"Malaysia\",\"Spain\",\"Colombia\",\"Trinidad & Tobago\",\"Slovakia\",\"El Salvador\",\"Nicaragua\",\"Poland\",\"Bahrain\",\"Uzbekistan\",\"Kuwait\",\"Thailand\",\"Italy\",\"Ecuador\",\"Belize\",\"Lithuania\",\"Slovenia\",\"Romania\",\"Latvia\",\"Japan\",\"Mauritius\",\"Jamaica\",\"South Korea\",\"Northern Cyprus\",\"Russia\",\"Kazakhstan\",\"Cyprus\",\"Bolivia\",\"Estonia\",\"Paraguay\",\"Peru\",\"Kosovo\",\"Moldova\",\"Turkmenistan\",\"Hungary\",\"Libya\",\"Philippines\",\"Honduras\",\"Belarus\",\"Turkey\",\"Pakistan\",\"Hong Kong\",\"Portugal\",\"Serbia\",\"Greece\",\"Lebanon\",\"Montenegro\",\"Croatia\",\"Dominican Republic\",\"Algeria\",\"Morocco\",\"China\",\"Azerbaijan\",\"Tajikistan\",\"Macedonia\",\"Jordan\",\"Nigeria\",\"Kyrgyzstan\",\"Bosnia and Herzegovina\",\"Mongolia\",\"Vietnam\",\"Indonesia\",\"Bhutan\",\"Somalia\",\"Cameroon\",\"Bulgaria\",\"Nepal\",\"Venezuela\",\"Gabon\",\"Palestinian Territories\",\"South Africa\",\"Iran\",\"Ivory Coast\",\"Ghana\",\"Senegal\",\"Laos\",\"Tunisia\",\"Albania\",\"Sierra Leone\",\"Congo (Brazzaville)\",\"Bangladesh\",\"Sri Lanka\",\"Iraq\",\"Mali\",\"Namibia\",\"Cambodia\",\"Burkina Faso\",\"Egypt\",\"Mozambique\",\"Kenya\",\"Zambia\",\"Mauritania\",\"Ethiopia\",\"Georgia\",\"Armenia\",\"Myanmar\",\"Chad\",\"Congo (Kinshasa)\",\"India\",\"Niger\",\"Uganda\",\"Benin\",\"Sudan\",\"Ukraine\",\"Togo\",\"Guinea\",\"Lesotho\",\"Angola\",\"Madagascar\",\"Zimbabwe\",\"Afghanistan\",\"Botswana\",\"Malawi\",\"Haiti\",\"Liberia\",\"Syria\",\"Rwanda\",\"Yemen\",\"Tanzania\",\"South Sudan\",\"Central African Republic\",\"Burundi\"],\"locationmode\":\"country names\",\"locations\":[\"Finland\",\"Norway\",\"Denmark\",\"Iceland\",\"Switzerland\",\"Netherlands\",\"Canada\",\"New Zealand\",\"Sweden\",\"Australia\",\"United Kingdom\",\"Austria\",\"Costa Rica\",\"Ireland\",\"Germany\",\"Belgium\",\"Luxembourg\",\"United States\",\"Israel\",\"United Arab Emirates\",\"Czech Republic\",\"Malta\",\"France\",\"Mexico\",\"Chile\",\"Taiwan\",\"Panama\",\"Brazil\",\"Argentina\",\"Guatemala\",\"Uruguay\",\"Qatar\",\"Saudi Arabia\",\"Singapore\",\"Malaysia\",\"Spain\",\"Colombia\",\"Trinidad & Tobago\",\"Slovakia\",\"El Salvador\",\"Nicaragua\",\"Poland\",\"Bahrain\",\"Uzbekistan\",\"Kuwait\",\"Thailand\",\"Italy\",\"Ecuador\",\"Belize\",\"Lithuania\",\"Slovenia\",\"Romania\",\"Latvia\",\"Japan\",\"Mauritius\",\"Jamaica\",\"South Korea\",\"Northern Cyprus\",\"Russia\",\"Kazakhstan\",\"Cyprus\",\"Bolivia\",\"Estonia\",\"Paraguay\",\"Peru\",\"Kosovo\",\"Moldova\",\"Turkmenistan\",\"Hungary\",\"Libya\",\"Philippines\",\"Honduras\",\"Belarus\",\"Turkey\",\"Pakistan\",\"Hong Kong\",\"Portugal\",\"Serbia\",\"Greece\",\"Lebanon\",\"Montenegro\",\"Croatia\",\"Dominican Republic\",\"Algeria\",\"Morocco\",\"China\",\"Azerbaijan\",\"Tajikistan\",\"Macedonia\",\"Jordan\",\"Nigeria\",\"Kyrgyzstan\",\"Bosnia and Herzegovina\",\"Mongolia\",\"Vietnam\",\"Indonesia\",\"Bhutan\",\"Somalia\",\"Cameroon\",\"Bulgaria\",\"Nepal\",\"Venezuela\",\"Gabon\",\"Palestinian Territories\",\"South Africa\",\"Iran\",\"Ivory Coast\",\"Ghana\",\"Senegal\",\"Laos\",\"Tunisia\",\"Albania\",\"Sierra Leone\",\"Congo (Brazzaville)\",\"Bangladesh\",\"Sri Lanka\",\"Iraq\",\"Mali\",\"Namibia\",\"Cambodia\",\"Burkina Faso\",\"Egypt\",\"Mozambique\",\"Kenya\",\"Zambia\",\"Mauritania\",\"Ethiopia\",\"Georgia\",\"Armenia\",\"Myanmar\",\"Chad\",\"Congo (Kinshasa)\",\"India\",\"Niger\",\"Uganda\",\"Benin\",\"Sudan\",\"Ukraine\",\"Togo\",\"Guinea\",\"Lesotho\",\"Angola\",\"Madagascar\",\"Zimbabwe\",\"Afghanistan\",\"Botswana\",\"Malawi\",\"Haiti\",\"Liberia\",\"Syria\",\"Rwanda\",\"Yemen\",\"Tanzania\",\"South Sudan\",\"Central African Republic\",\"Burundi\"],\"name\":\"\",\"z\":[7.632,7.594,7.555,7.495,7.487,7.441,7.328,7.324,7.314,7.272,7.19,7.139,7.072,6.977,6.965,6.927,6.91,6.886,6.814,6.774,6.711,6.627,6.489,6.488,6.476,6.441,6.43,6.419,6.388,6.382,6.379,6.374,6.371,6.343,6.322,6.31,6.26,6.192,6.173,6.167,6.141,6.123,6.105,6.096,6.083,6.072,6.0,5.973,5.956,5.952,5.948,5.945,5.933,5.915,5.891,5.89,5.875,5.835,5.81,5.79,5.762,5.752,5.739,5.681,5.663,5.662,5.64,5.636,5.62,5.566,5.524,5.504,5.483,5.483,5.472,5.43,5.41,5.398,5.358,5.358,5.347,5.321,5.302,5.295,5.254,5.246,5.201,5.199,5.185,5.161,5.155,5.131,5.129,5.125,5.103,5.093,5.082,4.982,4.975,4.933,4.88,4.806,4.758,4.743,4.724,4.707,4.671,4.657,4.631,4.623,4.592,4.586,4.571,4.559,4.5,4.471,4.456,4.447,4.441,4.433,4.424,4.419,4.417,4.41,4.377,4.356,4.35,4.34,4.321,4.308,4.301,4.245,4.19,4.166,4.161,4.141,4.139,4.103,3.999,3.964,3.808,3.795,3.774,3.692,3.632,3.59,3.587,3.582,3.495,3.462,3.408,3.355,3.303,3.254,3.083,2.905],\"type\":\"choropleth\"}],                        {\"template\":{\"data\":{\"histogram2dcontour\":[{\"type\":\"histogram2dcontour\",\"colorbar\":{\"outlinewidth\":0,\"ticks\":\"\"},\"colorscale\":[[0.0,\"#0d0887\"],[0.1111111111111111,\"#46039f\"],[0.2222222222222222,\"#7201a8\"],[0.3333333333333333,\"#9c179e\"],[0.4444444444444444,\"#bd3786\"],[0.5555555555555556,\"#d8576b\"],[0.6666666666666666,\"#ed7953\"],[0.7777777777777778,\"#fb9f3a\"],[0.8888888888888888,\"#fdca26\"],[1.0,\"#f0f921\"]]}],\"choropleth\":[{\"type\":\"choropleth\",\"colorbar\":{\"outlinewidth\":0,\"ticks\":\"\"}}],\"histogram2d\":[{\"type\":\"histogram2d\",\"colorbar\":{\"outlinewidth\":0,\"ticks\":\"\"},\"colorscale\":[[0.0,\"#0d0887\"],[0.1111111111111111,\"#46039f\"],[0.2222222222222222,\"#7201a8\"],[0.3333333333333333,\"#9c179e\"],[0.4444444444444444,\"#bd3786\"],[0.5555555555555556,\"#d8576b\"],[0.6666666666666666,\"#ed7953\"],[0.7777777777777778,\"#fb9f3a\"],[0.8888888888888888,\"#fdca26\"],[1.0,\"#f0f921\"]]}],\"heatmap\":[{\"type\":\"heatmap\",\"colorbar\":{\"outlinewidth\":0,\"ticks\":\"\"},\"colorscale\":[[0.0,\"#0d0887\"],[0.1111111111111111,\"#46039f\"],[0.2222222222222222,\"#7201a8\"],[0.3333333333333333,\"#9c179e\"],[0.4444444444444444,\"#bd3786\"],[0.5555555555555556,\"#d8576b\"],[0.6666666666666666,\"#ed7953\"],[0.7777777777777778,\"#fb9f3a\"],[0.8888888888888888,\"#fdca26\"],[1.0,\"#f0f921\"]]}],\"heatmapgl\":[{\"type\":\"heatmapgl\",\"colorbar\":{\"outlinewidth\":0,\"ticks\":\"\"},\"colorscale\":[[0.0,\"#0d0887\"],[0.1111111111111111,\"#46039f\"],[0.2222222222222222,\"#7201a8\"],[0.3333333333333333,\"#9c179e\"],[0.4444444444444444,\"#bd3786\"],[0.5555555555555556,\"#d8576b\"],[0.6666666666666666,\"#ed7953\"],[0.7777777777777778,\"#fb9f3a\"],[0.8888888888888888,\"#fdca26\"],[1.0,\"#f0f921\"]]}],\"contourcarpet\":[{\"type\":\"contourcarpet\",\"colorbar\":{\"outlinewidth\":0,\"ticks\":\"\"}}],\"contour\":[{\"type\":\"contour\",\"colorbar\":{\"outlinewidth\":0,\"ticks\":\"\"},\"colorscale\":[[0.0,\"#0d0887\"],[0.1111111111111111,\"#46039f\"],[0.2222222222222222,\"#7201a8\"],[0.3333333333333333,\"#9c179e\"],[0.4444444444444444,\"#bd3786\"],[0.5555555555555556,\"#d8576b\"],[0.6666666666666666,\"#ed7953\"],[0.7777777777777778,\"#fb9f3a\"],[0.8888888888888888,\"#fdca26\"],[1.0,\"#f0f921\"]]}],\"surface\":[{\"type\":\"surface\",\"colorbar\":{\"outlinewidth\":0,\"ticks\":\"\"},\"colorscale\":[[0.0,\"#0d0887\"],[0.1111111111111111,\"#46039f\"],[0.2222222222222222,\"#7201a8\"],[0.3333333333333333,\"#9c179e\"],[0.4444444444444444,\"#bd3786\"],[0.5555555555555556,\"#d8576b\"],[0.6666666666666666,\"#ed7953\"],[0.7777777777777778,\"#fb9f3a\"],[0.8888888888888888,\"#fdca26\"],[1.0,\"#f0f921\"]]}],\"mesh3d\":[{\"type\":\"mesh3d\",\"colorbar\":{\"outlinewidth\":0,\"ticks\":\"\"}}],\"scatter\":[{\"fillpattern\":{\"fillmode\":\"overlay\",\"size\":10,\"solidity\":0.2},\"type\":\"scatter\"}],\"parcoords\":[{\"type\":\"parcoords\",\"line\":{\"colorbar\":{\"outlinewidth\":0,\"ticks\":\"\"}}}],\"scatterpolargl\":[{\"type\":\"scatterpolargl\",\"marker\":{\"colorbar\":{\"outlinewidth\":0,\"ticks\":\"\"}}}],\"bar\":[{\"error_x\":{\"color\":\"#2a3f5f\"},\"error_y\":{\"color\":\"#2a3f5f\"},\"marker\":{\"line\":{\"color\":\"#E5ECF6\",\"width\":0.5},\"pattern\":{\"fillmode\":\"overlay\",\"size\":10,\"solidity\":0.2}},\"type\":\"bar\"}],\"scattergeo\":[{\"type\":\"scattergeo\",\"marker\":{\"colorbar\":{\"outlinewidth\":0,\"ticks\":\"\"}}}],\"scatterpolar\":[{\"type\":\"scatterpolar\",\"marker\":{\"colorbar\":{\"outlinewidth\":0,\"ticks\":\"\"}}}],\"histogram\":[{\"marker\":{\"pattern\":{\"fillmode\":\"overlay\",\"size\":10,\"solidity\":0.2}},\"type\":\"histogram\"}],\"scattergl\":[{\"type\":\"scattergl\",\"marker\":{\"colorbar\":{\"outlinewidth\":0,\"ticks\":\"\"}}}],\"scatter3d\":[{\"type\":\"scatter3d\",\"line\":{\"colorbar\":{\"outlinewidth\":0,\"ticks\":\"\"}},\"marker\":{\"colorbar\":{\"outlinewidth\":0,\"ticks\":\"\"}}}],\"scattermapbox\":[{\"type\":\"scattermapbox\",\"marker\":{\"colorbar\":{\"outlinewidth\":0,\"ticks\":\"\"}}}],\"scatterternary\":[{\"type\":\"scatterternary\",\"marker\":{\"colorbar\":{\"outlinewidth\":0,\"ticks\":\"\"}}}],\"scattercarpet\":[{\"type\":\"scattercarpet\",\"marker\":{\"colorbar\":{\"outlinewidth\":0,\"ticks\":\"\"}}}],\"carpet\":[{\"aaxis\":{\"endlinecolor\":\"#2a3f5f\",\"gridcolor\":\"white\",\"linecolor\":\"white\",\"minorgridcolor\":\"white\",\"startlinecolor\":\"#2a3f5f\"},\"baxis\":{\"endlinecolor\":\"#2a3f5f\",\"gridcolor\":\"white\",\"linecolor\":\"white\",\"minorgridcolor\":\"white\",\"startlinecolor\":\"#2a3f5f\"},\"type\":\"carpet\"}],\"table\":[{\"cells\":{\"fill\":{\"color\":\"#EBF0F8\"},\"line\":{\"color\":\"white\"}},\"header\":{\"fill\":{\"color\":\"#C8D4E3\"},\"line\":{\"color\":\"white\"}},\"type\":\"table\"}],\"barpolar\":[{\"marker\":{\"line\":{\"color\":\"#E5ECF6\",\"width\":0.5},\"pattern\":{\"fillmode\":\"overlay\",\"size\":10,\"solidity\":0.2}},\"type\":\"barpolar\"}],\"pie\":[{\"automargin\":true,\"type\":\"pie\"}]},\"layout\":{\"autotypenumbers\":\"strict\",\"colorway\":[\"#636efa\",\"#EF553B\",\"#00cc96\",\"#ab63fa\",\"#FFA15A\",\"#19d3f3\",\"#FF6692\",\"#B6E880\",\"#FF97FF\",\"#FECB52\"],\"font\":{\"color\":\"#2a3f5f\"},\"hovermode\":\"closest\",\"hoverlabel\":{\"align\":\"left\"},\"paper_bgcolor\":\"white\",\"plot_bgcolor\":\"#E5ECF6\",\"polar\":{\"bgcolor\":\"#E5ECF6\",\"angularaxis\":{\"gridcolor\":\"white\",\"linecolor\":\"white\",\"ticks\":\"\"},\"radialaxis\":{\"gridcolor\":\"white\",\"linecolor\":\"white\",\"ticks\":\"\"}},\"ternary\":{\"bgcolor\":\"#E5ECF6\",\"aaxis\":{\"gridcolor\":\"white\",\"linecolor\":\"white\",\"ticks\":\"\"},\"baxis\":{\"gridcolor\":\"white\",\"linecolor\":\"white\",\"ticks\":\"\"},\"caxis\":{\"gridcolor\":\"white\",\"linecolor\":\"white\",\"ticks\":\"\"}},\"coloraxis\":{\"colorbar\":{\"outlinewidth\":0,\"ticks\":\"\"}},\"colorscale\":{\"sequential\":[[0.0,\"#0d0887\"],[0.1111111111111111,\"#46039f\"],[0.2222222222222222,\"#7201a8\"],[0.3333333333333333,\"#9c179e\"],[0.4444444444444444,\"#bd3786\"],[0.5555555555555556,\"#d8576b\"],[0.6666666666666666,\"#ed7953\"],[0.7777777777777778,\"#fb9f3a\"],[0.8888888888888888,\"#fdca26\"],[1.0,\"#f0f921\"]],\"sequentialminus\":[[0.0,\"#0d0887\"],[0.1111111111111111,\"#46039f\"],[0.2222222222222222,\"#7201a8\"],[0.3333333333333333,\"#9c179e\"],[0.4444444444444444,\"#bd3786\"],[0.5555555555555556,\"#d8576b\"],[0.6666666666666666,\"#ed7953\"],[0.7777777777777778,\"#fb9f3a\"],[0.8888888888888888,\"#fdca26\"],[1.0,\"#f0f921\"]],\"diverging\":[[0,\"#8e0152\"],[0.1,\"#c51b7d\"],[0.2,\"#de77ae\"],[0.3,\"#f1b6da\"],[0.4,\"#fde0ef\"],[0.5,\"#f7f7f7\"],[0.6,\"#e6f5d0\"],[0.7,\"#b8e186\"],[0.8,\"#7fbc41\"],[0.9,\"#4d9221\"],[1,\"#276419\"]]},\"xaxis\":{\"gridcolor\":\"white\",\"linecolor\":\"white\",\"ticks\":\"\",\"title\":{\"standoff\":15},\"zerolinecolor\":\"white\",\"automargin\":true,\"zerolinewidth\":2},\"yaxis\":{\"gridcolor\":\"white\",\"linecolor\":\"white\",\"ticks\":\"\",\"title\":{\"standoff\":15},\"zerolinecolor\":\"white\",\"automargin\":true,\"zerolinewidth\":2},\"scene\":{\"xaxis\":{\"backgroundcolor\":\"#E5ECF6\",\"gridcolor\":\"white\",\"linecolor\":\"white\",\"showbackground\":true,\"ticks\":\"\",\"zerolinecolor\":\"white\",\"gridwidth\":2},\"yaxis\":{\"backgroundcolor\":\"#E5ECF6\",\"gridcolor\":\"white\",\"linecolor\":\"white\",\"showbackground\":true,\"ticks\":\"\",\"zerolinecolor\":\"white\",\"gridwidth\":2},\"zaxis\":{\"backgroundcolor\":\"#E5ECF6\",\"gridcolor\":\"white\",\"linecolor\":\"white\",\"showbackground\":true,\"ticks\":\"\",\"zerolinecolor\":\"white\",\"gridwidth\":2}},\"shapedefaults\":{\"line\":{\"color\":\"#2a3f5f\"}},\"annotationdefaults\":{\"arrowcolor\":\"#2a3f5f\",\"arrowhead\":0,\"arrowwidth\":1},\"geo\":{\"bgcolor\":\"white\",\"landcolor\":\"#E5ECF6\",\"subunitcolor\":\"white\",\"showland\":true,\"showlakes\":true,\"lakecolor\":\"white\"},\"title\":{\"x\":0.05},\"mapbox\":{\"style\":\"light\"}}},\"geo\":{\"domain\":{\"x\":[0.0,1.0],\"y\":[0.0,1.0]},\"center\":{},\"projection\":{\"type\":\"equirectangular\"},\"showframe\":false,\"showcoastlines\":false},\"coloraxis\":{\"colorbar\":{\"title\":{\"text\":\"Happiness Score\"},\"tickvals\":[2.905,7.632],\"ticktext\":[\"Lowest\",\"Highest\"]},\"colorscale\":[[0.0,\"#440154\"],[0.1111111111111111,\"#482878\"],[0.2222222222222222,\"#3e4989\"],[0.3333333333333333,\"#31688e\"],[0.4444444444444444,\"#26828e\"],[0.5555555555555556,\"#1f9e89\"],[0.6666666666666666,\"#35b779\"],[0.7777777777777778,\"#6ece58\"],[0.8888888888888888,\"#b5de2b\"],[1.0,\"#fde725\"]]},\"legend\":{\"tracegroupgap\":0},\"title\":{\"text\":\"World Happiness Index for 2018\"}},                        {\"responsive\": true}                    ).then(function(){\n",
       "                            \n",
       "var gd = document.getElementById('61ac8c17-fc50-4f2e-8d95-2f06b50c4cb7');\n",
       "var x = new MutationObserver(function (mutations, observer) {{\n",
       "        var display = window.getComputedStyle(gd).display;\n",
       "        if (!display || display === 'none') {{\n",
       "            console.log([gd, 'removed!']);\n",
       "            Plotly.purge(gd);\n",
       "            observer.disconnect();\n",
       "        }}\n",
       "}});\n",
       "\n",
       "// Listen for the removal of the full notebook cells\n",
       "var notebookContainer = gd.closest('#notebook-container');\n",
       "if (notebookContainer) {{\n",
       "    x.observe(notebookContainer, {childList: true});\n",
       "}}\n",
       "\n",
       "// Listen for the clearing of the current output cell\n",
       "var outputEl = gd.closest('.output');\n",
       "if (outputEl) {{\n",
       "    x.observe(outputEl, {childList: true});\n",
       "}}\n",
       "\n",
       "                        })                };                });            </script>        </div>"
      ]
     },
     "metadata": {},
     "output_type": "display_data"
    }
   ],
   "source": [
    "import pandas as pd\n",
    "import plotly.express as px\n",
    "\n",
    "df_2018 = pd.read_csv(\"world_happiness_data/2018.csv\")\n",
    "df_2018.rename(columns={\"Country or region\": \"Country\", \"Score\": \"Happiness Score\"}, inplace=True)\n",
    "\n",
    "fig_2018 = px.choropleth(\n",
    "    df_2018,\n",
    "    locations='Country',\n",
    "    locationmode='country names',\n",
    "    color='Happiness Score',\n",
    "    hover_name='Country',\n",
    "    color_continuous_scale=px.colors.sequential.Viridis,\n",
    "    title='World Happiness Index for 2018'\n",
    ")\n",
    "\n",
    "fig_2018.update_layout(\n",
    "    geo=dict(\n",
    "        showframe=False,\n",
    "        showcoastlines=False,\n",
    "        projection_type='equirectangular'\n",
    "    ),\n",
    "    coloraxis_colorbar=dict(\n",
    "        title=\"Happiness Score\",\n",
    "        tickvals=[df_2018['Happiness Score'].min(), df_2018['Happiness Score'].max()],\n",
    "        ticktext=[\"Lowest\", \"Highest\"]\n",
    "    )\n",
    ")\n",
    "\n",
    "fig_2018.show()\n"
   ]
  },
  {
   "cell_type": "code",
   "execution_count": 31,
   "id": "46560c79-9951-4a34-8188-f1f499c739e6",
   "metadata": {},
   "outputs": [
    {
     "data": {
      "application/vnd.plotly.v1+json": {
       "config": {
        "plotlyServerURL": "https://plot.ly"
       },
       "data": [
        {
         "coloraxis": "coloraxis",
         "geo": "geo",
         "hovertemplate": "<b>%{hovertext}</b><br><br>Country=%{location}<br>Happiness Score=%{z}<extra></extra>",
         "hovertext": [
          "Finland",
          "Denmark",
          "Norway",
          "Iceland",
          "Netherlands",
          "Switzerland",
          "Sweden",
          "New Zealand",
          "Canada",
          "Austria",
          "Australia",
          "Costa Rica",
          "Israel",
          "Luxembourg",
          "United Kingdom",
          "Ireland",
          "Germany",
          "Belgium",
          "United States",
          "Czech Republic",
          "United Arab Emirates",
          "Malta",
          "Mexico",
          "France",
          "Taiwan",
          "Chile",
          "Guatemala",
          "Saudi Arabia",
          "Qatar",
          "Spain",
          "Panama",
          "Brazil",
          "Uruguay",
          "Singapore",
          "El Salvador",
          "Italy",
          "Bahrain",
          "Slovakia",
          "Trinidad & Tobago",
          "Poland",
          "Uzbekistan",
          "Lithuania",
          "Colombia",
          "Slovenia",
          "Nicaragua",
          "Kosovo",
          "Argentina",
          "Romania",
          "Cyprus",
          "Ecuador",
          "Kuwait",
          "Thailand",
          "Latvia",
          "South Korea",
          "Estonia",
          "Jamaica",
          "Mauritius",
          "Japan",
          "Honduras",
          "Kazakhstan",
          "Bolivia",
          "Hungary",
          "Paraguay",
          "Northern Cyprus",
          "Peru",
          "Portugal",
          "Pakistan",
          "Russia",
          "Philippines",
          "Serbia",
          "Moldova",
          "Libya",
          "Montenegro",
          "Tajikistan",
          "Croatia",
          "Hong Kong",
          "Dominican Republic",
          "Bosnia and Herzegovina",
          "Turkey",
          "Malaysia",
          "Belarus",
          "Greece",
          "Mongolia",
          "North Macedonia",
          "Nigeria",
          "Kyrgyzstan",
          "Turkmenistan",
          "Algeria",
          "Morocco",
          "Azerbaijan",
          "Lebanon",
          "Indonesia",
          "China",
          "Vietnam",
          "Bhutan",
          "Cameroon",
          "Bulgaria",
          "Ghana",
          "Ivory Coast",
          "Nepal",
          "Jordan",
          "Benin",
          "Congo (Brazzaville)",
          "Gabon",
          "Laos",
          "South Africa",
          "Albania",
          "Venezuela",
          "Cambodia",
          "Palestinian Territories",
          "Senegal",
          "Somalia",
          "Namibia",
          "Niger",
          "Burkina Faso",
          "Armenia",
          "Iran",
          "Guinea",
          "Georgia",
          "Gambia",
          "Kenya",
          "Mauritania",
          "Mozambique",
          "Tunisia",
          "Bangladesh",
          "Iraq",
          "Congo (Kinshasa)",
          "Mali",
          "Sierra Leone",
          "Sri Lanka",
          "Myanmar",
          "Chad",
          "Ukraine",
          "Ethiopia",
          "Swaziland",
          "Uganda",
          "Egypt",
          "Zambia",
          "Togo",
          "India",
          "Liberia",
          "Comoros",
          "Madagascar",
          "Lesotho",
          "Burundi",
          "Zimbabwe",
          "Haiti",
          "Botswana",
          "Syria",
          "Malawi",
          "Yemen",
          "Rwanda",
          "Tanzania",
          "Afghanistan",
          "Central African Republic",
          "South Sudan"
         ],
         "locationmode": "country names",
         "locations": [
          "Finland",
          "Denmark",
          "Norway",
          "Iceland",
          "Netherlands",
          "Switzerland",
          "Sweden",
          "New Zealand",
          "Canada",
          "Austria",
          "Australia",
          "Costa Rica",
          "Israel",
          "Luxembourg",
          "United Kingdom",
          "Ireland",
          "Germany",
          "Belgium",
          "United States",
          "Czech Republic",
          "United Arab Emirates",
          "Malta",
          "Mexico",
          "France",
          "Taiwan",
          "Chile",
          "Guatemala",
          "Saudi Arabia",
          "Qatar",
          "Spain",
          "Panama",
          "Brazil",
          "Uruguay",
          "Singapore",
          "El Salvador",
          "Italy",
          "Bahrain",
          "Slovakia",
          "Trinidad & Tobago",
          "Poland",
          "Uzbekistan",
          "Lithuania",
          "Colombia",
          "Slovenia",
          "Nicaragua",
          "Kosovo",
          "Argentina",
          "Romania",
          "Cyprus",
          "Ecuador",
          "Kuwait",
          "Thailand",
          "Latvia",
          "South Korea",
          "Estonia",
          "Jamaica",
          "Mauritius",
          "Japan",
          "Honduras",
          "Kazakhstan",
          "Bolivia",
          "Hungary",
          "Paraguay",
          "Northern Cyprus",
          "Peru",
          "Portugal",
          "Pakistan",
          "Russia",
          "Philippines",
          "Serbia",
          "Moldova",
          "Libya",
          "Montenegro",
          "Tajikistan",
          "Croatia",
          "Hong Kong",
          "Dominican Republic",
          "Bosnia and Herzegovina",
          "Turkey",
          "Malaysia",
          "Belarus",
          "Greece",
          "Mongolia",
          "North Macedonia",
          "Nigeria",
          "Kyrgyzstan",
          "Turkmenistan",
          "Algeria",
          "Morocco",
          "Azerbaijan",
          "Lebanon",
          "Indonesia",
          "China",
          "Vietnam",
          "Bhutan",
          "Cameroon",
          "Bulgaria",
          "Ghana",
          "Ivory Coast",
          "Nepal",
          "Jordan",
          "Benin",
          "Congo (Brazzaville)",
          "Gabon",
          "Laos",
          "South Africa",
          "Albania",
          "Venezuela",
          "Cambodia",
          "Palestinian Territories",
          "Senegal",
          "Somalia",
          "Namibia",
          "Niger",
          "Burkina Faso",
          "Armenia",
          "Iran",
          "Guinea",
          "Georgia",
          "Gambia",
          "Kenya",
          "Mauritania",
          "Mozambique",
          "Tunisia",
          "Bangladesh",
          "Iraq",
          "Congo (Kinshasa)",
          "Mali",
          "Sierra Leone",
          "Sri Lanka",
          "Myanmar",
          "Chad",
          "Ukraine",
          "Ethiopia",
          "Swaziland",
          "Uganda",
          "Egypt",
          "Zambia",
          "Togo",
          "India",
          "Liberia",
          "Comoros",
          "Madagascar",
          "Lesotho",
          "Burundi",
          "Zimbabwe",
          "Haiti",
          "Botswana",
          "Syria",
          "Malawi",
          "Yemen",
          "Rwanda",
          "Tanzania",
          "Afghanistan",
          "Central African Republic",
          "South Sudan"
         ],
         "name": "",
         "type": "choropleth",
         "z": [
          7.769,
          7.6,
          7.554,
          7.494,
          7.488,
          7.48,
          7.343,
          7.307,
          7.278,
          7.246,
          7.228,
          7.167,
          7.139,
          7.09,
          7.054,
          7.021,
          6.985,
          6.923,
          6.892,
          6.852,
          6.825,
          6.726,
          6.595,
          6.592,
          6.446,
          6.444,
          6.436,
          6.375,
          6.374,
          6.354,
          6.321,
          6.3,
          6.293,
          6.262,
          6.253,
          6.223,
          6.199,
          6.198,
          6.192,
          6.182,
          6.174,
          6.149,
          6.125,
          6.118,
          6.105,
          6.1,
          6.086,
          6.07,
          6.046,
          6.028,
          6.021,
          6.008,
          5.94,
          5.895,
          5.893,
          5.89,
          5.888,
          5.886,
          5.86,
          5.809,
          5.779,
          5.758,
          5.743,
          5.718,
          5.697,
          5.693,
          5.653,
          5.648,
          5.631,
          5.603,
          5.529,
          5.525,
          5.523,
          5.467,
          5.432,
          5.43,
          5.425,
          5.386,
          5.373,
          5.339,
          5.323,
          5.287,
          5.285,
          5.274,
          5.265,
          5.261,
          5.247,
          5.211,
          5.208,
          5.208,
          5.197,
          5.192,
          5.191,
          5.175,
          5.082,
          5.044,
          5.011,
          4.996,
          4.944,
          4.913,
          4.906,
          4.883,
          4.812,
          4.799,
          4.796,
          4.722,
          4.719,
          4.707,
          4.7,
          4.696,
          4.681,
          4.668,
          4.639,
          4.628,
          4.587,
          4.559,
          4.548,
          4.534,
          4.519,
          4.516,
          4.509,
          4.49,
          4.466,
          4.461,
          4.456,
          4.437,
          4.418,
          4.39,
          4.374,
          4.366,
          4.36,
          4.35,
          4.332,
          4.286,
          4.212,
          4.189,
          4.166,
          4.107,
          4.085,
          4.015,
          3.975,
          3.973,
          3.933,
          3.802,
          3.775,
          3.663,
          3.597,
          3.488,
          3.462,
          3.41,
          3.38,
          3.334,
          3.231,
          3.203,
          3.083,
          2.853
         ]
        }
       ],
       "layout": {
        "autosize": true,
        "coloraxis": {
         "colorbar": {
          "ticktext": [
           "Lowest",
           "Highest"
          ],
          "tickvals": [
           2.853,
           7.769
          ],
          "title": {
           "text": "Happiness Score"
          }
         },
         "colorscale": [
          [
           0,
           "#440154"
          ],
          [
           0.1111111111111111,
           "#482878"
          ],
          [
           0.2222222222222222,
           "#3e4989"
          ],
          [
           0.3333333333333333,
           "#31688e"
          ],
          [
           0.4444444444444444,
           "#26828e"
          ],
          [
           0.5555555555555556,
           "#1f9e89"
          ],
          [
           0.6666666666666666,
           "#35b779"
          ],
          [
           0.7777777777777778,
           "#6ece58"
          ],
          [
           0.8888888888888888,
           "#b5de2b"
          ],
          [
           1,
           "#fde725"
          ]
         ]
        },
        "geo": {
         "center": {
          "lat": -10.928180157573456,
          "lon": -5.495492413408716
         },
         "domain": {
          "x": [
           0,
           1
          ],
          "y": [
           0,
           1
          ]
         },
         "fitbounds": false,
         "projection": {
          "rotation": {
           "lon": -5.495492413408716
          },
          "scale": 0.761016690419679,
          "type": "equirectangular"
         },
         "showcoastlines": false,
         "showframe": false
        },
        "legend": {
         "tracegroupgap": 0
        },
        "template": {
         "data": {
          "bar": [
           {
            "error_x": {
             "color": "#2a3f5f"
            },
            "error_y": {
             "color": "#2a3f5f"
            },
            "marker": {
             "line": {
              "color": "#E5ECF6",
              "width": 0.5
             },
             "pattern": {
              "fillmode": "overlay",
              "size": 10,
              "solidity": 0.2
             }
            },
            "type": "bar"
           }
          ],
          "barpolar": [
           {
            "marker": {
             "line": {
              "color": "#E5ECF6",
              "width": 0.5
             },
             "pattern": {
              "fillmode": "overlay",
              "size": 10,
              "solidity": 0.2
             }
            },
            "type": "barpolar"
           }
          ],
          "carpet": [
           {
            "aaxis": {
             "endlinecolor": "#2a3f5f",
             "gridcolor": "white",
             "linecolor": "white",
             "minorgridcolor": "white",
             "startlinecolor": "#2a3f5f"
            },
            "baxis": {
             "endlinecolor": "#2a3f5f",
             "gridcolor": "white",
             "linecolor": "white",
             "minorgridcolor": "white",
             "startlinecolor": "#2a3f5f"
            },
            "type": "carpet"
           }
          ],
          "choropleth": [
           {
            "colorbar": {
             "outlinewidth": 0,
             "ticks": ""
            },
            "type": "choropleth"
           }
          ],
          "contour": [
           {
            "colorbar": {
             "outlinewidth": 0,
             "ticks": ""
            },
            "colorscale": [
             [
              0,
              "#0d0887"
             ],
             [
              0.1111111111111111,
              "#46039f"
             ],
             [
              0.2222222222222222,
              "#7201a8"
             ],
             [
              0.3333333333333333,
              "#9c179e"
             ],
             [
              0.4444444444444444,
              "#bd3786"
             ],
             [
              0.5555555555555556,
              "#d8576b"
             ],
             [
              0.6666666666666666,
              "#ed7953"
             ],
             [
              0.7777777777777778,
              "#fb9f3a"
             ],
             [
              0.8888888888888888,
              "#fdca26"
             ],
             [
              1,
              "#f0f921"
             ]
            ],
            "type": "contour"
           }
          ],
          "contourcarpet": [
           {
            "colorbar": {
             "outlinewidth": 0,
             "ticks": ""
            },
            "type": "contourcarpet"
           }
          ],
          "heatmap": [
           {
            "colorbar": {
             "outlinewidth": 0,
             "ticks": ""
            },
            "colorscale": [
             [
              0,
              "#0d0887"
             ],
             [
              0.1111111111111111,
              "#46039f"
             ],
             [
              0.2222222222222222,
              "#7201a8"
             ],
             [
              0.3333333333333333,
              "#9c179e"
             ],
             [
              0.4444444444444444,
              "#bd3786"
             ],
             [
              0.5555555555555556,
              "#d8576b"
             ],
             [
              0.6666666666666666,
              "#ed7953"
             ],
             [
              0.7777777777777778,
              "#fb9f3a"
             ],
             [
              0.8888888888888888,
              "#fdca26"
             ],
             [
              1,
              "#f0f921"
             ]
            ],
            "type": "heatmap"
           }
          ],
          "heatmapgl": [
           {
            "colorbar": {
             "outlinewidth": 0,
             "ticks": ""
            },
            "colorscale": [
             [
              0,
              "#0d0887"
             ],
             [
              0.1111111111111111,
              "#46039f"
             ],
             [
              0.2222222222222222,
              "#7201a8"
             ],
             [
              0.3333333333333333,
              "#9c179e"
             ],
             [
              0.4444444444444444,
              "#bd3786"
             ],
             [
              0.5555555555555556,
              "#d8576b"
             ],
             [
              0.6666666666666666,
              "#ed7953"
             ],
             [
              0.7777777777777778,
              "#fb9f3a"
             ],
             [
              0.8888888888888888,
              "#fdca26"
             ],
             [
              1,
              "#f0f921"
             ]
            ],
            "type": "heatmapgl"
           }
          ],
          "histogram": [
           {
            "marker": {
             "pattern": {
              "fillmode": "overlay",
              "size": 10,
              "solidity": 0.2
             }
            },
            "type": "histogram"
           }
          ],
          "histogram2d": [
           {
            "colorbar": {
             "outlinewidth": 0,
             "ticks": ""
            },
            "colorscale": [
             [
              0,
              "#0d0887"
             ],
             [
              0.1111111111111111,
              "#46039f"
             ],
             [
              0.2222222222222222,
              "#7201a8"
             ],
             [
              0.3333333333333333,
              "#9c179e"
             ],
             [
              0.4444444444444444,
              "#bd3786"
             ],
             [
              0.5555555555555556,
              "#d8576b"
             ],
             [
              0.6666666666666666,
              "#ed7953"
             ],
             [
              0.7777777777777778,
              "#fb9f3a"
             ],
             [
              0.8888888888888888,
              "#fdca26"
             ],
             [
              1,
              "#f0f921"
             ]
            ],
            "type": "histogram2d"
           }
          ],
          "histogram2dcontour": [
           {
            "colorbar": {
             "outlinewidth": 0,
             "ticks": ""
            },
            "colorscale": [
             [
              0,
              "#0d0887"
             ],
             [
              0.1111111111111111,
              "#46039f"
             ],
             [
              0.2222222222222222,
              "#7201a8"
             ],
             [
              0.3333333333333333,
              "#9c179e"
             ],
             [
              0.4444444444444444,
              "#bd3786"
             ],
             [
              0.5555555555555556,
              "#d8576b"
             ],
             [
              0.6666666666666666,
              "#ed7953"
             ],
             [
              0.7777777777777778,
              "#fb9f3a"
             ],
             [
              0.8888888888888888,
              "#fdca26"
             ],
             [
              1,
              "#f0f921"
             ]
            ],
            "type": "histogram2dcontour"
           }
          ],
          "mesh3d": [
           {
            "colorbar": {
             "outlinewidth": 0,
             "ticks": ""
            },
            "type": "mesh3d"
           }
          ],
          "parcoords": [
           {
            "line": {
             "colorbar": {
              "outlinewidth": 0,
              "ticks": ""
             }
            },
            "type": "parcoords"
           }
          ],
          "pie": [
           {
            "automargin": true,
            "type": "pie"
           }
          ],
          "scatter": [
           {
            "fillpattern": {
             "fillmode": "overlay",
             "size": 10,
             "solidity": 0.2
            },
            "type": "scatter"
           }
          ],
          "scatter3d": [
           {
            "line": {
             "colorbar": {
              "outlinewidth": 0,
              "ticks": ""
             }
            },
            "marker": {
             "colorbar": {
              "outlinewidth": 0,
              "ticks": ""
             }
            },
            "type": "scatter3d"
           }
          ],
          "scattercarpet": [
           {
            "marker": {
             "colorbar": {
              "outlinewidth": 0,
              "ticks": ""
             }
            },
            "type": "scattercarpet"
           }
          ],
          "scattergeo": [
           {
            "marker": {
             "colorbar": {
              "outlinewidth": 0,
              "ticks": ""
             }
            },
            "type": "scattergeo"
           }
          ],
          "scattergl": [
           {
            "marker": {
             "colorbar": {
              "outlinewidth": 0,
              "ticks": ""
             }
            },
            "type": "scattergl"
           }
          ],
          "scattermapbox": [
           {
            "marker": {
             "colorbar": {
              "outlinewidth": 0,
              "ticks": ""
             }
            },
            "type": "scattermapbox"
           }
          ],
          "scatterpolar": [
           {
            "marker": {
             "colorbar": {
              "outlinewidth": 0,
              "ticks": ""
             }
            },
            "type": "scatterpolar"
           }
          ],
          "scatterpolargl": [
           {
            "marker": {
             "colorbar": {
              "outlinewidth": 0,
              "ticks": ""
             }
            },
            "type": "scatterpolargl"
           }
          ],
          "scatterternary": [
           {
            "marker": {
             "colorbar": {
              "outlinewidth": 0,
              "ticks": ""
             }
            },
            "type": "scatterternary"
           }
          ],
          "surface": [
           {
            "colorbar": {
             "outlinewidth": 0,
             "ticks": ""
            },
            "colorscale": [
             [
              0,
              "#0d0887"
             ],
             [
              0.1111111111111111,
              "#46039f"
             ],
             [
              0.2222222222222222,
              "#7201a8"
             ],
             [
              0.3333333333333333,
              "#9c179e"
             ],
             [
              0.4444444444444444,
              "#bd3786"
             ],
             [
              0.5555555555555556,
              "#d8576b"
             ],
             [
              0.6666666666666666,
              "#ed7953"
             ],
             [
              0.7777777777777778,
              "#fb9f3a"
             ],
             [
              0.8888888888888888,
              "#fdca26"
             ],
             [
              1,
              "#f0f921"
             ]
            ],
            "type": "surface"
           }
          ],
          "table": [
           {
            "cells": {
             "fill": {
              "color": "#EBF0F8"
             },
             "line": {
              "color": "white"
             }
            },
            "header": {
             "fill": {
              "color": "#C8D4E3"
             },
             "line": {
              "color": "white"
             }
            },
            "type": "table"
           }
          ]
         },
         "layout": {
          "annotationdefaults": {
           "arrowcolor": "#2a3f5f",
           "arrowhead": 0,
           "arrowwidth": 1
          },
          "autotypenumbers": "strict",
          "coloraxis": {
           "colorbar": {
            "outlinewidth": 0,
            "ticks": ""
           }
          },
          "colorscale": {
           "diverging": [
            [
             0,
             "#8e0152"
            ],
            [
             0.1,
             "#c51b7d"
            ],
            [
             0.2,
             "#de77ae"
            ],
            [
             0.3,
             "#f1b6da"
            ],
            [
             0.4,
             "#fde0ef"
            ],
            [
             0.5,
             "#f7f7f7"
            ],
            [
             0.6,
             "#e6f5d0"
            ],
            [
             0.7,
             "#b8e186"
            ],
            [
             0.8,
             "#7fbc41"
            ],
            [
             0.9,
             "#4d9221"
            ],
            [
             1,
             "#276419"
            ]
           ],
           "sequential": [
            [
             0,
             "#0d0887"
            ],
            [
             0.1111111111111111,
             "#46039f"
            ],
            [
             0.2222222222222222,
             "#7201a8"
            ],
            [
             0.3333333333333333,
             "#9c179e"
            ],
            [
             0.4444444444444444,
             "#bd3786"
            ],
            [
             0.5555555555555556,
             "#d8576b"
            ],
            [
             0.6666666666666666,
             "#ed7953"
            ],
            [
             0.7777777777777778,
             "#fb9f3a"
            ],
            [
             0.8888888888888888,
             "#fdca26"
            ],
            [
             1,
             "#f0f921"
            ]
           ],
           "sequentialminus": [
            [
             0,
             "#0d0887"
            ],
            [
             0.1111111111111111,
             "#46039f"
            ],
            [
             0.2222222222222222,
             "#7201a8"
            ],
            [
             0.3333333333333333,
             "#9c179e"
            ],
            [
             0.4444444444444444,
             "#bd3786"
            ],
            [
             0.5555555555555556,
             "#d8576b"
            ],
            [
             0.6666666666666666,
             "#ed7953"
            ],
            [
             0.7777777777777778,
             "#fb9f3a"
            ],
            [
             0.8888888888888888,
             "#fdca26"
            ],
            [
             1,
             "#f0f921"
            ]
           ]
          },
          "colorway": [
           "#636efa",
           "#EF553B",
           "#00cc96",
           "#ab63fa",
           "#FFA15A",
           "#19d3f3",
           "#FF6692",
           "#B6E880",
           "#FF97FF",
           "#FECB52"
          ],
          "font": {
           "color": "#2a3f5f"
          },
          "geo": {
           "bgcolor": "white",
           "lakecolor": "white",
           "landcolor": "#E5ECF6",
           "showlakes": true,
           "showland": true,
           "subunitcolor": "white"
          },
          "hoverlabel": {
           "align": "left"
          },
          "hovermode": "closest",
          "mapbox": {
           "style": "light"
          },
          "paper_bgcolor": "white",
          "plot_bgcolor": "#E5ECF6",
          "polar": {
           "angularaxis": {
            "gridcolor": "white",
            "linecolor": "white",
            "ticks": ""
           },
           "bgcolor": "#E5ECF6",
           "radialaxis": {
            "gridcolor": "white",
            "linecolor": "white",
            "ticks": ""
           }
          },
          "scene": {
           "xaxis": {
            "backgroundcolor": "#E5ECF6",
            "gridcolor": "white",
            "gridwidth": 2,
            "linecolor": "white",
            "showbackground": true,
            "ticks": "",
            "zerolinecolor": "white"
           },
           "yaxis": {
            "backgroundcolor": "#E5ECF6",
            "gridcolor": "white",
            "gridwidth": 2,
            "linecolor": "white",
            "showbackground": true,
            "ticks": "",
            "zerolinecolor": "white"
           },
           "zaxis": {
            "backgroundcolor": "#E5ECF6",
            "gridcolor": "white",
            "gridwidth": 2,
            "linecolor": "white",
            "showbackground": true,
            "ticks": "",
            "zerolinecolor": "white"
           }
          },
          "shapedefaults": {
           "line": {
            "color": "#2a3f5f"
           }
          },
          "ternary": {
           "aaxis": {
            "gridcolor": "white",
            "linecolor": "white",
            "ticks": ""
           },
           "baxis": {
            "gridcolor": "white",
            "linecolor": "white",
            "ticks": ""
           },
           "bgcolor": "#E5ECF6",
           "caxis": {
            "gridcolor": "white",
            "linecolor": "white",
            "ticks": ""
           }
          },
          "title": {
           "x": 0.05
          },
          "xaxis": {
           "automargin": true,
           "gridcolor": "white",
           "linecolor": "white",
           "ticks": "",
           "title": {
            "standoff": 15
           },
           "zerolinecolor": "white",
           "zerolinewidth": 2
          },
          "yaxis": {
           "automargin": true,
           "gridcolor": "white",
           "linecolor": "white",
           "ticks": "",
           "title": {
            "standoff": 15
           },
           "zerolinecolor": "white",
           "zerolinewidth": 2
          }
         }
        },
        "title": {
         "text": "World Happiness Index for 2019"
        }
       }
      },
      "image/png": "[encoded data removed]",
      "text/html": [
       "<div>                            <div id=\"ba1bbe31-c71d-45f3-be5e-f17d531eb0d8\" class=\"plotly-graph-div\" style=\"height:525px; width:100%;\"></div>            <script type=\"text/javascript\">                require([\"plotly\"], function(Plotly) {                    window.PLOTLYENV=window.PLOTLYENV || {};                                    if (document.getElementById(\"ba1bbe31-c71d-45f3-be5e-f17d531eb0d8\")) {                    Plotly.newPlot(                        \"ba1bbe31-c71d-45f3-be5e-f17d531eb0d8\",                        [{\"coloraxis\":\"coloraxis\",\"geo\":\"geo\",\"hovertemplate\":\"\\u003cb\\u003e%{hovertext}\\u003c\\u002fb\\u003e\\u003cbr\\u003e\\u003cbr\\u003eCountry=%{location}\\u003cbr\\u003eHappiness Score=%{z}\\u003cextra\\u003e\\u003c\\u002fextra\\u003e\",\"hovertext\":[\"Finland\",\"Denmark\",\"Norway\",\"Iceland\",\"Netherlands\",\"Switzerland\",\"Sweden\",\"New Zealand\",\"Canada\",\"Austria\",\"Australia\",\"Costa Rica\",\"Israel\",\"Luxembourg\",\"United Kingdom\",\"Ireland\",\"Germany\",\"Belgium\",\"United States\",\"Czech Republic\",\"United Arab Emirates\",\"Malta\",\"Mexico\",\"France\",\"Taiwan\",\"Chile\",\"Guatemala\",\"Saudi Arabia\",\"Qatar\",\"Spain\",\"Panama\",\"Brazil\",\"Uruguay\",\"Singapore\",\"El Salvador\",\"Italy\",\"Bahrain\",\"Slovakia\",\"Trinidad & Tobago\",\"Poland\",\"Uzbekistan\",\"Lithuania\",\"Colombia\",\"Slovenia\",\"Nicaragua\",\"Kosovo\",\"Argentina\",\"Romania\",\"Cyprus\",\"Ecuador\",\"Kuwait\",\"Thailand\",\"Latvia\",\"South Korea\",\"Estonia\",\"Jamaica\",\"Mauritius\",\"Japan\",\"Honduras\",\"Kazakhstan\",\"Bolivia\",\"Hungary\",\"Paraguay\",\"Northern Cyprus\",\"Peru\",\"Portugal\",\"Pakistan\",\"Russia\",\"Philippines\",\"Serbia\",\"Moldova\",\"Libya\",\"Montenegro\",\"Tajikistan\",\"Croatia\",\"Hong Kong\",\"Dominican Republic\",\"Bosnia and Herzegovina\",\"Turkey\",\"Malaysia\",\"Belarus\",\"Greece\",\"Mongolia\",\"North Macedonia\",\"Nigeria\",\"Kyrgyzstan\",\"Turkmenistan\",\"Algeria\",\"Morocco\",\"Azerbaijan\",\"Lebanon\",\"Indonesia\",\"China\",\"Vietnam\",\"Bhutan\",\"Cameroon\",\"Bulgaria\",\"Ghana\",\"Ivory Coast\",\"Nepal\",\"Jordan\",\"Benin\",\"Congo (Brazzaville)\",\"Gabon\",\"Laos\",\"South Africa\",\"Albania\",\"Venezuela\",\"Cambodia\",\"Palestinian Territories\",\"Senegal\",\"Somalia\",\"Namibia\",\"Niger\",\"Burkina Faso\",\"Armenia\",\"Iran\",\"Guinea\",\"Georgia\",\"Gambia\",\"Kenya\",\"Mauritania\",\"Mozambique\",\"Tunisia\",\"Bangladesh\",\"Iraq\",\"Congo (Kinshasa)\",\"Mali\",\"Sierra Leone\",\"Sri Lanka\",\"Myanmar\",\"Chad\",\"Ukraine\",\"Ethiopia\",\"Swaziland\",\"Uganda\",\"Egypt\",\"Zambia\",\"Togo\",\"India\",\"Liberia\",\"Comoros\",\"Madagascar\",\"Lesotho\",\"Burundi\",\"Zimbabwe\",\"Haiti\",\"Botswana\",\"Syria\",\"Malawi\",\"Yemen\",\"Rwanda\",\"Tanzania\",\"Afghanistan\",\"Central African Republic\",\"South Sudan\"],\"locationmode\":\"country names\",\"locations\":[\"Finland\",\"Denmark\",\"Norway\",\"Iceland\",\"Netherlands\",\"Switzerland\",\"Sweden\",\"New Zealand\",\"Canada\",\"Austria\",\"Australia\",\"Costa Rica\",\"Israel\",\"Luxembourg\",\"United Kingdom\",\"Ireland\",\"Germany\",\"Belgium\",\"United States\",\"Czech Republic\",\"United Arab Emirates\",\"Malta\",\"Mexico\",\"France\",\"Taiwan\",\"Chile\",\"Guatemala\",\"Saudi Arabia\",\"Qatar\",\"Spain\",\"Panama\",\"Brazil\",\"Uruguay\",\"Singapore\",\"El Salvador\",\"Italy\",\"Bahrain\",\"Slovakia\",\"Trinidad & Tobago\",\"Poland\",\"Uzbekistan\",\"Lithuania\",\"Colombia\",\"Slovenia\",\"Nicaragua\",\"Kosovo\",\"Argentina\",\"Romania\",\"Cyprus\",\"Ecuador\",\"Kuwait\",\"Thailand\",\"Latvia\",\"South Korea\",\"Estonia\",\"Jamaica\",\"Mauritius\",\"Japan\",\"Honduras\",\"Kazakhstan\",\"Bolivia\",\"Hungary\",\"Paraguay\",\"Northern Cyprus\",\"Peru\",\"Portugal\",\"Pakistan\",\"Russia\",\"Philippines\",\"Serbia\",\"Moldova\",\"Libya\",\"Montenegro\",\"Tajikistan\",\"Croatia\",\"Hong Kong\",\"Dominican Republic\",\"Bosnia and Herzegovina\",\"Turkey\",\"Malaysia\",\"Belarus\",\"Greece\",\"Mongolia\",\"North Macedonia\",\"Nigeria\",\"Kyrgyzstan\",\"Turkmenistan\",\"Algeria\",\"Morocco\",\"Azerbaijan\",\"Lebanon\",\"Indonesia\",\"China\",\"Vietnam\",\"Bhutan\",\"Cameroon\",\"Bulgaria\",\"Ghana\",\"Ivory Coast\",\"Nepal\",\"Jordan\",\"Benin\",\"Congo (Brazzaville)\",\"Gabon\",\"Laos\",\"South Africa\",\"Albania\",\"Venezuela\",\"Cambodia\",\"Palestinian Territories\",\"Senegal\",\"Somalia\",\"Namibia\",\"Niger\",\"Burkina Faso\",\"Armenia\",\"Iran\",\"Guinea\",\"Georgia\",\"Gambia\",\"Kenya\",\"Mauritania\",\"Mozambique\",\"Tunisia\",\"Bangladesh\",\"Iraq\",\"Congo (Kinshasa)\",\"Mali\",\"Sierra Leone\",\"Sri Lanka\",\"Myanmar\",\"Chad\",\"Ukraine\",\"Ethiopia\",\"Swaziland\",\"Uganda\",\"Egypt\",\"Zambia\",\"Togo\",\"India\",\"Liberia\",\"Comoros\",\"Madagascar\",\"Lesotho\",\"Burundi\",\"Zimbabwe\",\"Haiti\",\"Botswana\",\"Syria\",\"Malawi\",\"Yemen\",\"Rwanda\",\"Tanzania\",\"Afghanistan\",\"Central African Republic\",\"South Sudan\"],\"name\":\"\",\"z\":[7.769,7.6,7.554,7.494,7.488,7.48,7.343,7.307,7.278,7.246,7.228,7.167,7.139,7.09,7.054,7.021,6.985,6.923,6.892,6.852,6.825,6.726,6.595,6.592,6.446,6.444,6.436,6.375,6.374,6.354,6.321,6.3,6.293,6.262,6.253,6.223,6.199,6.198,6.192,6.182,6.174,6.149,6.125,6.118,6.105,6.1,6.086,6.07,6.046,6.028,6.021,6.008,5.94,5.895,5.893,5.89,5.888,5.886,5.86,5.809,5.779,5.758,5.743,5.718,5.697,5.693,5.653,5.648,5.631,5.603,5.529,5.525,5.523,5.467,5.432,5.43,5.425,5.386,5.373,5.339,5.323,5.287,5.285,5.274,5.265,5.261,5.247,5.211,5.208,5.208,5.197,5.192,5.191,5.175,5.082,5.044,5.011,4.996,4.944,4.913,4.906,4.883,4.812,4.799,4.796,4.722,4.719,4.707,4.7,4.696,4.681,4.668,4.639,4.628,4.587,4.559,4.548,4.534,4.519,4.516,4.509,4.49,4.466,4.461,4.456,4.437,4.418,4.39,4.374,4.366,4.36,4.35,4.332,4.286,4.212,4.189,4.166,4.107,4.085,4.015,3.975,3.973,3.933,3.802,3.775,3.663,3.597,3.488,3.462,3.41,3.38,3.334,3.231,3.203,3.083,2.853],\"type\":\"choropleth\"}],                        {\"template\":{\"data\":{\"histogram2dcontour\":[{\"type\":\"histogram2dcontour\",\"colorbar\":{\"outlinewidth\":0,\"ticks\":\"\"},\"colorscale\":[[0.0,\"#0d0887\"],[0.1111111111111111,\"#46039f\"],[0.2222222222222222,\"#7201a8\"],[0.3333333333333333,\"#9c179e\"],[0.4444444444444444,\"#bd3786\"],[0.5555555555555556,\"#d8576b\"],[0.6666666666666666,\"#ed7953\"],[0.7777777777777778,\"#fb9f3a\"],[0.8888888888888888,\"#fdca26\"],[1.0,\"#f0f921\"]]}],\"choropleth\":[{\"type\":\"choropleth\",\"colorbar\":{\"outlinewidth\":0,\"ticks\":\"\"}}],\"histogram2d\":[{\"type\":\"histogram2d\",\"colorbar\":{\"outlinewidth\":0,\"ticks\":\"\"},\"colorscale\":[[0.0,\"#0d0887\"],[0.1111111111111111,\"#46039f\"],[0.2222222222222222,\"#7201a8\"],[0.3333333333333333,\"#9c179e\"],[0.4444444444444444,\"#bd3786\"],[0.5555555555555556,\"#d8576b\"],[0.6666666666666666,\"#ed7953\"],[0.7777777777777778,\"#fb9f3a\"],[0.8888888888888888,\"#fdca26\"],[1.0,\"#f0f921\"]]}],\"heatmap\":[{\"type\":\"heatmap\",\"colorbar\":{\"outlinewidth\":0,\"ticks\":\"\"},\"colorscale\":[[0.0,\"#0d0887\"],[0.1111111111111111,\"#46039f\"],[0.2222222222222222,\"#7201a8\"],[0.3333333333333333,\"#9c179e\"],[0.4444444444444444,\"#bd3786\"],[0.5555555555555556,\"#d8576b\"],[0.6666666666666666,\"#ed7953\"],[0.7777777777777778,\"#fb9f3a\"],[0.8888888888888888,\"#fdca26\"],[1.0,\"#f0f921\"]]}],\"heatmapgl\":[{\"type\":\"heatmapgl\",\"colorbar\":{\"outlinewidth\":0,\"ticks\":\"\"},\"colorscale\":[[0.0,\"#0d0887\"],[0.1111111111111111,\"#46039f\"],[0.2222222222222222,\"#7201a8\"],[0.3333333333333333,\"#9c179e\"],[0.4444444444444444,\"#bd3786\"],[0.5555555555555556,\"#d8576b\"],[0.6666666666666666,\"#ed7953\"],[0.7777777777777778,\"#fb9f3a\"],[0.8888888888888888,\"#fdca26\"],[1.0,\"#f0f921\"]]}],\"contourcarpet\":[{\"type\":\"contourcarpet\",\"colorbar\":{\"outlinewidth\":0,\"ticks\":\"\"}}],\"contour\":[{\"type\":\"contour\",\"colorbar\":{\"outlinewidth\":0,\"ticks\":\"\"},\"colorscale\":[[0.0,\"#0d0887\"],[0.1111111111111111,\"#46039f\"],[0.2222222222222222,\"#7201a8\"],[0.3333333333333333,\"#9c179e\"],[0.4444444444444444,\"#bd3786\"],[0.5555555555555556,\"#d8576b\"],[0.6666666666666666,\"#ed7953\"],[0.7777777777777778,\"#fb9f3a\"],[0.8888888888888888,\"#fdca26\"],[1.0,\"#f0f921\"]]}],\"surface\":[{\"type\":\"surface\",\"colorbar\":{\"outlinewidth\":0,\"ticks\":\"\"},\"colorscale\":[[0.0,\"#0d0887\"],[0.1111111111111111,\"#46039f\"],[0.2222222222222222,\"#7201a8\"],[0.3333333333333333,\"#9c179e\"],[0.4444444444444444,\"#bd3786\"],[0.5555555555555556,\"#d8576b\"],[0.6666666666666666,\"#ed7953\"],[0.7777777777777778,\"#fb9f3a\"],[0.8888888888888888,\"#fdca26\"],[1.0,\"#f0f921\"]]}],\"mesh3d\":[{\"type\":\"mesh3d\",\"colorbar\":{\"outlinewidth\":0,\"ticks\":\"\"}}],\"scatter\":[{\"fillpattern\":{\"fillmode\":\"overlay\",\"size\":10,\"solidity\":0.2},\"type\":\"scatter\"}],\"parcoords\":[{\"type\":\"parcoords\",\"line\":{\"colorbar\":{\"outlinewidth\":0,\"ticks\":\"\"}}}],\"scatterpolargl\":[{\"type\":\"scatterpolargl\",\"marker\":{\"colorbar\":{\"outlinewidth\":0,\"ticks\":\"\"}}}],\"bar\":[{\"error_x\":{\"color\":\"#2a3f5f\"},\"error_y\":{\"color\":\"#2a3f5f\"},\"marker\":{\"line\":{\"color\":\"#E5ECF6\",\"width\":0.5},\"pattern\":{\"fillmode\":\"overlay\",\"size\":10,\"solidity\":0.2}},\"type\":\"bar\"}],\"scattergeo\":[{\"type\":\"scattergeo\",\"marker\":{\"colorbar\":{\"outlinewidth\":0,\"ticks\":\"\"}}}],\"scatterpolar\":[{\"type\":\"scatterpolar\",\"marker\":{\"colorbar\":{\"outlinewidth\":0,\"ticks\":\"\"}}}],\"histogram\":[{\"marker\":{\"pattern\":{\"fillmode\":\"overlay\",\"size\":10,\"solidity\":0.2}},\"type\":\"histogram\"}],\"scattergl\":[{\"type\":\"scattergl\",\"marker\":{\"colorbar\":{\"outlinewidth\":0,\"ticks\":\"\"}}}],\"scatter3d\":[{\"type\":\"scatter3d\",\"line\":{\"colorbar\":{\"outlinewidth\":0,\"ticks\":\"\"}},\"marker\":{\"colorbar\":{\"outlinewidth\":0,\"ticks\":\"\"}}}],\"scattermapbox\":[{\"type\":\"scattermapbox\",\"marker\":{\"colorbar\":{\"outlinewidth\":0,\"ticks\":\"\"}}}],\"scatterternary\":[{\"type\":\"scatterternary\",\"marker\":{\"colorbar\":{\"outlinewidth\":0,\"ticks\":\"\"}}}],\"scattercarpet\":[{\"type\":\"scattercarpet\",\"marker\":{\"colorbar\":{\"outlinewidth\":0,\"ticks\":\"\"}}}],\"carpet\":[{\"aaxis\":{\"endlinecolor\":\"#2a3f5f\",\"gridcolor\":\"white\",\"linecolor\":\"white\",\"minorgridcolor\":\"white\",\"startlinecolor\":\"#2a3f5f\"},\"baxis\":{\"endlinecolor\":\"#2a3f5f\",\"gridcolor\":\"white\",\"linecolor\":\"white\",\"minorgridcolor\":\"white\",\"startlinecolor\":\"#2a3f5f\"},\"type\":\"carpet\"}],\"table\":[{\"cells\":{\"fill\":{\"color\":\"#EBF0F8\"},\"line\":{\"color\":\"white\"}},\"header\":{\"fill\":{\"color\":\"#C8D4E3\"},\"line\":{\"color\":\"white\"}},\"type\":\"table\"}],\"barpolar\":[{\"marker\":{\"line\":{\"color\":\"#E5ECF6\",\"width\":0.5},\"pattern\":{\"fillmode\":\"overlay\",\"size\":10,\"solidity\":0.2}},\"type\":\"barpolar\"}],\"pie\":[{\"automargin\":true,\"type\":\"pie\"}]},\"layout\":{\"autotypenumbers\":\"strict\",\"colorway\":[\"#636efa\",\"#EF553B\",\"#00cc96\",\"#ab63fa\",\"#FFA15A\",\"#19d3f3\",\"#FF6692\",\"#B6E880\",\"#FF97FF\",\"#FECB52\"],\"font\":{\"color\":\"#2a3f5f\"},\"hovermode\":\"closest\",\"hoverlabel\":{\"align\":\"left\"},\"paper_bgcolor\":\"white\",\"plot_bgcolor\":\"#E5ECF6\",\"polar\":{\"bgcolor\":\"#E5ECF6\",\"angularaxis\":{\"gridcolor\":\"white\",\"linecolor\":\"white\",\"ticks\":\"\"},\"radialaxis\":{\"gridcolor\":\"white\",\"linecolor\":\"white\",\"ticks\":\"\"}},\"ternary\":{\"bgcolor\":\"#E5ECF6\",\"aaxis\":{\"gridcolor\":\"white\",\"linecolor\":\"white\",\"ticks\":\"\"},\"baxis\":{\"gridcolor\":\"white\",\"linecolor\":\"white\",\"ticks\":\"\"},\"caxis\":{\"gridcolor\":\"white\",\"linecolor\":\"white\",\"ticks\":\"\"}},\"coloraxis\":{\"colorbar\":{\"outlinewidth\":0,\"ticks\":\"\"}},\"colorscale\":{\"sequential\":[[0.0,\"#0d0887\"],[0.1111111111111111,\"#46039f\"],[0.2222222222222222,\"#7201a8\"],[0.3333333333333333,\"#9c179e\"],[0.4444444444444444,\"#bd3786\"],[0.5555555555555556,\"#d8576b\"],[0.6666666666666666,\"#ed7953\"],[0.7777777777777778,\"#fb9f3a\"],[0.8888888888888888,\"#fdca26\"],[1.0,\"#f0f921\"]],\"sequentialminus\":[[0.0,\"#0d0887\"],[0.1111111111111111,\"#46039f\"],[0.2222222222222222,\"#7201a8\"],[0.3333333333333333,\"#9c179e\"],[0.4444444444444444,\"#bd3786\"],[0.5555555555555556,\"#d8576b\"],[0.6666666666666666,\"#ed7953\"],[0.7777777777777778,\"#fb9f3a\"],[0.8888888888888888,\"#fdca26\"],[1.0,\"#f0f921\"]],\"diverging\":[[0,\"#8e0152\"],[0.1,\"#c51b7d\"],[0.2,\"#de77ae\"],[0.3,\"#f1b6da\"],[0.4,\"#fde0ef\"],[0.5,\"#f7f7f7\"],[0.6,\"#e6f5d0\"],[0.7,\"#b8e186\"],[0.8,\"#7fbc41\"],[0.9,\"#4d9221\"],[1,\"#276419\"]]},\"xaxis\":{\"gridcolor\":\"white\",\"linecolor\":\"white\",\"ticks\":\"\",\"title\":{\"standoff\":15},\"zerolinecolor\":\"white\",\"automargin\":true,\"zerolinewidth\":2},\"yaxis\":{\"gridcolor\":\"white\",\"linecolor\":\"white\",\"ticks\":\"\",\"title\":{\"standoff\":15},\"zerolinecolor\":\"white\",\"automargin\":true,\"zerolinewidth\":2},\"scene\":{\"xaxis\":{\"backgroundcolor\":\"#E5ECF6\",\"gridcolor\":\"white\",\"linecolor\":\"white\",\"showbackground\":true,\"ticks\":\"\",\"zerolinecolor\":\"white\",\"gridwidth\":2},\"yaxis\":{\"backgroundcolor\":\"#E5ECF6\",\"gridcolor\":\"white\",\"linecolor\":\"white\",\"showbackground\":true,\"ticks\":\"\",\"zerolinecolor\":\"white\",\"gridwidth\":2},\"zaxis\":{\"backgroundcolor\":\"#E5ECF6\",\"gridcolor\":\"white\",\"linecolor\":\"white\",\"showbackground\":true,\"ticks\":\"\",\"zerolinecolor\":\"white\",\"gridwidth\":2}},\"shapedefaults\":{\"line\":{\"color\":\"#2a3f5f\"}},\"annotationdefaults\":{\"arrowcolor\":\"#2a3f5f\",\"arrowhead\":0,\"arrowwidth\":1},\"geo\":{\"bgcolor\":\"white\",\"landcolor\":\"#E5ECF6\",\"subunitcolor\":\"white\",\"showland\":true,\"showlakes\":true,\"lakecolor\":\"white\"},\"title\":{\"x\":0.05},\"mapbox\":{\"style\":\"light\"}}},\"geo\":{\"domain\":{\"x\":[0.0,1.0],\"y\":[0.0,1.0]},\"center\":{},\"projection\":{\"type\":\"equirectangular\"},\"showframe\":false,\"showcoastlines\":false},\"coloraxis\":{\"colorbar\":{\"title\":{\"text\":\"Happiness Score\"},\"tickvals\":[2.853,7.769],\"ticktext\":[\"Lowest\",\"Highest\"]},\"colorscale\":[[0.0,\"#440154\"],[0.1111111111111111,\"#482878\"],[0.2222222222222222,\"#3e4989\"],[0.3333333333333333,\"#31688e\"],[0.4444444444444444,\"#26828e\"],[0.5555555555555556,\"#1f9e89\"],[0.6666666666666666,\"#35b779\"],[0.7777777777777778,\"#6ece58\"],[0.8888888888888888,\"#b5de2b\"],[1.0,\"#fde725\"]]},\"legend\":{\"tracegroupgap\":0},\"title\":{\"text\":\"World Happiness Index for 2019\"}},                        {\"responsive\": true}                    ).then(function(){\n",
       "                            \n",
       "var gd = document.getElementById('ba1bbe31-c71d-45f3-be5e-f17d531eb0d8');\n",
       "var x = new MutationObserver(function (mutations, observer) {{\n",
       "        var display = window.getComputedStyle(gd).display;\n",
       "        if (!display || display === 'none') {{\n",
       "            console.log([gd, 'removed!']);\n",
       "            Plotly.purge(gd);\n",
       "            observer.disconnect();\n",
       "        }}\n",
       "}});\n",
       "\n",
       "// Listen for the removal of the full notebook cells\n",
       "var notebookContainer = gd.closest('#notebook-container');\n",
       "if (notebookContainer) {{\n",
       "    x.observe(notebookContainer, {childList: true});\n",
       "}}\n",
       "\n",
       "// Listen for the clearing of the current output cell\n",
       "var outputEl = gd.closest('.output');\n",
       "if (outputEl) {{\n",
       "    x.observe(outputEl, {childList: true});\n",
       "}}\n",
       "\n",
       "                        })                };                });            </script>        </div>"
      ]
     },
     "metadata": {},
     "output_type": "display_data"
    }
   ],
   "source": [
    "import pandas as pd\n",
    "import plotly.express as px\n",
    "\n",
    "df_2019 = pd.read_csv(\"world_happiness_data/2019.csv\")\n",
    "df_2019.rename(columns={\"Country or region\": \"Country\", \"Score\": \"Happiness Score\"}, inplace=True)\n",
    "\n",
    "fig_2019 = px.choropleth(\n",
    "    df_2019,\n",
    "    locations='Country',\n",
    "    locationmode='country names',\n",
    "    color='Happiness Score',\n",
    "    hover_name='Country',\n",
    "    color_continuous_scale=px.colors.sequential.Viridis,\n",
    "    title='World Happiness Index for 2019'\n",
    ")\n",
    "\n",
    "fig_2019.update_layout(\n",
    "    geo=dict(\n",
    "        showframe=False,\n",
    "        showcoastlines=False,\n",
    "        projection_type='equirectangular'\n",
    "    ),\n",
    "    coloraxis_colorbar=dict(\n",
    "        title=\"Happiness Score\",\n",
    "        tickvals=[df_2019['Happiness Score'].min(), df_2019['Happiness Score'].max()],\n",
    "        ticktext=[\"Lowest\", \"Highest\"]\n",
    "    )\n",
    ")\n",
    "\n",
    "fig_2019.show()\n"
   ]
  },
  {
   "cell_type": "code",
   "execution_count": 32,
   "id": "bb298e98-3d00-4f78-95f1-fc42770e3ce0",
   "metadata": {},
   "outputs": [
    {
     "data": {
      "application/vnd.plotly.v1+json": {
       "config": {
        "plotlyServerURL": "https://plot.ly"
       },
       "data": [
        {
         "coloraxis": "coloraxis",
         "geo": "geo",
         "hovertemplate": "<b>%{hovertext}</b><br><br>Country=%{location}<br>Happiness Score=%{z}<extra></extra>",
         "hovertext": [
          "Afghanistan",
          "Albania",
          "Algeria",
          "Angola",
          "Argentina",
          "Armenia",
          "Australia",
          "Austria",
          "Azerbaijan",
          "Bahrain",
          "Bangladesh",
          "Belarus",
          "Belgium",
          "Belize",
          "Benin",
          "Bhutan",
          "Bolivia",
          "Bosnia and Herzegovina",
          "Botswana",
          "Brazil",
          "Bulgaria",
          "Burkina Faso",
          "Burundi",
          "Cambodia",
          "Cameroon",
          "Canada",
          "Central African Republic",
          "Chad",
          "Chile",
          "China",
          "Colombia",
          "Comoros",
          "Congo (Brazzaville)",
          "Congo (Kinshasa)",
          "Costa Rica",
          "Croatia",
          "Cyprus",
          "Czech Republic",
          "Denmark",
          "Djibouti",
          "Dominican Republic",
          "Ecuador",
          "Egypt",
          "El Salvador",
          "Estonia",
          "Ethiopia",
          "Finland",
          "France",
          "Gabon",
          "Gambia",
          "Georgia",
          "Germany",
          "Ghana",
          "Greece",
          "Guatemala",
          "Guinea",
          "Haiti",
          "Honduras",
          "Hong Kong",
          "Hong Kong S.A.R., China",
          "Hungary",
          "Iceland",
          "India",
          "Indonesia",
          "Iran",
          "Iraq",
          "Ireland",
          "Israel",
          "Italy",
          "Ivory Coast",
          "Jamaica",
          "Japan",
          "Jordan",
          "Kazakhstan",
          "Kenya",
          "Kosovo",
          "Kuwait",
          "Kyrgyzstan",
          "Laos",
          "Latvia",
          "Lebanon",
          "Lesotho",
          "Liberia",
          "Libya",
          "Lithuania",
          "Luxembourg",
          "Macedonia",
          "Madagascar",
          "Malawi",
          "Malaysia",
          "Mali",
          "Malta",
          "Mauritania",
          "Mauritius",
          "Mexico",
          "Moldova",
          "Mongolia",
          "Montenegro",
          "Morocco",
          "Mozambique",
          "Myanmar",
          "Namibia",
          "Nepal",
          "Netherlands",
          "New Zealand",
          "Nicaragua",
          "Niger",
          "Nigeria",
          "North Cyprus",
          "North Macedonia",
          "Northern Cyprus",
          "Norway",
          "Oman",
          "Pakistan",
          "Palestinian Territories",
          "Panama",
          "Paraguay",
          "Peru",
          "Philippines",
          "Poland",
          "Portugal",
          "Puerto Rico",
          "Qatar",
          "Romania",
          "Russia",
          "Rwanda",
          "Saudi Arabia",
          "Senegal",
          "Serbia",
          "Sierra Leone",
          "Singapore",
          "Slovakia",
          "Slovenia",
          "Somalia",
          "Somaliland Region",
          "Somaliland region",
          "South Africa",
          "South Korea",
          "South Sudan",
          "Spain",
          "Sri Lanka",
          "Sudan",
          "Suriname",
          "Swaziland",
          "Sweden",
          "Switzerland",
          "Syria",
          "Taiwan",
          "Taiwan Province of China",
          "Tajikistan",
          "Tanzania",
          "Thailand",
          "Togo",
          "Trinidad & Tobago",
          "Trinidad and Tobago",
          "Tunisia",
          "Turkey",
          "Turkmenistan",
          "Uganda",
          "Ukraine",
          "United Arab Emirates",
          "United Kingdom",
          "United States",
          "Uruguay",
          "Uzbekistan",
          "Venezuela",
          "Vietnam",
          "Yemen",
          "Zambia",
          "Zimbabwe"
         ],
         "locationmode": "country names",
         "locations": [
          "Afghanistan",
          "Albania",
          "Algeria",
          "Angola",
          "Argentina",
          "Armenia",
          "Australia",
          "Austria",
          "Azerbaijan",
          "Bahrain",
          "Bangladesh",
          "Belarus",
          "Belgium",
          "Belize",
          "Benin",
          "Bhutan",
          "Bolivia",
          "Bosnia and Herzegovina",
          "Botswana",
          "Brazil",
          "Bulgaria",
          "Burkina Faso",
          "Burundi",
          "Cambodia",
          "Cameroon",
          "Canada",
          "Central African Republic",
          "Chad",
          "Chile",
          "China",
          "Colombia",
          "Comoros",
          "Congo (Brazzaville)",
          "Congo (Kinshasa)",
          "Costa Rica",
          "Croatia",
          "Cyprus",
          "Czech Republic",
          "Denmark",
          "Djibouti",
          "Dominican Republic",
          "Ecuador",
          "Egypt",
          "El Salvador",
          "Estonia",
          "Ethiopia",
          "Finland",
          "France",
          "Gabon",
          "Gambia",
          "Georgia",
          "Germany",
          "Ghana",
          "Greece",
          "Guatemala",
          "Guinea",
          "Haiti",
          "Honduras",
          "Hong Kong",
          "Hong Kong S.A.R., China",
          "Hungary",
          "Iceland",
          "India",
          "Indonesia",
          "Iran",
          "Iraq",
          "Ireland",
          "Israel",
          "Italy",
          "Ivory Coast",
          "Jamaica",
          "Japan",
          "Jordan",
          "Kazakhstan",
          "Kenya",
          "Kosovo",
          "Kuwait",
          "Kyrgyzstan",
          "Laos",
          "Latvia",
          "Lebanon",
          "Lesotho",
          "Liberia",
          "Libya",
          "Lithuania",
          "Luxembourg",
          "Macedonia",
          "Madagascar",
          "Malawi",
          "Malaysia",
          "Mali",
          "Malta",
          "Mauritania",
          "Mauritius",
          "Mexico",
          "Moldova",
          "Mongolia",
          "Montenegro",
          "Morocco",
          "Mozambique",
          "Myanmar",
          "Namibia",
          "Nepal",
          "Netherlands",
          "New Zealand",
          "Nicaragua",
          "Niger",
          "Nigeria",
          "North Cyprus",
          "North Macedonia",
          "Northern Cyprus",
          "Norway",
          "Oman",
          "Pakistan",
          "Palestinian Territories",
          "Panama",
          "Paraguay",
          "Peru",
          "Philippines",
          "Poland",
          "Portugal",
          "Puerto Rico",
          "Qatar",
          "Romania",
          "Russia",
          "Rwanda",
          "Saudi Arabia",
          "Senegal",
          "Serbia",
          "Sierra Leone",
          "Singapore",
          "Slovakia",
          "Slovenia",
          "Somalia",
          "Somaliland Region",
          "Somaliland region",
          "South Africa",
          "South Korea",
          "South Sudan",
          "Spain",
          "Sri Lanka",
          "Sudan",
          "Suriname",
          "Swaziland",
          "Sweden",
          "Switzerland",
          "Syria",
          "Taiwan",
          "Taiwan Province of China",
          "Tajikistan",
          "Tanzania",
          "Thailand",
          "Togo",
          "Trinidad & Tobago",
          "Trinidad and Tobago",
          "Tunisia",
          "Turkey",
          "Turkmenistan",
          "Uganda",
          "Ukraine",
          "United Arab Emirates",
          "United Kingdom",
          "United States",
          "Uruguay",
          "Uzbekistan",
          "Venezuela",
          "Vietnam",
          "Yemen",
          "Zambia",
          "Zimbabwe"
         ],
         "name": "",
         "type": "choropleth",
         "z": [
          3.512799982070922,
          4.712600010681152,
          5.667600043487548,
          3.872250019073488,
          6.459399995422364,
          4.3931999855041495,
          7.276199983978271,
          7.142000008392334,
          5.22920004119873,
          6.1137999786376955,
          4.580199960327148,
          5.597999953460694,
          6.92139995880127,
          5.955999950408938,
          3.90100001296997,
          5.124800031280517,
          5.813199990844725,
          5.161800032043457,
          3.830000006484986,
          6.6578000457763675,
          4.618600045013428,
          4.07380001296997,
          3.078999994277954,
          4.205400044250488,
          4.695800034332276,
          7.350599996948242,
          3.1342500195503225,
          4.003400021743774,
          6.5893999900817875,
          5.218999952697755,
          6.339999974822998,
          3.9616666666666664,
          4.377399977874756,
          4.346400041961671,
          7.126199999237061,
          5.458600044250488,
          5.732799962615966,
          6.654600041198731,
          7.5459999671936036,
          4.369,
          5.199400003814698,
          5.991999979400633,
          4.375200026702879,
          6.124199956512451,
          5.637800012207032,
          4.423200007629394,
          7.537799972534179,
          6.515199982452392,
          4.407800030517578,
          4.516,
          4.3387999549865714,
          6.92900004272461,
          4.536399977111816,
          5.152400047302246,
          6.34379999923706,
          3.853599993896484,
          3.8655999851226794,
          5.240800046539306,
          5.448,
          5.47200012207031,
          5.329399976348876,
          7.511000037384034,
          4.2978000114440915,
          5.2520000167846685,
          4.689199982452392,
          4.528400043487548,
          6.964400047302246,
          7.142199964141847,
          6.022400045013429,
          4.2731999656677235,
          5.661999974060057,
          5.9258000152587895,
          5.179599993133544,
          5.838399953460694,
          4.449399994659425,
          5.606199961090089,
          6.148600003814698,
          5.173400037384034,
          4.79275,
          5.676199980926514,
          5.1495999809265145,
          4.07900002193451,
          3.839199998474122,
          5.597000019073485,
          5.929799990081788,
          6.935999983215332,
          5.122000047683715,
          3.745400010681152,
          3.883000005722046,
          5.904000022125244,
          4.219000011444092,
          6.533999990081787,
          4.354999963378906,
          5.7066000373840335,
          6.725200013732911,
          5.758599964141846,
          5.02919998474121,
          5.291999997711182,
          5.17220002670288,
          4.601000047683715,
          4.38300001525879,
          4.556999970436095,
          4.812399978637696,
          7.404599971008301,
          7.313000025939942,
          6.027400019836426,
          4.104599975585939,
          5.127399976348876,
          5.758666647593181,
          5.274,
          5.7765,
          7.541000035858154,
          6.853,
          5.344000010681151,
          4.736600019073486,
          6.53800002822876,
          5.666600006103517,
          5.728400030517578,
          5.387399965667724,
          5.980800009918212,
          5.304600034332276,
          7.039,
          6.4218,
          5.698399961853028,
          5.798599964141846,
          3.4385999912261958,
          6.37599997253418,
          4.393999969482422,
          5.339199996185302,
          4.559200022125244,
          6.542800005340576,
          6.108400009918212,
          5.887999979400634,
          5.060250005722045,
          5.057,
          5.057,
          4.67519999923706,
          5.885399964141846,
          3.3825000200271598,
          6.351399975585938,
          4.392600011444092,
          4.24174998474121,
          6.269,
          4.5395,
          7.319199983978272,
          7.511399991607666,
          3.292199978637696,
          6.391,
          6.42199993133545,
          5.097799977874756,
          3.4659999954223637,
          6.28659995727539,
          3.5441999771118162,
          6.192,
          6.168000073750814,
          4.728399965667724,
          5.4154,
          5.582200005340576,
          4.020199970245362,
          4.307200038909912,
          6.744199952697754,
          6.910000045013428,
          6.998800006103517,
          6.4311999992370605,
          6.0462000389099115,
          5.5314,
          5.154599976348876,
          3.6257999870300304,
          4.584399987792968,
          4.006600000000001
         ]
        }
       ],
       "layout": {
        "autosize": true,
        "coloraxis": {
         "colorbar": {
          "ticktext": [
           "Lowest",
           "Highest"
          ],
          "tickvals": [
           3.078999994277954,
           7.5459999671936036
          ],
          "title": {
           "text": "Happiness Score"
          }
         },
         "colorscale": [
          [
           0,
           "#440154"
          ],
          [
           0.1111111111111111,
           "#482878"
          ],
          [
           0.2222222222222222,
           "#3e4989"
          ],
          [
           0.3333333333333333,
           "#31688e"
          ],
          [
           0.4444444444444444,
           "#26828e"
          ],
          [
           0.5555555555555556,
           "#1f9e89"
          ],
          [
           0.6666666666666666,
           "#35b779"
          ],
          [
           0.7777777777777778,
           "#6ece58"
          ],
          [
           0.8888888888888888,
           "#b5de2b"
          ],
          [
           1,
           "#fde725"
          ]
         ]
        },
        "geo": {
         "center": {
          "lat": 0,
          "lon": 0
         },
         "domain": {
          "x": [
           0,
           1
          ],
          "y": [
           0,
           1
          ]
         },
         "fitbounds": false,
         "projection": {
          "rotation": {
           "lon": 0
          },
          "scale": 1,
          "type": "equirectangular"
         },
         "showcoastlines": false,
         "showframe": false
        },
        "legend": {
         "tracegroupgap": 0
        },
        "template": {
         "data": {
          "bar": [
           {
            "error_x": {
             "color": "#2a3f5f"
            },
            "error_y": {
             "color": "#2a3f5f"
            },
            "marker": {
             "line": {
              "color": "#E5ECF6",
              "width": 0.5
             },
             "pattern": {
              "fillmode": "overlay",
              "size": 10,
              "solidity": 0.2
             }
            },
            "type": "bar"
           }
          ],
          "barpolar": [
           {
            "marker": {
             "line": {
              "color": "#E5ECF6",
              "width": 0.5
             },
             "pattern": {
              "fillmode": "overlay",
              "size": 10,
              "solidity": 0.2
             }
            },
            "type": "barpolar"
           }
          ],
          "carpet": [
           {
            "aaxis": {
             "endlinecolor": "#2a3f5f",
             "gridcolor": "white",
             "linecolor": "white",
             "minorgridcolor": "white",
             "startlinecolor": "#2a3f5f"
            },
            "baxis": {
             "endlinecolor": "#2a3f5f",
             "gridcolor": "white",
             "linecolor": "white",
             "minorgridcolor": "white",
             "startlinecolor": "#2a3f5f"
            },
            "type": "carpet"
           }
          ],
          "choropleth": [
           {
            "colorbar": {
             "outlinewidth": 0,
             "ticks": ""
            },
            "type": "choropleth"
           }
          ],
          "contour": [
           {
            "colorbar": {
             "outlinewidth": 0,
             "ticks": ""
            },
            "colorscale": [
             [
              0,
              "#0d0887"
             ],
             [
              0.1111111111111111,
              "#46039f"
             ],
             [
              0.2222222222222222,
              "#7201a8"
             ],
             [
              0.3333333333333333,
              "#9c179e"
             ],
             [
              0.4444444444444444,
              "#bd3786"
             ],
             [
              0.5555555555555556,
              "#d8576b"
             ],
             [
              0.6666666666666666,
              "#ed7953"
             ],
             [
              0.7777777777777778,
              "#fb9f3a"
             ],
             [
              0.8888888888888888,
              "#fdca26"
             ],
             [
              1,
              "#f0f921"
             ]
            ],
            "type": "contour"
           }
          ],
          "contourcarpet": [
           {
            "colorbar": {
             "outlinewidth": 0,
             "ticks": ""
            },
            "type": "contourcarpet"
           }
          ],
          "heatmap": [
           {
            "colorbar": {
             "outlinewidth": 0,
             "ticks": ""
            },
            "colorscale": [
             [
              0,
              "#0d0887"
             ],
             [
              0.1111111111111111,
              "#46039f"
             ],
             [
              0.2222222222222222,
              "#7201a8"
             ],
             [
              0.3333333333333333,
              "#9c179e"
             ],
             [
              0.4444444444444444,
              "#bd3786"
             ],
             [
              0.5555555555555556,
              "#d8576b"
             ],
             [
              0.6666666666666666,
              "#ed7953"
             ],
             [
              0.7777777777777778,
              "#fb9f3a"
             ],
             [
              0.8888888888888888,
              "#fdca26"
             ],
             [
              1,
              "#f0f921"
             ]
            ],
            "type": "heatmap"
           }
          ],
          "heatmapgl": [
           {
            "colorbar": {
             "outlinewidth": 0,
             "ticks": ""
            },
            "colorscale": [
             [
              0,
              "#0d0887"
             ],
             [
              0.1111111111111111,
              "#46039f"
             ],
             [
              0.2222222222222222,
              "#7201a8"
             ],
             [
              0.3333333333333333,
              "#9c179e"
             ],
             [
              0.4444444444444444,
              "#bd3786"
             ],
             [
              0.5555555555555556,
              "#d8576b"
             ],
             [
              0.6666666666666666,
              "#ed7953"
             ],
             [
              0.7777777777777778,
              "#fb9f3a"
             ],
             [
              0.8888888888888888,
              "#fdca26"
             ],
             [
              1,
              "#f0f921"
             ]
            ],
            "type": "heatmapgl"
           }
          ],
          "histogram": [
           {
            "marker": {
             "pattern": {
              "fillmode": "overlay",
              "size": 10,
              "solidity": 0.2
             }
            },
            "type": "histogram"
           }
          ],
          "histogram2d": [
           {
            "colorbar": {
             "outlinewidth": 0,
             "ticks": ""
            },
            "colorscale": [
             [
              0,
              "#0d0887"
             ],
             [
              0.1111111111111111,
              "#46039f"
             ],
             [
              0.2222222222222222,
              "#7201a8"
             ],
             [
              0.3333333333333333,
              "#9c179e"
             ],
             [
              0.4444444444444444,
              "#bd3786"
             ],
             [
              0.5555555555555556,
              "#d8576b"
             ],
             [
              0.6666666666666666,
              "#ed7953"
             ],
             [
              0.7777777777777778,
              "#fb9f3a"
             ],
             [
              0.8888888888888888,
              "#fdca26"
             ],
             [
              1,
              "#f0f921"
             ]
            ],
            "type": "histogram2d"
           }
          ],
          "histogram2dcontour": [
           {
            "colorbar": {
             "outlinewidth": 0,
             "ticks": ""
            },
            "colorscale": [
             [
              0,
              "#0d0887"
             ],
             [
              0.1111111111111111,
              "#46039f"
             ],
             [
              0.2222222222222222,
              "#7201a8"
             ],
             [
              0.3333333333333333,
              "#9c179e"
             ],
             [
              0.4444444444444444,
              "#bd3786"
             ],
             [
              0.5555555555555556,
              "#d8576b"
             ],
             [
              0.6666666666666666,
              "#ed7953"
             ],
             [
              0.7777777777777778,
              "#fb9f3a"
             ],
             [
              0.8888888888888888,
              "#fdca26"
             ],
             [
              1,
              "#f0f921"
             ]
            ],
            "type": "histogram2dcontour"
           }
          ],
          "mesh3d": [
           {
            "colorbar": {
             "outlinewidth": 0,
             "ticks": ""
            },
            "type": "mesh3d"
           }
          ],
          "parcoords": [
           {
            "line": {
             "colorbar": {
              "outlinewidth": 0,
              "ticks": ""
             }
            },
            "type": "parcoords"
           }
          ],
          "pie": [
           {
            "automargin": true,
            "type": "pie"
           }
          ],
          "scatter": [
           {
            "fillpattern": {
             "fillmode": "overlay",
             "size": 10,
             "solidity": 0.2
            },
            "type": "scatter"
           }
          ],
          "scatter3d": [
           {
            "line": {
             "colorbar": {
              "outlinewidth": 0,
              "ticks": ""
             }
            },
            "marker": {
             "colorbar": {
              "outlinewidth": 0,
              "ticks": ""
             }
            },
            "type": "scatter3d"
           }
          ],
          "scattercarpet": [
           {
            "marker": {
             "colorbar": {
              "outlinewidth": 0,
              "ticks": ""
             }
            },
            "type": "scattercarpet"
           }
          ],
          "scattergeo": [
           {
            "marker": {
             "colorbar": {
              "outlinewidth": 0,
              "ticks": ""
             }
            },
            "type": "scattergeo"
           }
          ],
          "scattergl": [
           {
            "marker": {
             "colorbar": {
              "outlinewidth": 0,
              "ticks": ""
             }
            },
            "type": "scattergl"
           }
          ],
          "scattermapbox": [
           {
            "marker": {
             "colorbar": {
              "outlinewidth": 0,
              "ticks": ""
             }
            },
            "type": "scattermapbox"
           }
          ],
          "scatterpolar": [
           {
            "marker": {
             "colorbar": {
              "outlinewidth": 0,
              "ticks": ""
             }
            },
            "type": "scatterpolar"
           }
          ],
          "scatterpolargl": [
           {
            "marker": {
             "colorbar": {
              "outlinewidth": 0,
              "ticks": ""
             }
            },
            "type": "scatterpolargl"
           }
          ],
          "scatterternary": [
           {
            "marker": {
             "colorbar": {
              "outlinewidth": 0,
              "ticks": ""
             }
            },
            "type": "scatterternary"
           }
          ],
          "surface": [
           {
            "colorbar": {
             "outlinewidth": 0,
             "ticks": ""
            },
            "colorscale": [
             [
              0,
              "#0d0887"
             ],
             [
              0.1111111111111111,
              "#46039f"
             ],
             [
              0.2222222222222222,
              "#7201a8"
             ],
             [
              0.3333333333333333,
              "#9c179e"
             ],
             [
              0.4444444444444444,
              "#bd3786"
             ],
             [
              0.5555555555555556,
              "#d8576b"
             ],
             [
              0.6666666666666666,
              "#ed7953"
             ],
             [
              0.7777777777777778,
              "#fb9f3a"
             ],
             [
              0.8888888888888888,
              "#fdca26"
             ],
             [
              1,
              "#f0f921"
             ]
            ],
            "type": "surface"
           }
          ],
          "table": [
           {
            "cells": {
             "fill": {
              "color": "#EBF0F8"
             },
             "line": {
              "color": "white"
             }
            },
            "header": {
             "fill": {
              "color": "#C8D4E3"
             },
             "line": {
              "color": "white"
             }
            },
            "type": "table"
           }
          ]
         },
         "layout": {
          "annotationdefaults": {
           "arrowcolor": "#2a3f5f",
           "arrowhead": 0,
           "arrowwidth": 1
          },
          "autotypenumbers": "strict",
          "coloraxis": {
           "colorbar": {
            "outlinewidth": 0,
            "ticks": ""
           }
          },
          "colorscale": {
           "diverging": [
            [
             0,
             "#8e0152"
            ],
            [
             0.1,
             "#c51b7d"
            ],
            [
             0.2,
             "#de77ae"
            ],
            [
             0.3,
             "#f1b6da"
            ],
            [
             0.4,
             "#fde0ef"
            ],
            [
             0.5,
             "#f7f7f7"
            ],
            [
             0.6,
             "#e6f5d0"
            ],
            [
             0.7,
             "#b8e186"
            ],
            [
             0.8,
             "#7fbc41"
            ],
            [
             0.9,
             "#4d9221"
            ],
            [
             1,
             "#276419"
            ]
           ],
           "sequential": [
            [
             0,
             "#0d0887"
            ],
            [
             0.1111111111111111,
             "#46039f"
            ],
            [
             0.2222222222222222,
             "#7201a8"
            ],
            [
             0.3333333333333333,
             "#9c179e"
            ],
            [
             0.4444444444444444,
             "#bd3786"
            ],
            [
             0.5555555555555556,
             "#d8576b"
            ],
            [
             0.6666666666666666,
             "#ed7953"
            ],
            [
             0.7777777777777778,
             "#fb9f3a"
            ],
            [
             0.8888888888888888,
             "#fdca26"
            ],
            [
             1,
             "#f0f921"
            ]
           ],
           "sequentialminus": [
            [
             0,
             "#0d0887"
            ],
            [
             0.1111111111111111,
             "#46039f"
            ],
            [
             0.2222222222222222,
             "#7201a8"
            ],
            [
             0.3333333333333333,
             "#9c179e"
            ],
            [
             0.4444444444444444,
             "#bd3786"
            ],
            [
             0.5555555555555556,
             "#d8576b"
            ],
            [
             0.6666666666666666,
             "#ed7953"
            ],
            [
             0.7777777777777778,
             "#fb9f3a"
            ],
            [
             0.8888888888888888,
             "#fdca26"
            ],
            [
             1,
             "#f0f921"
            ]
           ]
          },
          "colorway": [
           "#636efa",
           "#EF553B",
           "#00cc96",
           "#ab63fa",
           "#FFA15A",
           "#19d3f3",
           "#FF6692",
           "#B6E880",
           "#FF97FF",
           "#FECB52"
          ],
          "font": {
           "color": "#2a3f5f"
          },
          "geo": {
           "bgcolor": "white",
           "lakecolor": "white",
           "landcolor": "#E5ECF6",
           "showlakes": true,
           "showland": true,
           "subunitcolor": "white"
          },
          "hoverlabel": {
           "align": "left"
          },
          "hovermode": "closest",
          "mapbox": {
           "style": "light"
          },
          "paper_bgcolor": "white",
          "plot_bgcolor": "#E5ECF6",
          "polar": {
           "angularaxis": {
            "gridcolor": "white",
            "linecolor": "white",
            "ticks": ""
           },
           "bgcolor": "#E5ECF6",
           "radialaxis": {
            "gridcolor": "white",
            "linecolor": "white",
            "ticks": ""
           }
          },
          "scene": {
           "xaxis": {
            "backgroundcolor": "#E5ECF6",
            "gridcolor": "white",
            "gridwidth": 2,
            "linecolor": "white",
            "showbackground": true,
            "ticks": "",
            "zerolinecolor": "white"
           },
           "yaxis": {
            "backgroundcolor": "#E5ECF6",
            "gridcolor": "white",
            "gridwidth": 2,
            "linecolor": "white",
            "showbackground": true,
            "ticks": "",
            "zerolinecolor": "white"
           },
           "zaxis": {
            "backgroundcolor": "#E5ECF6",
            "gridcolor": "white",
            "gridwidth": 2,
            "linecolor": "white",
            "showbackground": true,
            "ticks": "",
            "zerolinecolor": "white"
           }
          },
          "shapedefaults": {
           "line": {
            "color": "#2a3f5f"
           }
          },
          "ternary": {
           "aaxis": {
            "gridcolor": "white",
            "linecolor": "white",
            "ticks": ""
           },
           "baxis": {
            "gridcolor": "white",
            "linecolor": "white",
            "ticks": ""
           },
           "bgcolor": "#E5ECF6",
           "caxis": {
            "gridcolor": "white",
            "linecolor": "white",
            "ticks": ""
           }
          },
          "title": {
           "x": 0.05
          },
          "xaxis": {
           "automargin": true,
           "gridcolor": "white",
           "linecolor": "white",
           "ticks": "",
           "title": {
            "standoff": 15
           },
           "zerolinecolor": "white",
           "zerolinewidth": 2
          },
          "yaxis": {
           "automargin": true,
           "gridcolor": "white",
           "linecolor": "white",
           "ticks": "",
           "title": {
            "standoff": 15
           },
           "zerolinecolor": "white",
           "zerolinewidth": 2
          }
         }
        },
        "title": {
         "text": "Average World Happiness Index (2015-2019)"
        }
       }
      },
      "image/png": "[encoded data removed]",
      "text/html": [
       "<div>                            <div id=\"87e22950-8798-4472-9aaf-d7d5c6b21062\" class=\"plotly-graph-div\" style=\"height:525px; width:100%;\"></div>            <script type=\"text/javascript\">                require([\"plotly\"], function(Plotly) {                    window.PLOTLYENV=window.PLOTLYENV || {};                                    if (document.getElementById(\"87e22950-8798-4472-9aaf-d7d5c6b21062\")) {                    Plotly.newPlot(                        \"87e22950-8798-4472-9aaf-d7d5c6b21062\",                        [{\"coloraxis\":\"coloraxis\",\"geo\":\"geo\",\"hovertemplate\":\"\\u003cb\\u003e%{hovertext}\\u003c\\u002fb\\u003e\\u003cbr\\u003e\\u003cbr\\u003eCountry=%{location}\\u003cbr\\u003eHappiness Score=%{z}\\u003cextra\\u003e\\u003c\\u002fextra\\u003e\",\"hovertext\":[\"Afghanistan\",\"Albania\",\"Algeria\",\"Angola\",\"Argentina\",\"Armenia\",\"Australia\",\"Austria\",\"Azerbaijan\",\"Bahrain\",\"Bangladesh\",\"Belarus\",\"Belgium\",\"Belize\",\"Benin\",\"Bhutan\",\"Bolivia\",\"Bosnia and Herzegovina\",\"Botswana\",\"Brazil\",\"Bulgaria\",\"Burkina Faso\",\"Burundi\",\"Cambodia\",\"Cameroon\",\"Canada\",\"Central African Republic\",\"Chad\",\"Chile\",\"China\",\"Colombia\",\"Comoros\",\"Congo (Brazzaville)\",\"Congo (Kinshasa)\",\"Costa Rica\",\"Croatia\",\"Cyprus\",\"Czech Republic\",\"Denmark\",\"Djibouti\",\"Dominican Republic\",\"Ecuador\",\"Egypt\",\"El Salvador\",\"Estonia\",\"Ethiopia\",\"Finland\",\"France\",\"Gabon\",\"Gambia\",\"Georgia\",\"Germany\",\"Ghana\",\"Greece\",\"Guatemala\",\"Guinea\",\"Haiti\",\"Honduras\",\"Hong Kong\",\"Hong Kong S.A.R., China\",\"Hungary\",\"Iceland\",\"India\",\"Indonesia\",\"Iran\",\"Iraq\",\"Ireland\",\"Israel\",\"Italy\",\"Ivory Coast\",\"Jamaica\",\"Japan\",\"Jordan\",\"Kazakhstan\",\"Kenya\",\"Kosovo\",\"Kuwait\",\"Kyrgyzstan\",\"Laos\",\"Latvia\",\"Lebanon\",\"Lesotho\",\"Liberia\",\"Libya\",\"Lithuania\",\"Luxembourg\",\"Macedonia\",\"Madagascar\",\"Malawi\",\"Malaysia\",\"Mali\",\"Malta\",\"Mauritania\",\"Mauritius\",\"Mexico\",\"Moldova\",\"Mongolia\",\"Montenegro\",\"Morocco\",\"Mozambique\",\"Myanmar\",\"Namibia\",\"Nepal\",\"Netherlands\",\"New Zealand\",\"Nicaragua\",\"Niger\",\"Nigeria\",\"North Cyprus\",\"North Macedonia\",\"Northern Cyprus\",\"Norway\",\"Oman\",\"Pakistan\",\"Palestinian Territories\",\"Panama\",\"Paraguay\",\"Peru\",\"Philippines\",\"Poland\",\"Portugal\",\"Puerto Rico\",\"Qatar\",\"Romania\",\"Russia\",\"Rwanda\",\"Saudi Arabia\",\"Senegal\",\"Serbia\",\"Sierra Leone\",\"Singapore\",\"Slovakia\",\"Slovenia\",\"Somalia\",\"Somaliland Region\",\"Somaliland region\",\"South Africa\",\"South Korea\",\"South Sudan\",\"Spain\",\"Sri Lanka\",\"Sudan\",\"Suriname\",\"Swaziland\",\"Sweden\",\"Switzerland\",\"Syria\",\"Taiwan\",\"Taiwan Province of China\",\"Tajikistan\",\"Tanzania\",\"Thailand\",\"Togo\",\"Trinidad & Tobago\",\"Trinidad and Tobago\",\"Tunisia\",\"Turkey\",\"Turkmenistan\",\"Uganda\",\"Ukraine\",\"United Arab Emirates\",\"United Kingdom\",\"United States\",\"Uruguay\",\"Uzbekistan\",\"Venezuela\",\"Vietnam\",\"Yemen\",\"Zambia\",\"Zimbabwe\"],\"locationmode\":\"country names\",\"locations\":[\"Afghanistan\",\"Albania\",\"Algeria\",\"Angola\",\"Argentina\",\"Armenia\",\"Australia\",\"Austria\",\"Azerbaijan\",\"Bahrain\",\"Bangladesh\",\"Belarus\",\"Belgium\",\"Belize\",\"Benin\",\"Bhutan\",\"Bolivia\",\"Bosnia and Herzegovina\",\"Botswana\",\"Brazil\",\"Bulgaria\",\"Burkina Faso\",\"Burundi\",\"Cambodia\",\"Cameroon\",\"Canada\",\"Central African Republic\",\"Chad\",\"Chile\",\"China\",\"Colombia\",\"Comoros\",\"Congo (Brazzaville)\",\"Congo (Kinshasa)\",\"Costa Rica\",\"Croatia\",\"Cyprus\",\"Czech Republic\",\"Denmark\",\"Djibouti\",\"Dominican Republic\",\"Ecuador\",\"Egypt\",\"El Salvador\",\"Estonia\",\"Ethiopia\",\"Finland\",\"France\",\"Gabon\",\"Gambia\",\"Georgia\",\"Germany\",\"Ghana\",\"Greece\",\"Guatemala\",\"Guinea\",\"Haiti\",\"Honduras\",\"Hong Kong\",\"Hong Kong S.A.R., China\",\"Hungary\",\"Iceland\",\"India\",\"Indonesia\",\"Iran\",\"Iraq\",\"Ireland\",\"Israel\",\"Italy\",\"Ivory Coast\",\"Jamaica\",\"Japan\",\"Jordan\",\"Kazakhstan\",\"Kenya\",\"Kosovo\",\"Kuwait\",\"Kyrgyzstan\",\"Laos\",\"Latvia\",\"Lebanon\",\"Lesotho\",\"Liberia\",\"Libya\",\"Lithuania\",\"Luxembourg\",\"Macedonia\",\"Madagascar\",\"Malawi\",\"Malaysia\",\"Mali\",\"Malta\",\"Mauritania\",\"Mauritius\",\"Mexico\",\"Moldova\",\"Mongolia\",\"Montenegro\",\"Morocco\",\"Mozambique\",\"Myanmar\",\"Namibia\",\"Nepal\",\"Netherlands\",\"New Zealand\",\"Nicaragua\",\"Niger\",\"Nigeria\",\"North Cyprus\",\"North Macedonia\",\"Northern Cyprus\",\"Norway\",\"Oman\",\"Pakistan\",\"Palestinian Territories\",\"Panama\",\"Paraguay\",\"Peru\",\"Philippines\",\"Poland\",\"Portugal\",\"Puerto Rico\",\"Qatar\",\"Romania\",\"Russia\",\"Rwanda\",\"Saudi Arabia\",\"Senegal\",\"Serbia\",\"Sierra Leone\",\"Singapore\",\"Slovakia\",\"Slovenia\",\"Somalia\",\"Somaliland Region\",\"Somaliland region\",\"South Africa\",\"South Korea\",\"South Sudan\",\"Spain\",\"Sri Lanka\",\"Sudan\",\"Suriname\",\"Swaziland\",\"Sweden\",\"Switzerland\",\"Syria\",\"Taiwan\",\"Taiwan Province of China\",\"Tajikistan\",\"Tanzania\",\"Thailand\",\"Togo\",\"Trinidad & Tobago\",\"Trinidad and Tobago\",\"Tunisia\",\"Turkey\",\"Turkmenistan\",\"Uganda\",\"Ukraine\",\"United Arab Emirates\",\"United Kingdom\",\"United States\",\"Uruguay\",\"Uzbekistan\",\"Venezuela\",\"Vietnam\",\"Yemen\",\"Zambia\",\"Zimbabwe\"],\"name\":\"\",\"z\":[3.512799982070922,4.712600010681152,5.667600043487548,3.872250019073488,6.459399995422364,4.3931999855041495,7.276199983978271,7.142000008392334,5.22920004119873,6.1137999786376955,4.580199960327148,5.597999953460694,6.92139995880127,5.955999950408938,3.90100001296997,5.124800031280517,5.813199990844725,5.161800032043457,3.830000006484986,6.6578000457763675,4.618600045013428,4.07380001296997,3.078999994277954,4.205400044250488,4.695800034332276,7.350599996948242,3.1342500195503225,4.003400021743774,6.5893999900817875,5.218999952697755,6.339999974822998,3.9616666666666664,4.377399977874756,4.346400041961671,7.126199999237061,5.458600044250488,5.732799962615966,6.654600041198731,7.5459999671936036,4.369,5.199400003814698,5.991999979400633,4.375200026702879,6.124199956512451,5.637800012207032,4.423200007629394,7.537799972534179,6.515199982452392,4.407800030517578,4.516,4.3387999549865714,6.92900004272461,4.536399977111816,5.152400047302246,6.34379999923706,3.853599993896484,3.8655999851226794,5.240800046539306,5.448,5.47200012207031,5.329399976348876,7.511000037384034,4.2978000114440915,5.2520000167846685,4.689199982452392,4.528400043487548,6.964400047302246,7.142199964141847,6.022400045013429,4.2731999656677235,5.661999974060057,5.9258000152587895,5.179599993133544,5.838399953460694,4.449399994659425,5.606199961090089,6.148600003814698,5.173400037384034,4.79275,5.676199980926514,5.1495999809265145,4.07900002193451,3.839199998474122,5.597000019073485,5.929799990081788,6.935999983215332,5.122000047683715,3.745400010681152,3.883000005722046,5.904000022125244,4.219000011444092,6.533999990081787,4.354999963378906,5.7066000373840335,6.725200013732911,5.758599964141846,5.02919998474121,5.291999997711182,5.17220002670288,4.601000047683715,4.38300001525879,4.556999970436095,4.812399978637696,7.404599971008301,7.313000025939942,6.027400019836426,4.104599975585939,5.127399976348876,5.758666647593181,5.274,5.7765,7.541000035858154,6.853,5.344000010681151,4.736600019073486,6.53800002822876,5.666600006103517,5.728400030517578,5.387399965667724,5.980800009918212,5.304600034332276,7.039,6.4218,5.698399961853028,5.798599964141846,3.4385999912261958,6.37599997253418,4.393999969482422,5.339199996185302,4.559200022125244,6.542800005340576,6.108400009918212,5.887999979400634,5.060250005722045,5.057,5.057,4.67519999923706,5.885399964141846,3.3825000200271598,6.351399975585938,4.392600011444092,4.24174998474121,6.269,4.5395,7.319199983978272,7.511399991607666,3.292199978637696,6.391,6.42199993133545,5.097799977874756,3.4659999954223637,6.28659995727539,3.5441999771118162,6.192,6.168000073750814,4.728399965667724,5.4154,5.582200005340576,4.020199970245362,4.307200038909912,6.744199952697754,6.910000045013428,6.998800006103517,6.4311999992370605,6.0462000389099115,5.5314,5.154599976348876,3.6257999870300304,4.584399987792968,4.006600000000001],\"type\":\"choropleth\"}],                        {\"template\":{\"data\":{\"histogram2dcontour\":[{\"type\":\"histogram2dcontour\",\"colorbar\":{\"outlinewidth\":0,\"ticks\":\"\"},\"colorscale\":[[0.0,\"#0d0887\"],[0.1111111111111111,\"#46039f\"],[0.2222222222222222,\"#7201a8\"],[0.3333333333333333,\"#9c179e\"],[0.4444444444444444,\"#bd3786\"],[0.5555555555555556,\"#d8576b\"],[0.6666666666666666,\"#ed7953\"],[0.7777777777777778,\"#fb9f3a\"],[0.8888888888888888,\"#fdca26\"],[1.0,\"#f0f921\"]]}],\"choropleth\":[{\"type\":\"choropleth\",\"colorbar\":{\"outlinewidth\":0,\"ticks\":\"\"}}],\"histogram2d\":[{\"type\":\"histogram2d\",\"colorbar\":{\"outlinewidth\":0,\"ticks\":\"\"},\"colorscale\":[[0.0,\"#0d0887\"],[0.1111111111111111,\"#46039f\"],[0.2222222222222222,\"#7201a8\"],[0.3333333333333333,\"#9c179e\"],[0.4444444444444444,\"#bd3786\"],[0.5555555555555556,\"#d8576b\"],[0.6666666666666666,\"#ed7953\"],[0.7777777777777778,\"#fb9f3a\"],[0.8888888888888888,\"#fdca26\"],[1.0,\"#f0f921\"]]}],\"heatmap\":[{\"type\":\"heatmap\",\"colorbar\":{\"outlinewidth\":0,\"ticks\":\"\"},\"colorscale\":[[0.0,\"#0d0887\"],[0.1111111111111111,\"#46039f\"],[0.2222222222222222,\"#7201a8\"],[0.3333333333333333,\"#9c179e\"],[0.4444444444444444,\"#bd3786\"],[0.5555555555555556,\"#d8576b\"],[0.6666666666666666,\"#ed7953\"],[0.7777777777777778,\"#fb9f3a\"],[0.8888888888888888,\"#fdca26\"],[1.0,\"#f0f921\"]]}],\"heatmapgl\":[{\"type\":\"heatmapgl\",\"colorbar\":{\"outlinewidth\":0,\"ticks\":\"\"},\"colorscale\":[[0.0,\"#0d0887\"],[0.1111111111111111,\"#46039f\"],[0.2222222222222222,\"#7201a8\"],[0.3333333333333333,\"#9c179e\"],[0.4444444444444444,\"#bd3786\"],[0.5555555555555556,\"#d8576b\"],[0.6666666666666666,\"#ed7953\"],[0.7777777777777778,\"#fb9f3a\"],[0.8888888888888888,\"#fdca26\"],[1.0,\"#f0f921\"]]}],\"contourcarpet\":[{\"type\":\"contourcarpet\",\"colorbar\":{\"outlinewidth\":0,\"ticks\":\"\"}}],\"contour\":[{\"type\":\"contour\",\"colorbar\":{\"outlinewidth\":0,\"ticks\":\"\"},\"colorscale\":[[0.0,\"#0d0887\"],[0.1111111111111111,\"#46039f\"],[0.2222222222222222,\"#7201a8\"],[0.3333333333333333,\"#9c179e\"],[0.4444444444444444,\"#bd3786\"],[0.5555555555555556,\"#d8576b\"],[0.6666666666666666,\"#ed7953\"],[0.7777777777777778,\"#fb9f3a\"],[0.8888888888888888,\"#fdca26\"],[1.0,\"#f0f921\"]]}],\"surface\":[{\"type\":\"surface\",\"colorbar\":{\"outlinewidth\":0,\"ticks\":\"\"},\"colorscale\":[[0.0,\"#0d0887\"],[0.1111111111111111,\"#46039f\"],[0.2222222222222222,\"#7201a8\"],[0.3333333333333333,\"#9c179e\"],[0.4444444444444444,\"#bd3786\"],[0.5555555555555556,\"#d8576b\"],[0.6666666666666666,\"#ed7953\"],[0.7777777777777778,\"#fb9f3a\"],[0.8888888888888888,\"#fdca26\"],[1.0,\"#f0f921\"]]}],\"mesh3d\":[{\"type\":\"mesh3d\",\"colorbar\":{\"outlinewidth\":0,\"ticks\":\"\"}}],\"scatter\":[{\"fillpattern\":{\"fillmode\":\"overlay\",\"size\":10,\"solidity\":0.2},\"type\":\"scatter\"}],\"parcoords\":[{\"type\":\"parcoords\",\"line\":{\"colorbar\":{\"outlinewidth\":0,\"ticks\":\"\"}}}],\"scatterpolargl\":[{\"type\":\"scatterpolargl\",\"marker\":{\"colorbar\":{\"outlinewidth\":0,\"ticks\":\"\"}}}],\"bar\":[{\"error_x\":{\"color\":\"#2a3f5f\"},\"error_y\":{\"color\":\"#2a3f5f\"},\"marker\":{\"line\":{\"color\":\"#E5ECF6\",\"width\":0.5},\"pattern\":{\"fillmode\":\"overlay\",\"size\":10,\"solidity\":0.2}},\"type\":\"bar\"}],\"scattergeo\":[{\"type\":\"scattergeo\",\"marker\":{\"colorbar\":{\"outlinewidth\":0,\"ticks\":\"\"}}}],\"scatterpolar\":[{\"type\":\"scatterpolar\",\"marker\":{\"colorbar\":{\"outlinewidth\":0,\"ticks\":\"\"}}}],\"histogram\":[{\"marker\":{\"pattern\":{\"fillmode\":\"overlay\",\"size\":10,\"solidity\":0.2}},\"type\":\"histogram\"}],\"scattergl\":[{\"type\":\"scattergl\",\"marker\":{\"colorbar\":{\"outlinewidth\":0,\"ticks\":\"\"}}}],\"scatter3d\":[{\"type\":\"scatter3d\",\"line\":{\"colorbar\":{\"outlinewidth\":0,\"ticks\":\"\"}},\"marker\":{\"colorbar\":{\"outlinewidth\":0,\"ticks\":\"\"}}}],\"scattermapbox\":[{\"type\":\"scattermapbox\",\"marker\":{\"colorbar\":{\"outlinewidth\":0,\"ticks\":\"\"}}}],\"scatterternary\":[{\"type\":\"scatterternary\",\"marker\":{\"colorbar\":{\"outlinewidth\":0,\"ticks\":\"\"}}}],\"scattercarpet\":[{\"type\":\"scattercarpet\",\"marker\":{\"colorbar\":{\"outlinewidth\":0,\"ticks\":\"\"}}}],\"carpet\":[{\"aaxis\":{\"endlinecolor\":\"#2a3f5f\",\"gridcolor\":\"white\",\"linecolor\":\"white\",\"minorgridcolor\":\"white\",\"startlinecolor\":\"#2a3f5f\"},\"baxis\":{\"endlinecolor\":\"#2a3f5f\",\"gridcolor\":\"white\",\"linecolor\":\"white\",\"minorgridcolor\":\"white\",\"startlinecolor\":\"#2a3f5f\"},\"type\":\"carpet\"}],\"table\":[{\"cells\":{\"fill\":{\"color\":\"#EBF0F8\"},\"line\":{\"color\":\"white\"}},\"header\":{\"fill\":{\"color\":\"#C8D4E3\"},\"line\":{\"color\":\"white\"}},\"type\":\"table\"}],\"barpolar\":[{\"marker\":{\"line\":{\"color\":\"#E5ECF6\",\"width\":0.5},\"pattern\":{\"fillmode\":\"overlay\",\"size\":10,\"solidity\":0.2}},\"type\":\"barpolar\"}],\"pie\":[{\"automargin\":true,\"type\":\"pie\"}]},\"layout\":{\"autotypenumbers\":\"strict\",\"colorway\":[\"#636efa\",\"#EF553B\",\"#00cc96\",\"#ab63fa\",\"#FFA15A\",\"#19d3f3\",\"#FF6692\",\"#B6E880\",\"#FF97FF\",\"#FECB52\"],\"font\":{\"color\":\"#2a3f5f\"},\"hovermode\":\"closest\",\"hoverlabel\":{\"align\":\"left\"},\"paper_bgcolor\":\"white\",\"plot_bgcolor\":\"#E5ECF6\",\"polar\":{\"bgcolor\":\"#E5ECF6\",\"angularaxis\":{\"gridcolor\":\"white\",\"linecolor\":\"white\",\"ticks\":\"\"},\"radialaxis\":{\"gridcolor\":\"white\",\"linecolor\":\"white\",\"ticks\":\"\"}},\"ternary\":{\"bgcolor\":\"#E5ECF6\",\"aaxis\":{\"gridcolor\":\"white\",\"linecolor\":\"white\",\"ticks\":\"\"},\"baxis\":{\"gridcolor\":\"white\",\"linecolor\":\"white\",\"ticks\":\"\"},\"caxis\":{\"gridcolor\":\"white\",\"linecolor\":\"white\",\"ticks\":\"\"}},\"coloraxis\":{\"colorbar\":{\"outlinewidth\":0,\"ticks\":\"\"}},\"colorscale\":{\"sequential\":[[0.0,\"#0d0887\"],[0.1111111111111111,\"#46039f\"],[0.2222222222222222,\"#7201a8\"],[0.3333333333333333,\"#9c179e\"],[0.4444444444444444,\"#bd3786\"],[0.5555555555555556,\"#d8576b\"],[0.6666666666666666,\"#ed7953\"],[0.7777777777777778,\"#fb9f3a\"],[0.8888888888888888,\"#fdca26\"],[1.0,\"#f0f921\"]],\"sequentialminus\":[[0.0,\"#0d0887\"],[0.1111111111111111,\"#46039f\"],[0.2222222222222222,\"#7201a8\"],[0.3333333333333333,\"#9c179e\"],[0.4444444444444444,\"#bd3786\"],[0.5555555555555556,\"#d8576b\"],[0.6666666666666666,\"#ed7953\"],[0.7777777777777778,\"#fb9f3a\"],[0.8888888888888888,\"#fdca26\"],[1.0,\"#f0f921\"]],\"diverging\":[[0,\"#8e0152\"],[0.1,\"#c51b7d\"],[0.2,\"#de77ae\"],[0.3,\"#f1b6da\"],[0.4,\"#fde0ef\"],[0.5,\"#f7f7f7\"],[0.6,\"#e6f5d0\"],[0.7,\"#b8e186\"],[0.8,\"#7fbc41\"],[0.9,\"#4d9221\"],[1,\"#276419\"]]},\"xaxis\":{\"gridcolor\":\"white\",\"linecolor\":\"white\",\"ticks\":\"\",\"title\":{\"standoff\":15},\"zerolinecolor\":\"white\",\"automargin\":true,\"zerolinewidth\":2},\"yaxis\":{\"gridcolor\":\"white\",\"linecolor\":\"white\",\"ticks\":\"\",\"title\":{\"standoff\":15},\"zerolinecolor\":\"white\",\"automargin\":true,\"zerolinewidth\":2},\"scene\":{\"xaxis\":{\"backgroundcolor\":\"#E5ECF6\",\"gridcolor\":\"white\",\"linecolor\":\"white\",\"showbackground\":true,\"ticks\":\"\",\"zerolinecolor\":\"white\",\"gridwidth\":2},\"yaxis\":{\"backgroundcolor\":\"#E5ECF6\",\"gridcolor\":\"white\",\"linecolor\":\"white\",\"showbackground\":true,\"ticks\":\"\",\"zerolinecolor\":\"white\",\"gridwidth\":2},\"zaxis\":{\"backgroundcolor\":\"#E5ECF6\",\"gridcolor\":\"white\",\"linecolor\":\"white\",\"showbackground\":true,\"ticks\":\"\",\"zerolinecolor\":\"white\",\"gridwidth\":2}},\"shapedefaults\":{\"line\":{\"color\":\"#2a3f5f\"}},\"annotationdefaults\":{\"arrowcolor\":\"#2a3f5f\",\"arrowhead\":0,\"arrowwidth\":1},\"geo\":{\"bgcolor\":\"white\",\"landcolor\":\"#E5ECF6\",\"subunitcolor\":\"white\",\"showland\":true,\"showlakes\":true,\"lakecolor\":\"white\"},\"title\":{\"x\":0.05},\"mapbox\":{\"style\":\"light\"}}},\"geo\":{\"domain\":{\"x\":[0.0,1.0],\"y\":[0.0,1.0]},\"center\":{},\"projection\":{\"type\":\"equirectangular\"},\"showframe\":false,\"showcoastlines\":false},\"coloraxis\":{\"colorbar\":{\"title\":{\"text\":\"Happiness Score\"},\"tickvals\":[3.078999994277954,7.5459999671936036],\"ticktext\":[\"Lowest\",\"Highest\"]},\"colorscale\":[[0.0,\"#440154\"],[0.1111111111111111,\"#482878\"],[0.2222222222222222,\"#3e4989\"],[0.3333333333333333,\"#31688e\"],[0.4444444444444444,\"#26828e\"],[0.5555555555555556,\"#1f9e89\"],[0.6666666666666666,\"#35b779\"],[0.7777777777777778,\"#6ece58\"],[0.8888888888888888,\"#b5de2b\"],[1.0,\"#fde725\"]]},\"legend\":{\"tracegroupgap\":0},\"title\":{\"text\":\"Average World Happiness Index (2015-2019)\"}},                        {\"responsive\": true}                    ).then(function(){\n",
       "                            \n",
       "var gd = document.getElementById('87e22950-8798-4472-9aaf-d7d5c6b21062');\n",
       "var x = new MutationObserver(function (mutations, observer) {{\n",
       "        var display = window.getComputedStyle(gd).display;\n",
       "        if (!display || display === 'none') {{\n",
       "            console.log([gd, 'removed!']);\n",
       "            Plotly.purge(gd);\n",
       "            observer.disconnect();\n",
       "        }}\n",
       "}});\n",
       "\n",
       "// Listen for the removal of the full notebook cells\n",
       "var notebookContainer = gd.closest('#notebook-container');\n",
       "if (notebookContainer) {{\n",
       "    x.observe(notebookContainer, {childList: true});\n",
       "}}\n",
       "\n",
       "// Listen for the clearing of the current output cell\n",
       "var outputEl = gd.closest('.output');\n",
       "if (outputEl) {{\n",
       "    x.observe(outputEl, {childList: true});\n",
       "}}\n",
       "\n",
       "                        })                };                });            </script>        </div>"
      ]
     },
     "metadata": {},
     "output_type": "display_data"
    }
   ],
   "source": [
    "import pandas as pd\n",
    "import zipfile\n",
    "import os\n",
    "import plotly.express as px\n",
    "\n",
    "zip_file_path = r\"C:\\Users\\shrut\\Downloads\\world happiness report.zip\"\n",
    "with zipfile.ZipFile(zip_file_path, 'r') as zip_ref:\n",
    "    zip_ref.extractall(\"world_happiness_data\")\n",
    "\n",
    "df_2015 = pd.read_csv(\"world_happiness_data/2015.csv\")\n",
    "df_2016 = pd.read_csv(\"world_happiness_data/2016.csv\")\n",
    "df_2017 = pd.read_csv(\"world_happiness_data/2017.csv\")\n",
    "df_2018 = pd.read_csv(\"world_happiness_data/2018.csv\")\n",
    "df_2019 = pd.read_csv(\"world_happiness_data/2019.csv\")\n",
    "\n",
    "df_2015.rename(columns={\"Country\": \"Country\", \"Happiness Score\": \"Happiness Score\"}, inplace=True)\n",
    "df_2016.rename(columns={\"Country\": \"Country\", \"Happiness Score\": \"Happiness Score\"}, inplace=True)\n",
    "df_2017.rename(columns={\"Country or region\": \"Country\", \"Happiness.Score\": \"Happiness Score\"}, inplace=True)\n",
    "df_2018.rename(columns={\"Country or region\": \"Country\", \"Score\": \"Happiness Score\"}, inplace=True)\n",
    "df_2019.rename(columns={\"Country or region\": \"Country\", \"Score\": \"Happiness Score\"}, inplace=True)\n",
    "\n",
    "all_years = pd.concat([\n",
    "    df_2015[['Country', 'Happiness Score']],\n",
    "    df_2016[['Country', 'Happiness Score']],\n",
    "    df_2017[['Country', 'Happiness Score']],\n",
    "    df_2018[['Country', 'Happiness Score']],\n",
    "    df_2019[['Country', 'Happiness Score']]\n",
    "])\n",
    "\n",
    "average_happiness = all_years.groupby('Country', as_index=False)['Happiness Score'].mean()\n",
    "\n",
    "fig_avg_happiness = px.choropleth(\n",
    "    average_happiness,\n",
    "    locations='Country',\n",
    "    locationmode='country names',\n",
    "    color='Happiness Score',\n",
    "    hover_name='Country',\n",
    "    color_continuous_scale=px.colors.sequential.Viridis,\n",
    "    title='Average World Happiness Index (2015-2019)'\n",
    ")\n",
    "\n",
    "fig_avg_happiness.update_layout(\n",
    "    geo=dict(\n",
    "        showframe=False,\n",
    "        showcoastlines=False,\n",
    "        projection_type='equirectangular'\n",
    "    ),\n",
    "    coloraxis_colorbar=dict(\n",
    "        title=\"Happiness Score\",\n",
    "        tickvals=[average_happiness['Happiness Score'].min(), average_happiness['Happiness Score'].max()],\n",
    "        ticktext=[\"Lowest\", \"Highest\"]\n",
    "    )\n",
    ")\n",
    "\n",
    "fig_avg_happiness.show()\n"
   ]
  },
  {
   "cell_type": "code",
   "execution_count": null,
   "id": "908df4b2-482e-4afe-ba84-669d6bac6b52",
   "metadata": {},
   "outputs": [],
   "source": []
  }
 ],
 "metadata": {
  "kernelspec": {
   "display_name": "base",
   "language": "python",
   "name": "python3"
  },
  "language_info": {
   "codemirror_mode": {
    "name": "ipython",
    "version": 3
   },
   "file_extension": ".py",
   "mimetype": "text/x-python",
   "name": "python",
   "nbconvert_exporter": "python",
   "pygments_lexer": "ipython3",
   "version": "3.12.4"
  }
 },
 "nbformat": 4,
 "nbformat_minor": 5
}
